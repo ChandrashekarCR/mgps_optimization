{
 "cells": [
  {
   "cell_type": "markdown",
   "metadata": {},
   "source": [
    "# Metasub data mGPS algorithm - 31/03/2025"
   ]
  },
  {
   "cell_type": "markdown",
   "metadata": {},
   "source": [
    "Here I am just trying to get the data pre-processing steps right. The idea for doing this is to get the dataset in the right format for easier analysis using neural networks."
   ]
  },
  {
   "cell_type": "markdown",
   "metadata": {},
   "source": [
    "## Pre-processing the data"
   ]
  },
  {
   "cell_type": "code",
   "execution_count": 2,
   "metadata": {},
   "outputs": [],
   "source": [
    "# Importing libraries\n",
    "import pandas as pd\n",
    "import numpy as np\n",
    "import os\n",
    "import matplotlib.pyplot as plt\n",
    "import seaborn as sns"
   ]
  },
  {
   "cell_type": "code",
   "execution_count": 2,
   "metadata": {},
   "outputs": [],
   "source": [
    "# Import datasets\n",
    "os.chdir(\"/home/chandru/binp37/\")\n",
    "# Read the metadata for the metasub data.\n",
    "complete_meta = pd.read_csv(\"./data/metasub/complete_metadata.csv\")\n",
    "taxa_abund = pd.read_csv(\"./data/metasub/metasub_taxa_abundance.csv\")\n",
    "taxa_abund = taxa_abund.drop_duplicates(subset=['uuid'])"
   ]
  },
  {
   "cell_type": "code",
   "execution_count": 14,
   "metadata": {},
   "outputs": [
    {
     "data": {
      "text/plain": [
       "(4288, 3711)"
      ]
     },
     "execution_count": 14,
     "metadata": {},
     "output_type": "execute_result"
    }
   ],
   "source": [
    "# Merge the bacterial and metadata\n",
    "metasub_data = pd.merge(complete_meta,taxa_abund,on='uuid')\n",
    "metasub_data.shape"
   ]
  },
  {
   "cell_type": "code",
   "execution_count": 15,
   "metadata": {},
   "outputs": [
    {
     "data": {
      "text/plain": [
       "(4157, 3711)"
      ]
     },
     "execution_count": 15,
     "metadata": {},
     "output_type": "execute_result"
    }
   ],
   "source": [
    "# Remove control samples\n",
    "control_cities = {'control','other_control','neg_control','other','pos_control'}\n",
    "control_types = {'ctrl cities','negative_control','positive_control'}\n",
    "\n",
    "mask = metasub_data['city'].isin(control_cities) | metasub_data['control_type'].isin(control_types)\n",
    "metasub_data = metasub_data[~mask].copy()\n",
    "metasub_data.shape"
   ]
  },
  {
   "cell_type": "code",
   "execution_count": 16,
   "metadata": {},
   "outputs": [
    {
     "data": {
      "text/plain": [
       "(4157, 3711)"
      ]
     },
     "execution_count": 16,
     "metadata": {},
     "output_type": "execute_result"
    }
   ],
   "source": [
    "#Re-label london boroughs\n",
    "metasub_data.loc[metasub_data['city'].isin(['kensington','islington']),'city'] = 'london'\n",
    "metasub_data.shape"
   ]
  },
  {
   "cell_type": "code",
   "execution_count": 17,
   "metadata": {},
   "outputs": [
    {
     "data": {
      "text/plain": [
       "(4070, 3711)"
      ]
     },
     "execution_count": 17,
     "metadata": {},
     "output_type": "execute_result"
    }
   ],
   "source": [
    "# Remove sparse sample locations and doubtful samples\n",
    "city_counts = metasub_data['city'].value_counts()\n",
    "small_cities = city_counts[city_counts<8].index.tolist()\n",
    "remove_samples = metasub_data['city'].isin(['antarctica']+small_cities)\n",
    "metasub_data = metasub_data[~remove_samples]\n",
    "metasub_data.shape"
   ]
  },
  {
   "cell_type": "code",
   "execution_count": 20,
   "metadata": {},
   "outputs": [
    {
     "data": {
      "text/plain": [
       "(4070, 3711)"
      ]
     },
     "execution_count": 20,
     "metadata": {},
     "output_type": "execute_result"
    }
   ],
   "source": [
    "# Correct the identified mislabeling of data\n",
    "kyiv_filter = metasub_data['city'] == 'kyiv'\n",
    "metasub_data.loc[kyiv_filter,'latitude'] = metasub_data.loc[kyiv_filter,'city_latitude'] # Set all the latitude to the city_latitude\n",
    "metasub_data.loc[kyiv_filter,'longitude'] = metasub_data.loc[kyiv_filter,'city_longitude'] # Set all the latitude to the city_longitutde\n",
    "\n",
    "metasub_data.shape"
   ]
  },
  {
   "cell_type": "code",
   "execution_count": 21,
   "metadata": {},
   "outputs": [
    {
     "data": {
      "text/plain": [
       "(4070, 3711)"
      ]
     },
     "execution_count": 21,
     "metadata": {},
     "output_type": "execute_result"
    }
   ],
   "source": [
    "# Fill missing latitude and longitude values with city-level data\n",
    "missing_lat = metasub_data[\"latitude\"].isna()\n",
    "missing_lon = metasub_data[\"longitude\"].isna()\n",
    "metasub_data.loc[missing_lat, \"latitude\"] = metasub_data.loc[missing_lat, \"city_latitude\"]\n",
    "metasub_data.loc[missing_lon, \"longitude\"] = metasub_data.loc[missing_lon, \"city_longitude\"]\n",
    "metasub_data.shape"
   ]
  },
  {
   "cell_type": "code",
   "execution_count": 22,
   "metadata": {},
   "outputs": [
    {
     "data": {
      "text/plain": [
       "(4070, 3711)"
      ]
     },
     "execution_count": 22,
     "metadata": {},
     "output_type": "execute_result"
    }
   ],
   "source": [
    "# Correction for incorrect London co-ordinates\n",
    "london_filter = metasub_data['city'] == 'london'\n",
    "metasub_data.loc[london_filter,'city_latitude'] = 51.50853\n",
    "metasub_data.loc[london_filter,'city_longitude'] = -0.12574\n",
    "metasub_data.shape"
   ]
  },
  {
   "cell_type": "code",
   "execution_count": 3,
   "metadata": {},
   "outputs": [],
   "source": [
    "df = pd.read_csv(\"/home/chandru/binp37/results/metasub/metasub_training_testing_data.csv\")\n",
    "df_new = pd.read_csv(\"/home/chandru/binp37/results/metasub/metasub_training_testing_data_new.csv\")"
   ]
  },
  {
   "cell_type": "code",
   "execution_count": 7,
   "metadata": {},
   "outputs": [
    {
     "name": "stdout",
     "output_type": "stream",
     "text": [
      "Common columns: {'Hymenobacter sp. PAMC 26554', 'Streptococcus suis', 'Brochothrix thermosphacta', 'Actinomyces radicidentis', 'Microbacterium sp. TPU 3598', 'Pantoea vagans', 'Pluralibacter gergoviae', 'Truepera radiovictrix', 'Corynebacterium efficiens', 'Stenotrophomonas rhizophila', 'Propionibacterium sp. oral taxon 193', 'Bacillus megaterium', 'Carnobacterium inhibens', 'Rhodococcus sp. B7740', 'Micrococcus luteus', 'Plautia stali symbiont', 'Staphylococcus epidermidis', 'Pseudomonas versuta', 'Acinetobacter pittii', 'Acinetobacter schindleri', 'Kocuria rhizophila', 'Rubrobacter xylanophilus', 'Rothia dentocariosa', 'Jeotgalibacillus malaysiensis', 'Human mastadenovirus C', 'Bradyrhizobium sp. SK17', 'Leclercia sp. LSNIH1', 'Pseudomonas putida', 'Mitsuaria sp. 7', 'Mycobacterium chimaera', 'Acinetobacter junii', 'Polaromonas naphthalenivorans', 'Klebsiella quasivariicola', 'Sphingomonas melonis', 'Enterobacter asburiae', 'Chryseobacterium taklimakanense', 'continent', 'Arsenicicoccus sp. oral taxon 190', 'Ralstonia pickettii', 'Staphylococcus aureus', 'Leishmania major', 'Chroococcidiopsis thermalis', 'Bradyrhizobium sp. BTAi1', 'Klebsiella pneumoniae', 'Alteromonas macleodii', 'Pseudomonas fluorescens', 'Leuconostoc mesenteroides', 'Pantoea sp. PSNIH1', 'Methylobacterium oryzae', 'Acinetobacter johnsonii', 'Rhodococcus fascians', 'Bacillus subtilis', 'Lactobacillus delbrueckii', 'Gordonia bronchialis', 'Brevundimonas sp. LM2', 'Rhodococcus sp. PBTS 1', 'Corynebacterium singulare', 'Propionibacterium virus P100A', 'Nakamurella multipartita', 'Methylobacterium extorquens', 'Bradyrhizobium diazoefficiens', 'Marinobacter hydrocarbonoclasticus', 'Rhodococcus erythropolis', 'Exiguobacterium sp. AT1b', 'Hydrogenophaga sp. RAC07', 'Pantoea agglomerans', 'Rathayibacter tritici', 'Kocuria flava', 'Escherichia coli', 'Streptococcus oralis', 'Stenotrophomonas maltophilia', 'Cutibacterium acnes', 'Paracoccus aminovorans', 'Brevundimonas naejangsanensis', 'Pseudomonas aeruginosa', 'Pseudomonas balearica', 'Microlunatus phosphovorus', 'Pseudomonas koreensis', 'Pseudomonas stutzeri', 'Moraxella osloensis', 'Hymenobacter sp. APR13', 'Enterococcus faecium', 'Brevundimonas sp. DS20', 'Corynebacterium variabile', 'Staphylococcus saprophyticus', 'Calothrix sp. NIES-4071', 'Paracoccus yeei', 'Pseudomonas sp. NC02', 'Chryseobacterium indologenes', 'Streptococcus thermophilus', 'Pseudomonas azotoformans', 'Pantoea sp. PSNIH2', 'Corynebacterium maris', 'Janibacter indicus', 'Listeria monocytogenes', 'Streptococcus gordonii', 'Deinococcus swuensis', 'Brevundimonas sp. GW460-12-10-14-LB2', 'city', 'Deinococcus gobiensis', 'Pseudomonas pseudoalcaligenes', 'Corynebacterium kroppenstedtii', 'Methylobacterium radiotolerans', 'Shewanella baltica', 'Microbacterium sp. PAMC 28756', 'Lactobacillus fermentum', 'latitude', 'Klebsiella quasipneumoniae', 'Streptococcus salivarius', 'Acidovorax sp. KKS102', 'Acinetobacter sp. LoGeW2-3', 'Acidovorax ebreus', 'Tessaracoccus flavus', 'Mycobacterium sp. QIA-37', 'Gordonia phage Phinally', 'Enterococcus faecalis', 'Roseomonas gilardii', 'Tessaracoccus sp. T2.5-30', 'Deinococcus radiodurans', 'Candida dubliniensis', 'Stenotrophomonas sp. LM091', 'Methylobacterium populi', 'Lactococcus lactis', 'Geodermatophilus obscurus', 'Dermacoccus nishinomiyaensis', 'Salmonella enterica', 'Staphylococcus capitis', 'Weissella cibaria', 'Enterobacter cloacae', 'Streptococcus mitis', 'Gordonia sp. KTR9', 'Spirosoma sp. HA7', 'Acinetobacter haemolyticus', 'Thermothelomyces thermophila', 'Cupriavidus metallidurans', 'Kosakonia cowanii', 'Ralstonia insidiosa', 'longitude', 'Corynebacterium callunae', 'Lactobacillus curvatus', 'Microbacterium aurum'}\n",
      "Unique columns in df: {'Massilia sp. B2', 'Lysobacter antibioticus', 'Erwinia billingiae', 'Pseudomonas rhizosphaerae', 'Clavibacter michiganensis', 'Paracoccus contaminans', 'Variovorax sp. PAMC 28711', 'Veillonella parvula', 'Microbacterium hominis', 'Cutibacterium avidum', 'Brevundimonas subvibrioides', 'Kocuria palustris', 'Staphylococcus hominis', 'Microbacterium sp. No. 7', 'Acidovorax sp. JS42', 'Nocardioides sp. 78', 'Rhodobacter sphaeroides', 'Methylobacterium phyllosphaerae', 'Acinetobacter baumannii', 'Hymenobacter sp. PAMC 26628', 'Brevundimonas vesicularis', 'Erwinia gerundensis', 'Pseudomonas fragi', 'Pseudomonas sp. ATCC 13867', 'Bradyrhizobium sp.', 'Roseomonas sp. FDAARGOS_362', 'Saccharomyces cerevisiae', 'Leclercia adecarboxylata', 'Lactobacillus plantarum', 'Thielavia terrestris', 'Aeromonas sp. ASNIH5', 'Roseateles depolymerans', 'Tsukamurella sp. MH1', 'Xanthomonas campestris', 'Modestobacter marinus', 'Kluyveromyces marxianus', 'Neisseria sicca', 'Rhodococcus sp. PBTS 2', 'Psychrobacter sp. DAB_AL43B', 'Pseudomonas mendocina', 'Methylobacterium sp. C1', 'Bradyrhizobium sp. S23321', 'Sphingopyxis macrogoltabida', 'Gordonia terrae', 'Methanobrevibacter millerae', 'Massilia putida', 'Raoultella planticola', 'Bradyrhizobium sp. CCGE-LA001', 'Variovorax boronicumulans', 'Diaphorobacter polyhydroxybutyrativorans', 'Variovorax paradoxus', 'Bradyrhizobium japonicum', 'Nocardioides sp. JS614', 'Massilia sp. WG5', 'Kytococcus sedentarius', 'Serinicoccus sp. JLT9', 'Staphylococcus haemolyticus', 'Lysinibacillus sp. YS11', 'Solibacillus silvestris', 'Corynebacterium ureicelerivorans', 'Paracoccus zhejiangensis', 'Streptococcus parasanguinis', 'Stenotrophomonas acidaminiphila'}\n",
      "Unique columns in df_new: {'Pseudomonas oryzihabitans', 'Gemmatirosa kalamazoonesis', 'Propionibacterium freudenreichii', 'Sphingopyxis fribergensis', 'Propionibacterium virus Pirate', 'Paenibacillus sp. Y412MC10', 'Auricoccus indicus', 'Bacillus flexus', 'Hymenobacter sedentarius', 'Microbacterium sp. BH-3-3-3', 'Vibrio cholerae', 'Lactobacillus zymae', 'Pseudomonas antarctica', 'Cellulosimicrobium sp. TH-20', 'Dietzia timorensis', 'Streptomyces sp. SCSIO 03032', 'Nocardioides dokdonensis', 'Acinetobacter lactucae', 'Nostoc flagelliforme', 'Streptococcus sanguinis', 'Luteimonas sp. 100111', 'Pseudarthrobacter phenanthrenivorans', 'Paracoccus sp. CBA4604', 'Janthinobacterium sp. 1_2014MBL_MicDiv', 'Arthrobacter sp. U41', 'Negativicoccus massiliensis', 'Comamonas serinivorans', 'Rothia mucilaginosa', 'Corynebacterium falsenii', 'Staphylococcus pasteuri', 'Oscillatoria nigro-viridis', 'Microbacterium sp. 1.5R', 'Polaromonas sp. JS666', 'Oligotropha carboxidovorans', 'Pseudomonas sp. URMO17WK12:I11', 'Deinococcus actinosclerus', 'Gloeocapsa sp. PCC 7428', 'Psychrobacter cryohalolentis', 'Microbacterium chocolatum', 'Celeribacter indicus', 'Acidipropionibacterium acidipropionici', 'Caulobacter vibrioides', 'Verminephrobacter eiseniae', 'Rhodoferax koreense', 'Serratia marcescens', 'Pseudomonas sp. LPH1', 'Halomonas hydrothermalis', 'Intrasporangium calvum', 'Dyella thiooxydans', 'Terribacillus aidingensis', 'Pseudoxanthomonas suwonensis', 'Rhodococcus qingshengii', 'Bosea sp. RAC05', 'Janthinobacterium agaricidamnosum', 'Cystobacter fuscus', 'Pantoea sp. At-9b', 'Carnobacterium sp. 17-4', 'Vibrio fluvialis', 'Lactobacillus amylovorus', 'Neomicrococcus aestuarii', 'Brachybacterium ginsengisoli', 'Nocardiopsis dassonvillei', 'Cronobacter sakazakii'}\n"
     ]
    }
   ],
   "source": [
    "# Fin the common columns\n",
    "common_columns = set(df.columns) & set(df_new.columns)\n",
    "print(f\"Common columns: {common_columns}\")\n",
    "\n",
    "# Find the unique columns in each DataFrame\n",
    "unique_df_columns = set(df.columns) - set(df_new.columns)\n",
    "unique_df_new_columns = set(df_new.columns) - set(df.columns)\n",
    "print(f\"Unique columns in df: {unique_df_columns}\")\n",
    "print(f\"Unique columns in df_new: {unique_df_new_columns}\")"
   ]
  },
  {
   "cell_type": "code",
   "execution_count": null,
   "metadata": {},
   "outputs": [],
   "source": []
  }
 ],
 "metadata": {
  "kernelspec": {
   "display_name": "binp37_env",
   "language": "python",
   "name": "python3"
  },
  "language_info": {
   "codemirror_mode": {
    "name": "ipython",
    "version": 3
   },
   "file_extension": ".py",
   "mimetype": "text/x-python",
   "name": "python",
   "nbconvert_exporter": "python",
   "pygments_lexer": "ipython3",
   "version": "3.13.5"
  }
 },
 "nbformat": 4,
 "nbformat_minor": 2
}
