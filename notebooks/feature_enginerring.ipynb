{
 "cells": [
  {
   "cell_type": "markdown",
   "metadata": {},
   "source": [
    "# Import libraries"
   ]
  },
  {
   "cell_type": "code",
   "execution_count": 1,
   "metadata": {},
   "outputs": [],
   "source": [
    "import pandas as pd\n",
    "import numpy as np\n",
    "import matplotlib.pyplot as plt\n",
    "import seaborn as sns\n",
    "from sklearn.cluster import KMeans\n",
    "import os\n",
    "import geopandas as gpd\n",
    "from Bio import Entrez\n",
    "import time\n",
    "from tqdm import tqdm\n",
    "import requests\n",
    "from Bio import Entrez\n",
    "import gzip\n",
    "import subprocess \n",
    "from scipy.spatial.distance import cdist"
   ]
  },
  {
   "cell_type": "markdown",
   "metadata": {},
   "source": [
    "# Read the data"
   ]
  },
  {
   "cell_type": "code",
   "execution_count": 2,
   "metadata": {},
   "outputs": [
    {
     "name": "stderr",
     "output_type": "stream",
     "text": [
      "/tmp/ipykernel_337048/4278898321.py:2: DtypeWarning: Columns (1,11,12,15,18,19,35,37,38,39,40) have mixed types. Specify dtype option on import or set low_memory=False.\n",
      "  df = pd.read_csv(\"/home/chandru/binp37/results/metasub/processed_metasub.csv\")\n"
     ]
    },
    {
     "data": {
      "text/html": [
       "<div>\n",
       "<style scoped>\n",
       "    .dataframe tbody tr th:only-of-type {\n",
       "        vertical-align: middle;\n",
       "    }\n",
       "\n",
       "    .dataframe tbody tr th {\n",
       "        vertical-align: top;\n",
       "    }\n",
       "\n",
       "    .dataframe thead th {\n",
       "        text-align: right;\n",
       "    }\n",
       "</style>\n",
       "<table border=\"1\" class=\"dataframe\">\n",
       "  <thead>\n",
       "    <tr style=\"text-align: right;\">\n",
       "      <th></th>\n",
       "      <th>uuid</th>\n",
       "      <th>metasub_name</th>\n",
       "      <th>core_project</th>\n",
       "      <th>project</th>\n",
       "      <th>city</th>\n",
       "      <th>city_code</th>\n",
       "      <th>latitude</th>\n",
       "      <th>longitude</th>\n",
       "      <th>surface_material</th>\n",
       "      <th>control_type</th>\n",
       "      <th>...</th>\n",
       "      <th>cyanobacterium endosymbiont of Epithemia turgida</th>\n",
       "      <th>endosymbiont 'TC1' of Trimyema compressum</th>\n",
       "      <th>endosymbiont of Acanthamoeba sp. UWC8</th>\n",
       "      <th>endosymbiont of unidentified scaly snail isolate Monju</th>\n",
       "      <th>gamma proteobacterium HdN1</th>\n",
       "      <th>halophilic archaeon DL31</th>\n",
       "      <th>halophilic archaeon True-ADL</th>\n",
       "      <th>secondary endosymbiont of Ctenarytaina eucalypti</th>\n",
       "      <th>secondary endosymbiont of Heteropsylla cubana</th>\n",
       "      <th>uncultured crAssphage</th>\n",
       "    </tr>\n",
       "  </thead>\n",
       "  <tbody>\n",
       "    <tr>\n",
       "      <th>0</th>\n",
       "      <td>haib17CEM4890_H75CGCCXY_SL263639</td>\n",
       "      <td>CSD16-HAM-001</td>\n",
       "      <td>core</td>\n",
       "      <td>CSD16</td>\n",
       "      <td>hamilton</td>\n",
       "      <td>HAM</td>\n",
       "      <td>-37.78333</td>\n",
       "      <td>175.28333</td>\n",
       "      <td>NaN</td>\n",
       "      <td>NaN</td>\n",
       "      <td>...</td>\n",
       "      <td>0.0</td>\n",
       "      <td>0.0</td>\n",
       "      <td>0.0</td>\n",
       "      <td>0.00000</td>\n",
       "      <td>0.0</td>\n",
       "      <td>0.0</td>\n",
       "      <td>0.0</td>\n",
       "      <td>0.0</td>\n",
       "      <td>0.0</td>\n",
       "      <td>0.0</td>\n",
       "    </tr>\n",
       "    <tr>\n",
       "      <th>1</th>\n",
       "      <td>haib17CEM4890_H75CGCCXY_SL263651</td>\n",
       "      <td>CSD16-HAM-006</td>\n",
       "      <td>core</td>\n",
       "      <td>CSD16</td>\n",
       "      <td>hamilton</td>\n",
       "      <td>HAM</td>\n",
       "      <td>-37.78333</td>\n",
       "      <td>175.28333</td>\n",
       "      <td>NaN</td>\n",
       "      <td>NaN</td>\n",
       "      <td>...</td>\n",
       "      <td>0.0</td>\n",
       "      <td>0.0</td>\n",
       "      <td>0.0</td>\n",
       "      <td>0.00001</td>\n",
       "      <td>0.0</td>\n",
       "      <td>0.0</td>\n",
       "      <td>0.0</td>\n",
       "      <td>0.0</td>\n",
       "      <td>0.0</td>\n",
       "      <td>0.0</td>\n",
       "    </tr>\n",
       "    <tr>\n",
       "      <th>2</th>\n",
       "      <td>haib17CEM4890_H75CGCCXY_SL263663</td>\n",
       "      <td>CSD16-HAM-008</td>\n",
       "      <td>core</td>\n",
       "      <td>CSD16</td>\n",
       "      <td>hamilton</td>\n",
       "      <td>HAM</td>\n",
       "      <td>-37.78333</td>\n",
       "      <td>175.28333</td>\n",
       "      <td>NaN</td>\n",
       "      <td>NaN</td>\n",
       "      <td>...</td>\n",
       "      <td>0.0</td>\n",
       "      <td>0.0</td>\n",
       "      <td>0.0</td>\n",
       "      <td>0.00002</td>\n",
       "      <td>0.0</td>\n",
       "      <td>0.0</td>\n",
       "      <td>0.0</td>\n",
       "      <td>0.0</td>\n",
       "      <td>0.0</td>\n",
       "      <td>0.0</td>\n",
       "    </tr>\n",
       "    <tr>\n",
       "      <th>3</th>\n",
       "      <td>haib17CEM4890_H75CGCCXY_SL263675</td>\n",
       "      <td>CSD16-HAM-012</td>\n",
       "      <td>core</td>\n",
       "      <td>CSD16</td>\n",
       "      <td>hamilton</td>\n",
       "      <td>HAM</td>\n",
       "      <td>-37.78333</td>\n",
       "      <td>175.28333</td>\n",
       "      <td>NaN</td>\n",
       "      <td>NaN</td>\n",
       "      <td>...</td>\n",
       "      <td>0.0</td>\n",
       "      <td>0.0</td>\n",
       "      <td>0.0</td>\n",
       "      <td>0.00002</td>\n",
       "      <td>0.0</td>\n",
       "      <td>0.0</td>\n",
       "      <td>0.0</td>\n",
       "      <td>0.0</td>\n",
       "      <td>0.0</td>\n",
       "      <td>0.0</td>\n",
       "    </tr>\n",
       "    <tr>\n",
       "      <th>4</th>\n",
       "      <td>haib17CEM4890_H75CGCCXY_SL263687</td>\n",
       "      <td>CSD16-HAM-015</td>\n",
       "      <td>core</td>\n",
       "      <td>CSD16</td>\n",
       "      <td>hamilton</td>\n",
       "      <td>HAM</td>\n",
       "      <td>-37.78333</td>\n",
       "      <td>175.28333</td>\n",
       "      <td>NaN</td>\n",
       "      <td>NaN</td>\n",
       "      <td>...</td>\n",
       "      <td>0.0</td>\n",
       "      <td>0.0</td>\n",
       "      <td>0.0</td>\n",
       "      <td>0.00000</td>\n",
       "      <td>0.0</td>\n",
       "      <td>0.0</td>\n",
       "      <td>0.0</td>\n",
       "      <td>0.0</td>\n",
       "      <td>0.0</td>\n",
       "      <td>0.0</td>\n",
       "    </tr>\n",
       "  </tbody>\n",
       "</table>\n",
       "<p>5 rows × 3711 columns</p>\n",
       "</div>"
      ],
      "text/plain": [
       "                               uuid   metasub_name core_project project  \\\n",
       "0  haib17CEM4890_H75CGCCXY_SL263639  CSD16-HAM-001         core   CSD16   \n",
       "1  haib17CEM4890_H75CGCCXY_SL263651  CSD16-HAM-006         core   CSD16   \n",
       "2  haib17CEM4890_H75CGCCXY_SL263663  CSD16-HAM-008         core   CSD16   \n",
       "3  haib17CEM4890_H75CGCCXY_SL263675  CSD16-HAM-012         core   CSD16   \n",
       "4  haib17CEM4890_H75CGCCXY_SL263687  CSD16-HAM-015         core   CSD16   \n",
       "\n",
       "       city city_code  latitude  longitude surface_material  control_type  \\\n",
       "0  hamilton       HAM -37.78333  175.28333              NaN           NaN   \n",
       "1  hamilton       HAM -37.78333  175.28333              NaN           NaN   \n",
       "2  hamilton       HAM -37.78333  175.28333              NaN           NaN   \n",
       "3  hamilton       HAM -37.78333  175.28333              NaN           NaN   \n",
       "4  hamilton       HAM -37.78333  175.28333              NaN           NaN   \n",
       "\n",
       "   ... cyanobacterium endosymbiont of Epithemia turgida  \\\n",
       "0  ...                                              0.0   \n",
       "1  ...                                              0.0   \n",
       "2  ...                                              0.0   \n",
       "3  ...                                              0.0   \n",
       "4  ...                                              0.0   \n",
       "\n",
       "  endosymbiont 'TC1' of Trimyema compressum  \\\n",
       "0                                       0.0   \n",
       "1                                       0.0   \n",
       "2                                       0.0   \n",
       "3                                       0.0   \n",
       "4                                       0.0   \n",
       "\n",
       "  endosymbiont of Acanthamoeba sp. UWC8  \\\n",
       "0                                   0.0   \n",
       "1                                   0.0   \n",
       "2                                   0.0   \n",
       "3                                   0.0   \n",
       "4                                   0.0   \n",
       "\n",
       "  endosymbiont of unidentified scaly snail isolate Monju  \\\n",
       "0                                            0.00000       \n",
       "1                                            0.00001       \n",
       "2                                            0.00002       \n",
       "3                                            0.00002       \n",
       "4                                            0.00000       \n",
       "\n",
       "   gamma proteobacterium HdN1 halophilic archaeon DL31  \\\n",
       "0                         0.0                      0.0   \n",
       "1                         0.0                      0.0   \n",
       "2                         0.0                      0.0   \n",
       "3                         0.0                      0.0   \n",
       "4                         0.0                      0.0   \n",
       "\n",
       "  halophilic archaeon True-ADL  \\\n",
       "0                          0.0   \n",
       "1                          0.0   \n",
       "2                          0.0   \n",
       "3                          0.0   \n",
       "4                          0.0   \n",
       "\n",
       "   secondary endosymbiont of Ctenarytaina eucalypti  \\\n",
       "0                                               0.0   \n",
       "1                                               0.0   \n",
       "2                                               0.0   \n",
       "3                                               0.0   \n",
       "4                                               0.0   \n",
       "\n",
       "  secondary endosymbiont of Heteropsylla cubana uncultured crAssphage  \n",
       "0                                           0.0                   0.0  \n",
       "1                                           0.0                   0.0  \n",
       "2                                           0.0                   0.0  \n",
       "3                                           0.0                   0.0  \n",
       "4                                           0.0                   0.0  \n",
       "\n",
       "[5 rows x 3711 columns]"
      ]
     },
     "execution_count": 2,
     "metadata": {},
     "output_type": "execute_result"
    }
   ],
   "source": [
    "# Read the data \n",
    "df = pd.read_csv(\"/home/chandru/binp37/results/metasub/processed_metasub.csv\")\n",
    "df.head()"
   ]
  },
  {
   "cell_type": "code",
   "execution_count": 3,
   "metadata": {},
   "outputs": [
    {
     "data": {
      "text/html": [
       "<div>\n",
       "<style scoped>\n",
       "    .dataframe tbody tr th:only-of-type {\n",
       "        vertical-align: middle;\n",
       "    }\n",
       "\n",
       "    .dataframe tbody tr th {\n",
       "        vertical-align: top;\n",
       "    }\n",
       "\n",
       "    .dataframe thead th {\n",
       "        text-align: right;\n",
       "    }\n",
       "</style>\n",
       "<table border=\"1\" class=\"dataframe\">\n",
       "  <thead>\n",
       "    <tr style=\"text-align: right;\">\n",
       "      <th></th>\n",
       "      <th>Acidovorax ebreus</th>\n",
       "      <th>Acidovorax sp. JS42</th>\n",
       "      <th>Acidovorax sp. KKS102</th>\n",
       "      <th>Acinetobacter baumannii</th>\n",
       "      <th>Acinetobacter haemolyticus</th>\n",
       "      <th>Acinetobacter johnsonii</th>\n",
       "      <th>Acinetobacter junii</th>\n",
       "      <th>Acinetobacter pittii</th>\n",
       "      <th>Acinetobacter schindleri</th>\n",
       "      <th>Acinetobacter sp. LoGeW2-3</th>\n",
       "      <th>...</th>\n",
       "      <th>Variovorax boronicumulans</th>\n",
       "      <th>Variovorax paradoxus</th>\n",
       "      <th>Variovorax sp. PAMC 28711</th>\n",
       "      <th>Veillonella parvula</th>\n",
       "      <th>Weissella cibaria</th>\n",
       "      <th>Xanthomonas campestris</th>\n",
       "      <th>continent</th>\n",
       "      <th>city</th>\n",
       "      <th>latitude</th>\n",
       "      <th>longitude</th>\n",
       "    </tr>\n",
       "  </thead>\n",
       "  <tbody>\n",
       "    <tr>\n",
       "      <th>0</th>\n",
       "      <td>0.00000</td>\n",
       "      <td>0.00000</td>\n",
       "      <td>0.00023</td>\n",
       "      <td>0.00015</td>\n",
       "      <td>0.00000</td>\n",
       "      <td>0.00006</td>\n",
       "      <td>0.00001</td>\n",
       "      <td>0.00007</td>\n",
       "      <td>0.00010</td>\n",
       "      <td>0.00005</td>\n",
       "      <td>...</td>\n",
       "      <td>0.00031</td>\n",
       "      <td>0.00075</td>\n",
       "      <td>0.00021</td>\n",
       "      <td>0.0</td>\n",
       "      <td>0.0</td>\n",
       "      <td>0.00480</td>\n",
       "      <td>oceania</td>\n",
       "      <td>hamilton</td>\n",
       "      <td>-37.78333</td>\n",
       "      <td>175.28333</td>\n",
       "    </tr>\n",
       "    <tr>\n",
       "      <th>1</th>\n",
       "      <td>0.00000</td>\n",
       "      <td>0.00001</td>\n",
       "      <td>0.00003</td>\n",
       "      <td>0.00028</td>\n",
       "      <td>0.00016</td>\n",
       "      <td>0.00142</td>\n",
       "      <td>0.00017</td>\n",
       "      <td>0.00013</td>\n",
       "      <td>0.00262</td>\n",
       "      <td>0.00140</td>\n",
       "      <td>...</td>\n",
       "      <td>0.00013</td>\n",
       "      <td>0.00024</td>\n",
       "      <td>0.00003</td>\n",
       "      <td>0.0</td>\n",
       "      <td>0.0</td>\n",
       "      <td>0.00091</td>\n",
       "      <td>oceania</td>\n",
       "      <td>hamilton</td>\n",
       "      <td>-37.78333</td>\n",
       "      <td>175.28333</td>\n",
       "    </tr>\n",
       "    <tr>\n",
       "      <th>2</th>\n",
       "      <td>0.00003</td>\n",
       "      <td>0.00000</td>\n",
       "      <td>0.00011</td>\n",
       "      <td>0.00181</td>\n",
       "      <td>0.00060</td>\n",
       "      <td>0.00274</td>\n",
       "      <td>0.00030</td>\n",
       "      <td>0.00110</td>\n",
       "      <td>0.00191</td>\n",
       "      <td>0.00132</td>\n",
       "      <td>...</td>\n",
       "      <td>0.00010</td>\n",
       "      <td>0.00025</td>\n",
       "      <td>0.00001</td>\n",
       "      <td>0.0</td>\n",
       "      <td>0.0</td>\n",
       "      <td>0.00208</td>\n",
       "      <td>oceania</td>\n",
       "      <td>hamilton</td>\n",
       "      <td>-37.78333</td>\n",
       "      <td>175.28333</td>\n",
       "    </tr>\n",
       "    <tr>\n",
       "      <th>3</th>\n",
       "      <td>0.00000</td>\n",
       "      <td>0.00000</td>\n",
       "      <td>0.00000</td>\n",
       "      <td>0.00002</td>\n",
       "      <td>0.00001</td>\n",
       "      <td>0.00003</td>\n",
       "      <td>0.00000</td>\n",
       "      <td>0.00000</td>\n",
       "      <td>0.00003</td>\n",
       "      <td>0.00001</td>\n",
       "      <td>...</td>\n",
       "      <td>0.00003</td>\n",
       "      <td>0.00002</td>\n",
       "      <td>0.00000</td>\n",
       "      <td>0.0</td>\n",
       "      <td>0.0</td>\n",
       "      <td>0.00137</td>\n",
       "      <td>oceania</td>\n",
       "      <td>hamilton</td>\n",
       "      <td>-37.78333</td>\n",
       "      <td>175.28333</td>\n",
       "    </tr>\n",
       "    <tr>\n",
       "      <th>4</th>\n",
       "      <td>0.00000</td>\n",
       "      <td>0.00000</td>\n",
       "      <td>0.00000</td>\n",
       "      <td>0.00003</td>\n",
       "      <td>0.00000</td>\n",
       "      <td>0.00000</td>\n",
       "      <td>0.00000</td>\n",
       "      <td>0.00002</td>\n",
       "      <td>0.00009</td>\n",
       "      <td>0.00001</td>\n",
       "      <td>...</td>\n",
       "      <td>0.00004</td>\n",
       "      <td>0.00008</td>\n",
       "      <td>0.00003</td>\n",
       "      <td>0.0</td>\n",
       "      <td>0.0</td>\n",
       "      <td>0.00397</td>\n",
       "      <td>oceania</td>\n",
       "      <td>hamilton</td>\n",
       "      <td>-37.78333</td>\n",
       "      <td>175.28333</td>\n",
       "    </tr>\n",
       "  </tbody>\n",
       "</table>\n",
       "<p>5 rows × 204 columns</p>\n",
       "</div>"
      ],
      "text/plain": [
       "   Acidovorax ebreus  Acidovorax sp. JS42  Acidovorax sp. KKS102  \\\n",
       "0            0.00000              0.00000                0.00023   \n",
       "1            0.00000              0.00001                0.00003   \n",
       "2            0.00003              0.00000                0.00011   \n",
       "3            0.00000              0.00000                0.00000   \n",
       "4            0.00000              0.00000                0.00000   \n",
       "\n",
       "   Acinetobacter baumannii  Acinetobacter haemolyticus  \\\n",
       "0                  0.00015                     0.00000   \n",
       "1                  0.00028                     0.00016   \n",
       "2                  0.00181                     0.00060   \n",
       "3                  0.00002                     0.00001   \n",
       "4                  0.00003                     0.00000   \n",
       "\n",
       "   Acinetobacter johnsonii  Acinetobacter junii  Acinetobacter pittii  \\\n",
       "0                  0.00006              0.00001               0.00007   \n",
       "1                  0.00142              0.00017               0.00013   \n",
       "2                  0.00274              0.00030               0.00110   \n",
       "3                  0.00003              0.00000               0.00000   \n",
       "4                  0.00000              0.00000               0.00002   \n",
       "\n",
       "   Acinetobacter schindleri  Acinetobacter sp. LoGeW2-3  ...  \\\n",
       "0                   0.00010                     0.00005  ...   \n",
       "1                   0.00262                     0.00140  ...   \n",
       "2                   0.00191                     0.00132  ...   \n",
       "3                   0.00003                     0.00001  ...   \n",
       "4                   0.00009                     0.00001  ...   \n",
       "\n",
       "   Variovorax boronicumulans  Variovorax paradoxus  Variovorax sp. PAMC 28711  \\\n",
       "0                    0.00031               0.00075                    0.00021   \n",
       "1                    0.00013               0.00024                    0.00003   \n",
       "2                    0.00010               0.00025                    0.00001   \n",
       "3                    0.00003               0.00002                    0.00000   \n",
       "4                    0.00004               0.00008                    0.00003   \n",
       "\n",
       "   Veillonella parvula  Weissella cibaria  Xanthomonas campestris  continent  \\\n",
       "0                  0.0                0.0                 0.00480    oceania   \n",
       "1                  0.0                0.0                 0.00091    oceania   \n",
       "2                  0.0                0.0                 0.00208    oceania   \n",
       "3                  0.0                0.0                 0.00137    oceania   \n",
       "4                  0.0                0.0                 0.00397    oceania   \n",
       "\n",
       "       city  latitude  longitude  \n",
       "0  hamilton -37.78333  175.28333  \n",
       "1  hamilton -37.78333  175.28333  \n",
       "2  hamilton -37.78333  175.28333  \n",
       "3  hamilton -37.78333  175.28333  \n",
       "4  hamilton -37.78333  175.28333  \n",
       "\n",
       "[5 rows x 204 columns]"
      ]
     },
     "execution_count": 3,
     "metadata": {},
     "output_type": "execute_result"
    }
   ],
   "source": [
    "rfe_df = pd.read_csv(\"/home/chandru/binp37/results/metasub/metasub_training_testing_data.csv\")\n",
    "rfe_df.head()"
   ]
  },
  {
   "cell_type": "markdown",
   "metadata": {},
   "source": [
    "# Geograpical features"
   ]
  },
  {
   "cell_type": "code",
   "execution_count": 4,
   "metadata": {},
   "outputs": [
    {
     "data": {
      "text/html": [
       "<div>\n",
       "<style scoped>\n",
       "    .dataframe tbody tr th:only-of-type {\n",
       "        vertical-align: middle;\n",
       "    }\n",
       "\n",
       "    .dataframe tbody tr th {\n",
       "        vertical-align: top;\n",
       "    }\n",
       "\n",
       "    .dataframe thead th {\n",
       "        text-align: right;\n",
       "    }\n",
       "</style>\n",
       "<table border=\"1\" class=\"dataframe\">\n",
       "  <thead>\n",
       "    <tr style=\"text-align: right;\">\n",
       "      <th></th>\n",
       "      <th>city_total_population</th>\n",
       "      <th>city_population_density</th>\n",
       "      <th>city_land_area_km2</th>\n",
       "      <th>city_ave_june_temp_c</th>\n",
       "      <th>city_elevation_meters</th>\n",
       "      <th>city_koppen_climate</th>\n",
       "      <th>continent</th>\n",
       "      <th>city</th>\n",
       "      <th>latitude</th>\n",
       "      <th>longitude</th>\n",
       "    </tr>\n",
       "  </thead>\n",
       "  <tbody>\n",
       "    <tr>\n",
       "      <th>0</th>\n",
       "      <td>203100.0</td>\n",
       "      <td>230.0</td>\n",
       "      <td>877.0</td>\n",
       "      <td>17.8</td>\n",
       "      <td>95.0</td>\n",
       "      <td>marine_west_coast_climate</td>\n",
       "      <td>oceania</td>\n",
       "      <td>hamilton</td>\n",
       "      <td>-37.78333</td>\n",
       "      <td>175.28333</td>\n",
       "    </tr>\n",
       "    <tr>\n",
       "      <th>1</th>\n",
       "      <td>203100.0</td>\n",
       "      <td>230.0</td>\n",
       "      <td>877.0</td>\n",
       "      <td>17.8</td>\n",
       "      <td>95.0</td>\n",
       "      <td>marine_west_coast_climate</td>\n",
       "      <td>oceania</td>\n",
       "      <td>hamilton</td>\n",
       "      <td>-37.78333</td>\n",
       "      <td>175.28333</td>\n",
       "    </tr>\n",
       "    <tr>\n",
       "      <th>2</th>\n",
       "      <td>203100.0</td>\n",
       "      <td>230.0</td>\n",
       "      <td>877.0</td>\n",
       "      <td>17.8</td>\n",
       "      <td>95.0</td>\n",
       "      <td>marine_west_coast_climate</td>\n",
       "      <td>oceania</td>\n",
       "      <td>hamilton</td>\n",
       "      <td>-37.78333</td>\n",
       "      <td>175.28333</td>\n",
       "    </tr>\n",
       "    <tr>\n",
       "      <th>3</th>\n",
       "      <td>203100.0</td>\n",
       "      <td>230.0</td>\n",
       "      <td>877.0</td>\n",
       "      <td>17.8</td>\n",
       "      <td>95.0</td>\n",
       "      <td>marine_west_coast_climate</td>\n",
       "      <td>oceania</td>\n",
       "      <td>hamilton</td>\n",
       "      <td>-37.78333</td>\n",
       "      <td>175.28333</td>\n",
       "    </tr>\n",
       "    <tr>\n",
       "      <th>4</th>\n",
       "      <td>203100.0</td>\n",
       "      <td>230.0</td>\n",
       "      <td>877.0</td>\n",
       "      <td>17.8</td>\n",
       "      <td>95.0</td>\n",
       "      <td>marine_west_coast_climate</td>\n",
       "      <td>oceania</td>\n",
       "      <td>hamilton</td>\n",
       "      <td>-37.78333</td>\n",
       "      <td>175.28333</td>\n",
       "    </tr>\n",
       "  </tbody>\n",
       "</table>\n",
       "</div>"
      ],
      "text/plain": [
       "   city_total_population  city_population_density  city_land_area_km2  \\\n",
       "0               203100.0                    230.0               877.0   \n",
       "1               203100.0                    230.0               877.0   \n",
       "2               203100.0                    230.0               877.0   \n",
       "3               203100.0                    230.0               877.0   \n",
       "4               203100.0                    230.0               877.0   \n",
       "\n",
       "   city_ave_june_temp_c  city_elevation_meters        city_koppen_climate  \\\n",
       "0                  17.8                   95.0  marine_west_coast_climate   \n",
       "1                  17.8                   95.0  marine_west_coast_climate   \n",
       "2                  17.8                   95.0  marine_west_coast_climate   \n",
       "3                  17.8                   95.0  marine_west_coast_climate   \n",
       "4                  17.8                   95.0  marine_west_coast_climate   \n",
       "\n",
       "  continent      city  latitude  longitude  \n",
       "0   oceania  hamilton -37.78333  175.28333  \n",
       "1   oceania  hamilton -37.78333  175.28333  \n",
       "2   oceania  hamilton -37.78333  175.28333  \n",
       "3   oceania  hamilton -37.78333  175.28333  \n",
       "4   oceania  hamilton -37.78333  175.28333  "
      ]
     },
     "execution_count": 4,
     "metadata": {},
     "output_type": "execute_result"
    }
   ],
   "source": [
    "feature_data = df[['city_total_population','city_population_density',\n",
    "                  'city_land_area_km2','city_ave_june_temp_c','city_elevation_meters','city_koppen_climate','continent','city','latitude','longitude']]\n",
    "\n",
    "# Fix city elevation of hanoi, yamaguchi in meters\n",
    "feature_data.loc[feature_data['city'] == 'hanoi','city_elevation_meters'] = 12\n",
    "feature_data.loc[feature_data['city'] == 'yamaguchi','city_elevation_meters'] = 23\n",
    "feature_data.loc[feature_data['city'] == 'marseille','city_elevation_meters'] = 42 # city elevation of marseille on google is 42 m here it is 0\n",
    "\n",
    "# Get city population density, city ladn ares in km2, city avg temp in june and city elevation in meters of offa \n",
    "offa_data = {\n",
    "    'city_population_density': 2500.0,\n",
    "    'city_land_area_km2': 74.0,\n",
    "    'city_ave_june_temp_c': 28.0,\n",
    "    'city_elevation_meters': 457.0\n",
    "}\n",
    "\n",
    "feature_data.loc[feature_data['city'] == 'offa', list(offa_data.keys())] = list(offa_data.values())\n",
    "\n",
    "# Get city land area in km2 of marseille  \n",
    "feature_data.loc[feature_data['city'] == 'marseille','city_land_area_km2'] = 240\n",
    "\n",
    "# Fix all the nan values of london\n",
    "london_data = {\n",
    "    'city_total_population': 8787892.0,\n",
    "    'city_population_density': 5590.0,\n",
    "    'city_land_area_km2': 1572.0,\n",
    "    'city_ave_june_temp_c': 14.4,\n",
    "    'city_elevation_meters': 11.0,\n",
    "    'city_koppen_climate': 'marine_west_coast_climate'\n",
    "}\n",
    "feature_data.loc[feature_data['city'] == 'london', list(london_data.keys())] = list(london_data.values())\n",
    "\n",
    "\n",
    "feature_data.head()"
   ]
  },
  {
   "cell_type": "markdown",
   "metadata": {},
   "source": [
    "## Scaling the features"
   ]
  },
  {
   "cell_type": "code",
   "execution_count": 5,
   "metadata": {},
   "outputs": [],
   "source": [
    "# Check for skewness in the data before appling long transformer -> \n",
    "# Note to self: The city_land_area_km2 is right skewed, so we will go with log scale transformation\n",
    "#             : THe city_elevation_meters is multi modal there we will go with QuantileTransformer\n"
   ]
  },
  {
   "cell_type": "markdown",
   "metadata": {},
   "source": [
    "# Microbiome features"
   ]
  },
  {
   "cell_type": "code",
   "execution_count": 6,
   "metadata": {},
   "outputs": [
    {
     "data": {
      "text/html": [
       "<div>\n",
       "<style scoped>\n",
       "    .dataframe tbody tr th:only-of-type {\n",
       "        vertical-align: middle;\n",
       "    }\n",
       "\n",
       "    .dataframe tbody tr th {\n",
       "        vertical-align: top;\n",
       "    }\n",
       "\n",
       "    .dataframe thead th {\n",
       "        text-align: right;\n",
       "    }\n",
       "</style>\n",
       "<table border=\"1\" class=\"dataframe\">\n",
       "  <thead>\n",
       "    <tr style=\"text-align: right;\">\n",
       "      <th></th>\n",
       "      <th>Acidovorax ebreus</th>\n",
       "      <th>Acidovorax sp. JS42</th>\n",
       "      <th>Acidovorax sp. KKS102</th>\n",
       "      <th>Acinetobacter baumannii</th>\n",
       "      <th>Acinetobacter haemolyticus</th>\n",
       "      <th>Acinetobacter johnsonii</th>\n",
       "      <th>Acinetobacter junii</th>\n",
       "      <th>Acinetobacter pittii</th>\n",
       "      <th>Acinetobacter schindleri</th>\n",
       "      <th>Acinetobacter sp. LoGeW2-3</th>\n",
       "      <th>...</th>\n",
       "      <th>Thermothelomyces thermophila</th>\n",
       "      <th>Thielavia terrestris</th>\n",
       "      <th>Truepera radiovictrix</th>\n",
       "      <th>Tsukamurella sp. MH1</th>\n",
       "      <th>Variovorax boronicumulans</th>\n",
       "      <th>Variovorax paradoxus</th>\n",
       "      <th>Variovorax sp. PAMC 28711</th>\n",
       "      <th>Veillonella parvula</th>\n",
       "      <th>Weissella cibaria</th>\n",
       "      <th>Xanthomonas campestris</th>\n",
       "    </tr>\n",
       "  </thead>\n",
       "  <tbody>\n",
       "    <tr>\n",
       "      <th>0</th>\n",
       "      <td>0.00000</td>\n",
       "      <td>0.00000</td>\n",
       "      <td>0.00023</td>\n",
       "      <td>0.00015</td>\n",
       "      <td>0.00000</td>\n",
       "      <td>0.00006</td>\n",
       "      <td>0.00001</td>\n",
       "      <td>0.00007</td>\n",
       "      <td>0.00010</td>\n",
       "      <td>0.00005</td>\n",
       "      <td>...</td>\n",
       "      <td>0.00000</td>\n",
       "      <td>0.00000</td>\n",
       "      <td>0.00000</td>\n",
       "      <td>0.00000</td>\n",
       "      <td>0.00031</td>\n",
       "      <td>0.00075</td>\n",
       "      <td>0.00021</td>\n",
       "      <td>0.00000</td>\n",
       "      <td>0.00000</td>\n",
       "      <td>0.00480</td>\n",
       "    </tr>\n",
       "    <tr>\n",
       "      <th>1</th>\n",
       "      <td>0.00000</td>\n",
       "      <td>0.00001</td>\n",
       "      <td>0.00003</td>\n",
       "      <td>0.00028</td>\n",
       "      <td>0.00016</td>\n",
       "      <td>0.00142</td>\n",
       "      <td>0.00017</td>\n",
       "      <td>0.00013</td>\n",
       "      <td>0.00262</td>\n",
       "      <td>0.00140</td>\n",
       "      <td>...</td>\n",
       "      <td>0.00001</td>\n",
       "      <td>0.00001</td>\n",
       "      <td>0.00000</td>\n",
       "      <td>0.00000</td>\n",
       "      <td>0.00013</td>\n",
       "      <td>0.00024</td>\n",
       "      <td>0.00003</td>\n",
       "      <td>0.00000</td>\n",
       "      <td>0.00000</td>\n",
       "      <td>0.00091</td>\n",
       "    </tr>\n",
       "    <tr>\n",
       "      <th>2</th>\n",
       "      <td>0.00003</td>\n",
       "      <td>0.00000</td>\n",
       "      <td>0.00011</td>\n",
       "      <td>0.00181</td>\n",
       "      <td>0.00060</td>\n",
       "      <td>0.00274</td>\n",
       "      <td>0.00030</td>\n",
       "      <td>0.00110</td>\n",
       "      <td>0.00191</td>\n",
       "      <td>0.00132</td>\n",
       "      <td>...</td>\n",
       "      <td>0.00000</td>\n",
       "      <td>0.00002</td>\n",
       "      <td>0.00000</td>\n",
       "      <td>0.00000</td>\n",
       "      <td>0.00010</td>\n",
       "      <td>0.00025</td>\n",
       "      <td>0.00001</td>\n",
       "      <td>0.00000</td>\n",
       "      <td>0.00000</td>\n",
       "      <td>0.00208</td>\n",
       "    </tr>\n",
       "    <tr>\n",
       "      <th>3</th>\n",
       "      <td>0.00000</td>\n",
       "      <td>0.00000</td>\n",
       "      <td>0.00000</td>\n",
       "      <td>0.00002</td>\n",
       "      <td>0.00001</td>\n",
       "      <td>0.00003</td>\n",
       "      <td>0.00000</td>\n",
       "      <td>0.00000</td>\n",
       "      <td>0.00003</td>\n",
       "      <td>0.00001</td>\n",
       "      <td>...</td>\n",
       "      <td>0.00001</td>\n",
       "      <td>0.00000</td>\n",
       "      <td>0.00000</td>\n",
       "      <td>0.00000</td>\n",
       "      <td>0.00003</td>\n",
       "      <td>0.00002</td>\n",
       "      <td>0.00000</td>\n",
       "      <td>0.00000</td>\n",
       "      <td>0.00000</td>\n",
       "      <td>0.00137</td>\n",
       "    </tr>\n",
       "    <tr>\n",
       "      <th>4</th>\n",
       "      <td>0.00000</td>\n",
       "      <td>0.00000</td>\n",
       "      <td>0.00000</td>\n",
       "      <td>0.00003</td>\n",
       "      <td>0.00000</td>\n",
       "      <td>0.00000</td>\n",
       "      <td>0.00000</td>\n",
       "      <td>0.00002</td>\n",
       "      <td>0.00009</td>\n",
       "      <td>0.00001</td>\n",
       "      <td>...</td>\n",
       "      <td>0.00000</td>\n",
       "      <td>0.00000</td>\n",
       "      <td>0.00000</td>\n",
       "      <td>0.00000</td>\n",
       "      <td>0.00004</td>\n",
       "      <td>0.00008</td>\n",
       "      <td>0.00003</td>\n",
       "      <td>0.00000</td>\n",
       "      <td>0.00000</td>\n",
       "      <td>0.00397</td>\n",
       "    </tr>\n",
       "    <tr>\n",
       "      <th>...</th>\n",
       "      <td>...</td>\n",
       "      <td>...</td>\n",
       "      <td>...</td>\n",
       "      <td>...</td>\n",
       "      <td>...</td>\n",
       "      <td>...</td>\n",
       "      <td>...</td>\n",
       "      <td>...</td>\n",
       "      <td>...</td>\n",
       "      <td>...</td>\n",
       "      <td>...</td>\n",
       "      <td>...</td>\n",
       "      <td>...</td>\n",
       "      <td>...</td>\n",
       "      <td>...</td>\n",
       "      <td>...</td>\n",
       "      <td>...</td>\n",
       "      <td>...</td>\n",
       "      <td>...</td>\n",
       "      <td>...</td>\n",
       "      <td>...</td>\n",
       "    </tr>\n",
       "    <tr>\n",
       "      <th>4065</th>\n",
       "      <td>0.00044</td>\n",
       "      <td>0.00052</td>\n",
       "      <td>0.00019</td>\n",
       "      <td>0.00072</td>\n",
       "      <td>0.00015</td>\n",
       "      <td>0.01410</td>\n",
       "      <td>0.00036</td>\n",
       "      <td>0.00046</td>\n",
       "      <td>0.00052</td>\n",
       "      <td>0.00024</td>\n",
       "      <td>...</td>\n",
       "      <td>0.00091</td>\n",
       "      <td>0.00124</td>\n",
       "      <td>0.00009</td>\n",
       "      <td>0.00000</td>\n",
       "      <td>0.00037</td>\n",
       "      <td>0.00107</td>\n",
       "      <td>0.00016</td>\n",
       "      <td>0.00042</td>\n",
       "      <td>0.00013</td>\n",
       "      <td>0.00132</td>\n",
       "    </tr>\n",
       "    <tr>\n",
       "      <th>4066</th>\n",
       "      <td>0.00000</td>\n",
       "      <td>0.00000</td>\n",
       "      <td>0.00022</td>\n",
       "      <td>0.00014</td>\n",
       "      <td>0.00000</td>\n",
       "      <td>0.00019</td>\n",
       "      <td>0.00000</td>\n",
       "      <td>0.00000</td>\n",
       "      <td>0.00000</td>\n",
       "      <td>0.00000</td>\n",
       "      <td>...</td>\n",
       "      <td>0.01762</td>\n",
       "      <td>0.00703</td>\n",
       "      <td>0.00000</td>\n",
       "      <td>0.00105</td>\n",
       "      <td>0.00147</td>\n",
       "      <td>0.00350</td>\n",
       "      <td>0.00113</td>\n",
       "      <td>0.00012</td>\n",
       "      <td>0.00002</td>\n",
       "      <td>0.00079</td>\n",
       "    </tr>\n",
       "    <tr>\n",
       "      <th>4067</th>\n",
       "      <td>0.00003</td>\n",
       "      <td>0.00002</td>\n",
       "      <td>0.00002</td>\n",
       "      <td>0.00018</td>\n",
       "      <td>0.00009</td>\n",
       "      <td>0.00055</td>\n",
       "      <td>0.00006</td>\n",
       "      <td>0.00019</td>\n",
       "      <td>0.00009</td>\n",
       "      <td>0.00001</td>\n",
       "      <td>...</td>\n",
       "      <td>0.00023</td>\n",
       "      <td>0.00031</td>\n",
       "      <td>0.00002</td>\n",
       "      <td>0.00006</td>\n",
       "      <td>0.00005</td>\n",
       "      <td>0.00016</td>\n",
       "      <td>0.00011</td>\n",
       "      <td>0.00057</td>\n",
       "      <td>0.00001</td>\n",
       "      <td>0.00043</td>\n",
       "    </tr>\n",
       "    <tr>\n",
       "      <th>4068</th>\n",
       "      <td>0.00026</td>\n",
       "      <td>0.00038</td>\n",
       "      <td>0.00051</td>\n",
       "      <td>0.00009</td>\n",
       "      <td>0.00000</td>\n",
       "      <td>0.00025</td>\n",
       "      <td>0.00004</td>\n",
       "      <td>0.00010</td>\n",
       "      <td>0.00006</td>\n",
       "      <td>0.00000</td>\n",
       "      <td>...</td>\n",
       "      <td>0.00443</td>\n",
       "      <td>0.00535</td>\n",
       "      <td>0.00000</td>\n",
       "      <td>0.00186</td>\n",
       "      <td>0.00128</td>\n",
       "      <td>0.00304</td>\n",
       "      <td>0.00126</td>\n",
       "      <td>0.00013</td>\n",
       "      <td>0.00008</td>\n",
       "      <td>0.00106</td>\n",
       "    </tr>\n",
       "    <tr>\n",
       "      <th>4069</th>\n",
       "      <td>0.00044</td>\n",
       "      <td>0.00080</td>\n",
       "      <td>0.00053</td>\n",
       "      <td>0.01328</td>\n",
       "      <td>0.00040</td>\n",
       "      <td>0.00609</td>\n",
       "      <td>0.00104</td>\n",
       "      <td>0.00134</td>\n",
       "      <td>0.00056</td>\n",
       "      <td>0.00007</td>\n",
       "      <td>...</td>\n",
       "      <td>0.00185</td>\n",
       "      <td>0.00138</td>\n",
       "      <td>0.00004</td>\n",
       "      <td>0.00014</td>\n",
       "      <td>0.00053</td>\n",
       "      <td>0.00140</td>\n",
       "      <td>0.00093</td>\n",
       "      <td>0.00167</td>\n",
       "      <td>0.00009</td>\n",
       "      <td>0.00226</td>\n",
       "    </tr>\n",
       "  </tbody>\n",
       "</table>\n",
       "<p>4070 rows × 200 columns</p>\n",
       "</div>"
      ],
      "text/plain": [
       "      Acidovorax ebreus  Acidovorax sp. JS42  Acidovorax sp. KKS102  \\\n",
       "0               0.00000              0.00000                0.00023   \n",
       "1               0.00000              0.00001                0.00003   \n",
       "2               0.00003              0.00000                0.00011   \n",
       "3               0.00000              0.00000                0.00000   \n",
       "4               0.00000              0.00000                0.00000   \n",
       "...                 ...                  ...                    ...   \n",
       "4065            0.00044              0.00052                0.00019   \n",
       "4066            0.00000              0.00000                0.00022   \n",
       "4067            0.00003              0.00002                0.00002   \n",
       "4068            0.00026              0.00038                0.00051   \n",
       "4069            0.00044              0.00080                0.00053   \n",
       "\n",
       "      Acinetobacter baumannii  Acinetobacter haemolyticus  \\\n",
       "0                     0.00015                     0.00000   \n",
       "1                     0.00028                     0.00016   \n",
       "2                     0.00181                     0.00060   \n",
       "3                     0.00002                     0.00001   \n",
       "4                     0.00003                     0.00000   \n",
       "...                       ...                         ...   \n",
       "4065                  0.00072                     0.00015   \n",
       "4066                  0.00014                     0.00000   \n",
       "4067                  0.00018                     0.00009   \n",
       "4068                  0.00009                     0.00000   \n",
       "4069                  0.01328                     0.00040   \n",
       "\n",
       "      Acinetobacter johnsonii  Acinetobacter junii  Acinetobacter pittii  \\\n",
       "0                     0.00006              0.00001               0.00007   \n",
       "1                     0.00142              0.00017               0.00013   \n",
       "2                     0.00274              0.00030               0.00110   \n",
       "3                     0.00003              0.00000               0.00000   \n",
       "4                     0.00000              0.00000               0.00002   \n",
       "...                       ...                  ...                   ...   \n",
       "4065                  0.01410              0.00036               0.00046   \n",
       "4066                  0.00019              0.00000               0.00000   \n",
       "4067                  0.00055              0.00006               0.00019   \n",
       "4068                  0.00025              0.00004               0.00010   \n",
       "4069                  0.00609              0.00104               0.00134   \n",
       "\n",
       "      Acinetobacter schindleri  Acinetobacter sp. LoGeW2-3  ...  \\\n",
       "0                      0.00010                     0.00005  ...   \n",
       "1                      0.00262                     0.00140  ...   \n",
       "2                      0.00191                     0.00132  ...   \n",
       "3                      0.00003                     0.00001  ...   \n",
       "4                      0.00009                     0.00001  ...   \n",
       "...                        ...                         ...  ...   \n",
       "4065                   0.00052                     0.00024  ...   \n",
       "4066                   0.00000                     0.00000  ...   \n",
       "4067                   0.00009                     0.00001  ...   \n",
       "4068                   0.00006                     0.00000  ...   \n",
       "4069                   0.00056                     0.00007  ...   \n",
       "\n",
       "      Thermothelomyces thermophila  Thielavia terrestris  \\\n",
       "0                          0.00000               0.00000   \n",
       "1                          0.00001               0.00001   \n",
       "2                          0.00000               0.00002   \n",
       "3                          0.00001               0.00000   \n",
       "4                          0.00000               0.00000   \n",
       "...                            ...                   ...   \n",
       "4065                       0.00091               0.00124   \n",
       "4066                       0.01762               0.00703   \n",
       "4067                       0.00023               0.00031   \n",
       "4068                       0.00443               0.00535   \n",
       "4069                       0.00185               0.00138   \n",
       "\n",
       "      Truepera radiovictrix  Tsukamurella sp. MH1  Variovorax boronicumulans  \\\n",
       "0                   0.00000               0.00000                    0.00031   \n",
       "1                   0.00000               0.00000                    0.00013   \n",
       "2                   0.00000               0.00000                    0.00010   \n",
       "3                   0.00000               0.00000                    0.00003   \n",
       "4                   0.00000               0.00000                    0.00004   \n",
       "...                     ...                   ...                        ...   \n",
       "4065                0.00009               0.00000                    0.00037   \n",
       "4066                0.00000               0.00105                    0.00147   \n",
       "4067                0.00002               0.00006                    0.00005   \n",
       "4068                0.00000               0.00186                    0.00128   \n",
       "4069                0.00004               0.00014                    0.00053   \n",
       "\n",
       "      Variovorax paradoxus  Variovorax sp. PAMC 28711  Veillonella parvula  \\\n",
       "0                  0.00075                    0.00021              0.00000   \n",
       "1                  0.00024                    0.00003              0.00000   \n",
       "2                  0.00025                    0.00001              0.00000   \n",
       "3                  0.00002                    0.00000              0.00000   \n",
       "4                  0.00008                    0.00003              0.00000   \n",
       "...                    ...                        ...                  ...   \n",
       "4065               0.00107                    0.00016              0.00042   \n",
       "4066               0.00350                    0.00113              0.00012   \n",
       "4067               0.00016                    0.00011              0.00057   \n",
       "4068               0.00304                    0.00126              0.00013   \n",
       "4069               0.00140                    0.00093              0.00167   \n",
       "\n",
       "      Weissella cibaria  Xanthomonas campestris  \n",
       "0               0.00000                 0.00480  \n",
       "1               0.00000                 0.00091  \n",
       "2               0.00000                 0.00208  \n",
       "3               0.00000                 0.00137  \n",
       "4               0.00000                 0.00397  \n",
       "...                 ...                     ...  \n",
       "4065            0.00013                 0.00132  \n",
       "4066            0.00002                 0.00079  \n",
       "4067            0.00001                 0.00043  \n",
       "4068            0.00008                 0.00106  \n",
       "4069            0.00009                 0.00226  \n",
       "\n",
       "[4070 rows x 200 columns]"
      ]
     },
     "execution_count": 6,
     "metadata": {},
     "output_type": "execute_result"
    }
   ],
   "source": [
    "# We can get the raw sequence of all these top hundered species and get a phylogenetic tree to determine the relationship between species.\n",
    "# We can then use the information as well as a feature to predict the lat and long.\n",
    "\n",
    "microbe_data = rfe_df.iloc[:,:-4]\n",
    "microbe_data"
   ]
  },
  {
   "cell_type": "markdown",
   "metadata": {},
   "source": [
    "## Phylogenetic Trees"
   ]
  },
  {
   "cell_type": "code",
   "execution_count": null,
   "metadata": {},
   "outputs": [
    {
     "data": {
      "text/html": [
       "<div>\n",
       "<style scoped>\n",
       "    .dataframe tbody tr th:only-of-type {\n",
       "        vertical-align: middle;\n",
       "    }\n",
       "\n",
       "    .dataframe tbody tr th {\n",
       "        vertical-align: top;\n",
       "    }\n",
       "\n",
       "    .dataframe thead th {\n",
       "        text-align: right;\n",
       "    }\n",
       "</style>\n",
       "<table border=\"1\" class=\"dataframe\">\n",
       "  <thead>\n",
       "    <tr style=\"text-align: right;\">\n",
       "      <th></th>\n",
       "      <th>Species</th>\n",
       "      <th>Rank_1</th>\n",
       "      <th>Rank_2</th>\n",
       "      <th>Rank_3</th>\n",
       "      <th>Rank_4</th>\n",
       "      <th>Rank_5</th>\n",
       "      <th>Rank_6</th>\n",
       "    </tr>\n",
       "  </thead>\n",
       "  <tbody>\n",
       "    <tr>\n",
       "      <th>36</th>\n",
       "      <td>Acidovorax ebreus</td>\n",
       "      <td>cellular organisms</td>\n",
       "      <td>Bacteria</td>\n",
       "      <td>Pseudomonadati</td>\n",
       "      <td>Pseudomonadota</td>\n",
       "      <td>Betaproteobacteria</td>\n",
       "      <td>Burkholderiales</td>\n",
       "    </tr>\n",
       "    <tr>\n",
       "      <th>37</th>\n",
       "      <td>Acidovorax sp. JS42</td>\n",
       "      <td>cellular organisms</td>\n",
       "      <td>Bacteria</td>\n",
       "      <td>Pseudomonadati</td>\n",
       "      <td>Pseudomonadota</td>\n",
       "      <td>Betaproteobacteria</td>\n",
       "      <td>Burkholderiales</td>\n",
       "    </tr>\n",
       "    <tr>\n",
       "      <th>38</th>\n",
       "      <td>Acidovorax sp. KKS102</td>\n",
       "      <td>cellular organisms</td>\n",
       "      <td>Bacteria</td>\n",
       "      <td>Pseudomonadati</td>\n",
       "      <td>Pseudomonadota</td>\n",
       "      <td>Betaproteobacteria</td>\n",
       "      <td>Burkholderiales</td>\n",
       "    </tr>\n",
       "    <tr>\n",
       "      <th>44</th>\n",
       "      <td>Acinetobacter baumannii</td>\n",
       "      <td>cellular organisms</td>\n",
       "      <td>Bacteria</td>\n",
       "      <td>Pseudomonadati</td>\n",
       "      <td>Pseudomonadota</td>\n",
       "      <td>Gammaproteobacteria</td>\n",
       "      <td>Moraxellales</td>\n",
       "    </tr>\n",
       "    <tr>\n",
       "      <th>48</th>\n",
       "      <td>Acinetobacter haemolyticus</td>\n",
       "      <td>cellular organisms</td>\n",
       "      <td>Bacteria</td>\n",
       "      <td>Pseudomonadati</td>\n",
       "      <td>Pseudomonadota</td>\n",
       "      <td>Gammaproteobacteria</td>\n",
       "      <td>Moraxellales</td>\n",
       "    </tr>\n",
       "  </tbody>\n",
       "</table>\n",
       "</div>"
      ],
      "text/plain": [
       "                       Species              Rank_1    Rank_2          Rank_3  \\\n",
       "36           Acidovorax ebreus  cellular organisms  Bacteria  Pseudomonadati   \n",
       "37         Acidovorax sp. JS42  cellular organisms  Bacteria  Pseudomonadati   \n",
       "38       Acidovorax sp. KKS102  cellular organisms  Bacteria  Pseudomonadati   \n",
       "44     Acinetobacter baumannii  cellular organisms  Bacteria  Pseudomonadati   \n",
       "48  Acinetobacter haemolyticus  cellular organisms  Bacteria  Pseudomonadati   \n",
       "\n",
       "            Rank_4               Rank_5           Rank_6  \n",
       "36  Pseudomonadota   Betaproteobacteria  Burkholderiales  \n",
       "37  Pseudomonadota   Betaproteobacteria  Burkholderiales  \n",
       "38  Pseudomonadota   Betaproteobacteria  Burkholderiales  \n",
       "44  Pseudomonadota  Gammaproteobacteria     Moraxellales  \n",
       "48  Pseudomonadota  Gammaproteobacteria     Moraxellales  "
      ]
     },
     "execution_count": 21,
     "metadata": {},
     "output_type": "execute_result"
    }
   ],
   "source": [
    "species_list = []\n",
    "for name in microbe_data.columns:\n",
    "    species_list.append(name)\n",
    "    \n",
    "\n",
    "tax_df = pd.read_csv(\"/home/chandru/binp37/results/metasub/taxonomic_info.csv\")\n",
    "lin_df = tax_df[tax_df['Species'].isin(species_list)].dropna(axis=1,how='all')\n",
    "lin_df = lin_df.dropna(subset=lin_df.columns[1:7]).iloc[:,:7]\n",
    "lin_df.head()"
   ]
  },
  {
   "cell_type": "code",
   "execution_count": 33,
   "metadata": {},
   "outputs": [
    {
     "data": {
      "text/plain": [
       "(array(['Viruses', 'cellular organisms'], dtype=object), array([  3, 193]))"
      ]
     },
     "execution_count": 33,
     "metadata": {},
     "output_type": "execute_result"
    }
   ],
   "source": [
    "np.unique(lin_df['Rank_1'],return_counts=True)"
   ]
  },
  {
   "cell_type": "code",
   "execution_count": null,
   "metadata": {},
   "outputs": [
    {
     "data": {
      "text/plain": [
       "['Acidovorax ebreus',\n",
       " 'Acidovorax sp. JS42',\n",
       " 'Acidovorax sp. KKS102',\n",
       " 'Acinetobacter baumannii',\n",
       " 'Acinetobacter haemolyticus',\n",
       " 'Acinetobacter johnsonii',\n",
       " 'Acinetobacter junii',\n",
       " 'Acinetobacter pittii',\n",
       " 'Acinetobacter schindleri',\n",
       " 'Acinetobacter sp. LoGeW2-3',\n",
       " 'Actinomyces radicidentis',\n",
       " 'Aeromonas sp. ASNIH5',\n",
       " 'Alteromonas macleodii',\n",
       " 'Arsenicicoccus sp. oral taxon 190',\n",
       " 'Bacillus megaterium',\n",
       " 'Bacillus subtilis',\n",
       " 'Bradyrhizobium diazoefficiens',\n",
       " 'Bradyrhizobium japonicum',\n",
       " 'Bradyrhizobium sp.',\n",
       " 'Bradyrhizobium sp. BTAi1',\n",
       " 'Bradyrhizobium sp. CCGE-LA001',\n",
       " 'Bradyrhizobium sp. S23321',\n",
       " 'Bradyrhizobium sp. SK17',\n",
       " 'Brevundimonas naejangsanensis',\n",
       " 'Brevundimonas sp. DS20',\n",
       " 'Brevundimonas sp. GW460-12-10-14-LB2',\n",
       " 'Brevundimonas sp. LM2',\n",
       " 'Brevundimonas subvibrioides',\n",
       " 'Brevundimonas vesicularis',\n",
       " 'Brochothrix thermosphacta',\n",
       " 'Calothrix sp. NIES-4071',\n",
       " 'Candida dubliniensis',\n",
       " 'Carnobacterium inhibens',\n",
       " 'Chroococcidiopsis thermalis',\n",
       " 'Chryseobacterium indologenes',\n",
       " 'Chryseobacterium taklimakanense',\n",
       " 'Clavibacter michiganensis',\n",
       " 'Corynebacterium callunae',\n",
       " 'Corynebacterium efficiens',\n",
       " 'Corynebacterium kroppenstedtii',\n",
       " 'Corynebacterium maris',\n",
       " 'Corynebacterium singulare',\n",
       " 'Corynebacterium ureicelerivorans',\n",
       " 'Corynebacterium variabile',\n",
       " 'Cupriavidus metallidurans',\n",
       " 'Cutibacterium acnes',\n",
       " 'Cutibacterium avidum',\n",
       " 'Deinococcus gobiensis',\n",
       " 'Deinococcus radiodurans',\n",
       " 'Deinococcus swuensis',\n",
       " 'Dermacoccus nishinomiyaensis',\n",
       " 'Diaphorobacter polyhydroxybutyrativorans',\n",
       " 'Enterobacter asburiae',\n",
       " 'Enterobacter cloacae',\n",
       " 'Enterococcus faecalis',\n",
       " 'Enterococcus faecium',\n",
       " 'Erwinia billingiae',\n",
       " 'Erwinia gerundensis',\n",
       " 'Escherichia coli',\n",
       " 'Exiguobacterium sp. AT1b',\n",
       " 'Geodermatophilus obscurus',\n",
       " 'Gordonia bronchialis',\n",
       " 'Gordonia phage Phinally',\n",
       " 'Gordonia sp. KTR9',\n",
       " 'Gordonia terrae',\n",
       " 'Human mastadenovirus C',\n",
       " 'Hydrogenophaga sp. RAC07',\n",
       " 'Hymenobacter sp. APR13',\n",
       " 'Hymenobacter sp. PAMC 26554',\n",
       " 'Hymenobacter sp. PAMC 26628',\n",
       " 'Janibacter indicus',\n",
       " 'Jeotgalibacillus malaysiensis',\n",
       " 'Klebsiella pneumoniae',\n",
       " 'Klebsiella quasipneumoniae',\n",
       " 'Klebsiella quasivariicola',\n",
       " 'Kluyveromyces marxianus',\n",
       " 'Kocuria flava',\n",
       " 'Kocuria palustris',\n",
       " 'Kocuria rhizophila',\n",
       " 'Kosakonia cowanii',\n",
       " 'Kytococcus sedentarius',\n",
       " 'Lactobacillus curvatus',\n",
       " 'Lactobacillus delbrueckii',\n",
       " 'Lactobacillus fermentum',\n",
       " 'Lactococcus lactis',\n",
       " 'Leclercia adecarboxylata',\n",
       " 'Leclercia sp. LSNIH1',\n",
       " 'Leishmania major',\n",
       " 'Leuconostoc mesenteroides',\n",
       " 'Listeria monocytogenes',\n",
       " 'Lysinibacillus sp. YS11',\n",
       " 'Lysobacter antibioticus',\n",
       " 'Marinobacter hydrocarbonoclasticus',\n",
       " 'Massilia putida',\n",
       " 'Massilia sp. B2',\n",
       " 'Massilia sp. WG5',\n",
       " 'Methanobrevibacter millerae',\n",
       " 'Methylobacterium extorquens',\n",
       " 'Methylobacterium oryzae',\n",
       " 'Methylobacterium phyllosphaerae',\n",
       " 'Methylobacterium populi',\n",
       " 'Methylobacterium radiotolerans',\n",
       " 'Methylobacterium sp. C1',\n",
       " 'Microbacterium aurum',\n",
       " 'Microbacterium hominis',\n",
       " 'Microbacterium sp. No. 7',\n",
       " 'Microbacterium sp. PAMC 28756',\n",
       " 'Microbacterium sp. TPU 3598',\n",
       " 'Micrococcus luteus',\n",
       " 'Microlunatus phosphovorus',\n",
       " 'Mitsuaria sp. 7',\n",
       " 'Modestobacter marinus',\n",
       " 'Moraxella osloensis',\n",
       " 'Mycobacterium chimaera',\n",
       " 'Mycobacterium sp. QIA-37',\n",
       " 'Nakamurella multipartita',\n",
       " 'Neisseria sicca',\n",
       " 'Nocardioides sp. 78',\n",
       " 'Nocardioides sp. JS614',\n",
       " 'Pantoea agglomerans',\n",
       " 'Pantoea sp. PSNIH1',\n",
       " 'Pantoea sp. PSNIH2',\n",
       " 'Pantoea vagans',\n",
       " 'Paracoccus aminovorans',\n",
       " 'Paracoccus contaminans',\n",
       " 'Paracoccus yeei',\n",
       " 'Paracoccus zhejiangensis',\n",
       " 'Plautia stali symbiont',\n",
       " 'Pluralibacter gergoviae',\n",
       " 'Polaromonas naphthalenivorans',\n",
       " 'Propionibacterium sp. oral taxon 193',\n",
       " 'Propionibacterium virus P100A',\n",
       " 'Pseudomonas aeruginosa',\n",
       " 'Pseudomonas azotoformans',\n",
       " 'Pseudomonas balearica',\n",
       " 'Pseudomonas fluorescens',\n",
       " 'Pseudomonas fragi',\n",
       " 'Pseudomonas koreensis',\n",
       " 'Pseudomonas mendocina',\n",
       " 'Pseudomonas pseudoalcaligenes',\n",
       " 'Pseudomonas putida',\n",
       " 'Pseudomonas rhizosphaerae',\n",
       " 'Pseudomonas sp. ATCC 13867',\n",
       " 'Pseudomonas sp. NC02',\n",
       " 'Pseudomonas versuta',\n",
       " 'Psychrobacter sp. DAB_AL43B',\n",
       " 'Ralstonia insidiosa',\n",
       " 'Ralstonia pickettii',\n",
       " 'Raoultella planticola',\n",
       " 'Rathayibacter tritici',\n",
       " 'Rhodobacter sphaeroides',\n",
       " 'Rhodococcus erythropolis',\n",
       " 'Rhodococcus sp. B7740',\n",
       " 'Rhodococcus sp. PBTS 1',\n",
       " 'Rhodococcus sp. PBTS 2',\n",
       " 'Roseateles depolymerans',\n",
       " 'Roseomonas gilardii',\n",
       " 'Roseomonas sp. FDAARGOS_362',\n",
       " 'Rothia dentocariosa',\n",
       " 'Rubrobacter xylanophilus',\n",
       " 'Saccharomyces cerevisiae',\n",
       " 'Salmonella enterica',\n",
       " 'Serinicoccus sp. JLT9',\n",
       " 'Shewanella baltica',\n",
       " 'Solibacillus silvestris',\n",
       " 'Sphingomonas melonis',\n",
       " 'Sphingopyxis macrogoltabida',\n",
       " 'Spirosoma sp. HA7',\n",
       " 'Staphylococcus aureus',\n",
       " 'Staphylococcus capitis',\n",
       " 'Staphylococcus epidermidis',\n",
       " 'Staphylococcus haemolyticus',\n",
       " 'Staphylococcus hominis',\n",
       " 'Staphylococcus saprophyticus',\n",
       " 'Stenotrophomonas acidaminiphila',\n",
       " 'Stenotrophomonas maltophilia',\n",
       " 'Stenotrophomonas rhizophila',\n",
       " 'Stenotrophomonas sp. LM091',\n",
       " 'Streptococcus gordonii',\n",
       " 'Streptococcus mitis',\n",
       " 'Streptococcus oralis',\n",
       " 'Streptococcus parasanguinis',\n",
       " 'Streptococcus salivarius',\n",
       " 'Streptococcus suis',\n",
       " 'Streptococcus thermophilus',\n",
       " 'Tessaracoccus flavus',\n",
       " 'Tessaracoccus sp. T2.5-30',\n",
       " 'Thielavia terrestris',\n",
       " 'Truepera radiovictrix',\n",
       " 'Tsukamurella sp. MH1',\n",
       " 'Variovorax boronicumulans',\n",
       " 'Variovorax paradoxus',\n",
       " 'Variovorax sp. PAMC 28711',\n",
       " 'Veillonella parvula',\n",
       " 'Weissella cibaria',\n",
       " 'Xanthomonas campestris']"
      ]
     },
     "execution_count": 29,
     "metadata": {},
     "output_type": "execute_result"
    }
   ],
   "source": [
    "filtered_species_list = list(lin_df['Species'].values)\n",
    "filtered_species_list[:5]"
   ]
  },
  {
   "cell_type": "code",
   "execution_count": 31,
   "metadata": {},
   "outputs": [
    {
     "name": "stdout",
     "output_type": "stream",
     "text": [
      "\n",
      "Starting genome download process...\n"
     ]
    },
    {
     "name": "stderr",
     "output_type": "stream",
     "text": [
      "Overall Genome Download Progress:   0%|          | 0/196 [00:00<?, ?it/s]"
     ]
    },
    {
     "name": "stdout",
     "output_type": "stream",
     "text": [
      "\n",
      "Processing species: Acidovorax ebreus\n",
      "Searching for 'Acidovorax ebreus' with term: '\"Acidovorax ebreus\"[Organism] AND \"complete genome\"[Assembly Level]'\n",
      "Found assembly ID: 43248 for Acidovorax ebreus\n",
      "Attempting to download from: ftp://ftp.ncbi.nlm.nih.gov/genomes/all/GCF/000/022/305/GCF_000022305.1_ASM2230v1/GCF_000022305.1_ASM2230v1_genomic.fna.gz\n",
      "Using wget for FTP download: ftp://ftp.ncbi.nlm.nih.gov/genomes/all/GCF/000/022/305/GCF_000022305.1_ASM2230v1/GCF_000022305.1_ASM2230v1_genomic.fna.gz\n",
      "Downloaded Acidovorax ebreus to genomes/Acidovorax_ebreus.fna.gz using wget.\n",
      "Decompressing genomes/Acidovorax_ebreus.fna.gz...\n",
      "Decompressed to genomes/Acidovorax_ebreus.fna\n"
     ]
    },
    {
     "name": "stderr",
     "output_type": "stream",
     "text": [
      "Overall Genome Download Progress:   1%|          | 1/196 [00:05<16:35,  5.10s/it]"
     ]
    },
    {
     "name": "stdout",
     "output_type": "stream",
     "text": [
      "\n",
      "Processing species: Acidovorax sp. JS42\n",
      "Searching for 'Acidovorax sp. JS42' with term: '\"Acidovorax sp. JS42\"[Organism] AND \"complete genome\"[Assembly Level]'\n",
      "Found assembly ID: 36648 for Acidovorax sp. JS42\n",
      "Attempting to download from: ftp://ftp.ncbi.nlm.nih.gov/genomes/all/GCF/000/015/545/GCF_000015545.1_ASM1554v1/GCF_000015545.1_ASM1554v1_genomic.fna.gz\n",
      "Using wget for FTP download: ftp://ftp.ncbi.nlm.nih.gov/genomes/all/GCF/000/015/545/GCF_000015545.1_ASM1554v1/GCF_000015545.1_ASM1554v1_genomic.fna.gz\n",
      "Downloaded Acidovorax sp. JS42 to genomes/Acidovorax_sp._JS42.fna.gz using wget.\n",
      "Decompressing genomes/Acidovorax_sp._JS42.fna.gz...\n",
      "Decompressed to genomes/Acidovorax_sp._JS42.fna\n"
     ]
    },
    {
     "name": "stderr",
     "output_type": "stream",
     "text": [
      "Overall Genome Download Progress:   1%|          | 2/196 [00:09<16:05,  4.98s/it]"
     ]
    },
    {
     "name": "stdout",
     "output_type": "stream",
     "text": [
      "\n",
      "Processing species: Acidovorax sp. KKS102\n",
      "Searching for 'Acidovorax sp. KKS102' with term: '\"Acidovorax sp. KKS102\"[Organism] AND \"complete genome\"[Assembly Level]'\n",
      "Found assembly ID: 438548 for Acidovorax sp. KKS102\n",
      "Attempting to download from: ftp://ftp.ncbi.nlm.nih.gov/genomes/all/GCF/000/302/535/GCF_000302535.1_ASM30253v1/GCF_000302535.1_ASM30253v1_genomic.fna.gz\n",
      "Using wget for FTP download: ftp://ftp.ncbi.nlm.nih.gov/genomes/all/GCF/000/302/535/GCF_000302535.1_ASM30253v1/GCF_000302535.1_ASM30253v1_genomic.fna.gz\n",
      "Downloaded Acidovorax sp. KKS102 to genomes/Acidovorax_sp._KKS102.fna.gz using wget.\n",
      "Decompressing genomes/Acidovorax_sp._KKS102.fna.gz...\n",
      "Decompressed to genomes/Acidovorax_sp._KKS102.fna\n"
     ]
    },
    {
     "name": "stderr",
     "output_type": "stream",
     "text": [
      "Overall Genome Download Progress:   2%|▏         | 3/196 [00:14<15:45,  4.90s/it]"
     ]
    },
    {
     "name": "stdout",
     "output_type": "stream",
     "text": [
      "\n",
      "Processing species: Acinetobacter baumannii\n",
      "Searching for 'Acinetobacter baumannii' with term: '\"Acinetobacter baumannii\"[Organism] AND \"complete genome\"[Assembly Level]'\n",
      "Found assembly ID: 75270728 for Acinetobacter baumannii\n",
      "No FTP path found for Acinetobacter baumannii with term '\"Acinetobacter baumannii\"[Organism] AND \"complete genome\"[Assembly Level]'. Trying next search term.\n",
      "Searching for 'Acinetobacter baumannii' with term: '\"Acinetobacter baumannii\"[Organism] AND \"reference genome\"[Refseq Category]'\n",
      "Found assembly ID: 4887331 for Acinetobacter baumannii\n",
      "Attempting to download from: ftp://ftp.ncbi.nlm.nih.gov/genomes/all/GCF/009/035/845/GCF_009035845.1_ASM903584v1/GCF_009035845.1_ASM903584v1_genomic.fna.gz\n",
      "Using wget for FTP download: ftp://ftp.ncbi.nlm.nih.gov/genomes/all/GCF/009/035/845/GCF_009035845.1_ASM903584v1/GCF_009035845.1_ASM903584v1_genomic.fna.gz\n",
      "Downloaded Acinetobacter baumannii to genomes/Acinetobacter_baumannii.fna.gz using wget.\n",
      "Decompressing genomes/Acinetobacter_baumannii.fna.gz...\n",
      "Decompressed to genomes/Acinetobacter_baumannii.fna\n"
     ]
    },
    {
     "name": "stderr",
     "output_type": "stream",
     "text": [
      "Overall Genome Download Progress:   2%|▏         | 4/196 [00:21<17:36,  5.50s/it]"
     ]
    },
    {
     "name": "stdout",
     "output_type": "stream",
     "text": [
      "\n",
      "Processing species: Acinetobacter haemolyticus\n",
      "Searching for 'Acinetobacter haemolyticus' with term: '\"Acinetobacter haemolyticus\"[Organism] AND \"complete genome\"[Assembly Level]'\n",
      "Found assembly ID: 19927471 for Acinetobacter haemolyticus\n",
      "Attempting to download from: ftp://ftp.ncbi.nlm.nih.gov/genomes/all/GCF/034/047/135/GCF_034047135.1_ASM3404713v1/GCF_034047135.1_ASM3404713v1_genomic.fna.gz\n",
      "Using wget for FTP download: ftp://ftp.ncbi.nlm.nih.gov/genomes/all/GCF/034/047/135/GCF_034047135.1_ASM3404713v1/GCF_034047135.1_ASM3404713v1_genomic.fna.gz\n",
      "Downloaded Acinetobacter haemolyticus to genomes/Acinetobacter_haemolyticus.fna.gz using wget.\n",
      "Decompressing genomes/Acinetobacter_haemolyticus.fna.gz...\n",
      "Decompressed to genomes/Acinetobacter_haemolyticus.fna\n"
     ]
    },
    {
     "name": "stderr",
     "output_type": "stream",
     "text": [
      "Overall Genome Download Progress:   3%|▎         | 5/196 [00:26<16:55,  5.32s/it]"
     ]
    },
    {
     "name": "stdout",
     "output_type": "stream",
     "text": [
      "\n",
      "Processing species: Acinetobacter johnsonii\n",
      "Searching for 'Acinetobacter johnsonii' with term: '\"Acinetobacter johnsonii\"[Organism] AND \"complete genome\"[Assembly Level]'\n",
      "Found assembly ID: 73774308 for Acinetobacter johnsonii\n",
      "Attempting to download from: ftp://ftp.ncbi.nlm.nih.gov/genomes/all/GCF/050/157/305/GCF_050157305.1_ASM5015730v1/GCF_050157305.1_ASM5015730v1_genomic.fna.gz\n",
      "Using wget for FTP download: ftp://ftp.ncbi.nlm.nih.gov/genomes/all/GCF/050/157/305/GCF_050157305.1_ASM5015730v1/GCF_050157305.1_ASM5015730v1_genomic.fna.gz\n",
      "Downloaded Acinetobacter johnsonii to genomes/Acinetobacter_johnsonii.fna.gz using wget.\n",
      "Decompressing genomes/Acinetobacter_johnsonii.fna.gz...\n",
      "Decompressed to genomes/Acinetobacter_johnsonii.fna\n"
     ]
    },
    {
     "name": "stderr",
     "output_type": "stream",
     "text": [
      "Overall Genome Download Progress:   3%|▎         | 6/196 [00:31<16:31,  5.22s/it]"
     ]
    },
    {
     "name": "stdout",
     "output_type": "stream",
     "text": [
      "\n",
      "Processing species: Acinetobacter junii\n",
      "Searching for 'Acinetobacter junii' with term: '\"Acinetobacter junii\"[Organism] AND \"complete genome\"[Assembly Level]'\n",
      "Found assembly ID: 20696781 for Acinetobacter junii\n",
      "Attempting to download from: ftp://ftp.ncbi.nlm.nih.gov/genomes/all/GCF/035/320/785/GCF_035320785.1_ASM3532078v1/GCF_035320785.1_ASM3532078v1_genomic.fna.gz\n",
      "Using wget for FTP download: ftp://ftp.ncbi.nlm.nih.gov/genomes/all/GCF/035/320/785/GCF_035320785.1_ASM3532078v1/GCF_035320785.1_ASM3532078v1_genomic.fna.gz\n",
      "Downloaded Acinetobacter junii to genomes/Acinetobacter_junii.fna.gz using wget.\n",
      "Decompressing genomes/Acinetobacter_junii.fna.gz...\n",
      "Decompressed to genomes/Acinetobacter_junii.fna\n"
     ]
    },
    {
     "name": "stderr",
     "output_type": "stream",
     "text": [
      "Overall Genome Download Progress:   4%|▎         | 7/196 [00:36<16:06,  5.11s/it]"
     ]
    },
    {
     "name": "stdout",
     "output_type": "stream",
     "text": [
      "\n",
      "Processing species: Acinetobacter pittii\n",
      "Searching for 'Acinetobacter pittii' with term: '\"Acinetobacter pittii\"[Organism] AND \"complete genome\"[Assembly Level]'\n",
      "Found assembly ID: 74063218 for Acinetobacter pittii\n",
      "Attempting to download from: ftp://ftp.ncbi.nlm.nih.gov/genomes/all/GCF/050/367/435/GCF_050367435.1_De_novo/GCF_050367435.1_De_novo_genomic.fna.gz\n",
      "Using wget for FTP download: ftp://ftp.ncbi.nlm.nih.gov/genomes/all/GCF/050/367/435/GCF_050367435.1_De_novo/GCF_050367435.1_De_novo_genomic.fna.gz\n",
      "Downloaded Acinetobacter pittii to genomes/Acinetobacter_pittii.fna.gz using wget.\n",
      "Decompressing genomes/Acinetobacter_pittii.fna.gz...\n",
      "Decompressed to genomes/Acinetobacter_pittii.fna\n"
     ]
    },
    {
     "name": "stderr",
     "output_type": "stream",
     "text": [
      "Overall Genome Download Progress:   4%|▍         | 8/196 [00:41<16:04,  5.13s/it]"
     ]
    },
    {
     "name": "stdout",
     "output_type": "stream",
     "text": [
      "\n",
      "Processing species: Acinetobacter schindleri\n",
      "Searching for 'Acinetobacter schindleri' with term: '\"Acinetobacter schindleri\"[Organism] AND \"complete genome\"[Assembly Level]'\n",
      "Found assembly ID: 15904821 for Acinetobacter schindleri\n",
      "Attempting to download from: ftp://ftp.ncbi.nlm.nih.gov/genomes/all/GCF/028/657/965/GCF_028657965.1_ASM2865796v1/GCF_028657965.1_ASM2865796v1_genomic.fna.gz\n",
      "Using wget for FTP download: ftp://ftp.ncbi.nlm.nih.gov/genomes/all/GCF/028/657/965/GCF_028657965.1_ASM2865796v1/GCF_028657965.1_ASM2865796v1_genomic.fna.gz\n",
      "Downloaded Acinetobacter schindleri to genomes/Acinetobacter_schindleri.fna.gz using wget.\n",
      "Decompressing genomes/Acinetobacter_schindleri.fna.gz...\n",
      "Decompressed to genomes/Acinetobacter_schindleri.fna\n"
     ]
    },
    {
     "name": "stderr",
     "output_type": "stream",
     "text": [
      "Overall Genome Download Progress:   5%|▍         | 9/196 [00:46<15:40,  5.03s/it]"
     ]
    },
    {
     "name": "stdout",
     "output_type": "stream",
     "text": [
      "\n",
      "Processing species: Acinetobacter sp. LoGeW2-3\n",
      "Searching for 'Acinetobacter sp. LoGeW2-3' with term: '\"Acinetobacter sp. LoGeW2-3\"[Organism] AND \"complete genome\"[Assembly Level]'\n",
      "Found assembly ID: 1397001 for Acinetobacter sp. LoGeW2-3\n",
      "Attempting to download from: ftp://ftp.ncbi.nlm.nih.gov/genomes/all/GCF/002/688/565/GCF_002688565.1_ASM268856v1/GCF_002688565.1_ASM268856v1_genomic.fna.gz\n",
      "Using wget for FTP download: ftp://ftp.ncbi.nlm.nih.gov/genomes/all/GCF/002/688/565/GCF_002688565.1_ASM268856v1/GCF_002688565.1_ASM268856v1_genomic.fna.gz\n",
      "Downloaded Acinetobacter sp. LoGeW2-3 to genomes/Acinetobacter_sp._LoGeW2-3.fna.gz using wget.\n",
      "Decompressing genomes/Acinetobacter_sp._LoGeW2-3.fna.gz...\n",
      "Decompressed to genomes/Acinetobacter_sp._LoGeW2-3.fna\n"
     ]
    },
    {
     "name": "stderr",
     "output_type": "stream",
     "text": [
      "Overall Genome Download Progress:   5%|▌         | 10/196 [00:50<15:15,  4.92s/it]"
     ]
    },
    {
     "name": "stdout",
     "output_type": "stream",
     "text": [
      "\n",
      "Processing species: Actinomyces radicidentis\n",
      "Searching for 'Actinomyces radicidentis' with term: '\"Actinomyces radicidentis\"[Organism] AND \"complete genome\"[Assembly Level]'\n",
      "Found assembly ID: 638291 for Actinomyces radicidentis\n",
      "Attempting to download from: ftp://ftp.ncbi.nlm.nih.gov/genomes/all/GCF/001/553/565/GCF_001553565.1_ASM155356v1/GCF_001553565.1_ASM155356v1_genomic.fna.gz\n",
      "Using wget for FTP download: ftp://ftp.ncbi.nlm.nih.gov/genomes/all/GCF/001/553/565/GCF_001553565.1_ASM155356v1/GCF_001553565.1_ASM155356v1_genomic.fna.gz\n",
      "Downloaded Actinomyces radicidentis to genomes/Actinomyces_radicidentis.fna.gz using wget.\n",
      "Decompressing genomes/Actinomyces_radicidentis.fna.gz...\n",
      "Decompressed to genomes/Actinomyces_radicidentis.fna\n"
     ]
    },
    {
     "name": "stderr",
     "output_type": "stream",
     "text": [
      "Overall Genome Download Progress:   6%|▌         | 11/196 [00:55<15:07,  4.91s/it]"
     ]
    },
    {
     "name": "stdout",
     "output_type": "stream",
     "text": [
      "\n",
      "Processing species: Aeromonas sp. ASNIH5\n",
      "Searching for 'Aeromonas sp. ASNIH5' with term: '\"Aeromonas sp. ASNIH5\"[Organism] AND \"complete genome\"[Assembly Level]'\n",
      "Found assembly ID: 1545531 for Aeromonas sp. ASNIH5\n",
      "Attempting to download from: ftp://ftp.ncbi.nlm.nih.gov/genomes/all/GCF/002/902/865/GCF_002902865.1_ASM290286v1/GCF_002902865.1_ASM290286v1_genomic.fna.gz\n",
      "Using wget for FTP download: ftp://ftp.ncbi.nlm.nih.gov/genomes/all/GCF/002/902/865/GCF_002902865.1_ASM290286v1/GCF_002902865.1_ASM290286v1_genomic.fna.gz\n",
      "Downloaded Aeromonas sp. ASNIH5 to genomes/Aeromonas_sp._ASNIH5.fna.gz using wget.\n",
      "Decompressing genomes/Aeromonas_sp._ASNIH5.fna.gz...\n",
      "Decompressed to genomes/Aeromonas_sp._ASNIH5.fna\n"
     ]
    },
    {
     "name": "stderr",
     "output_type": "stream",
     "text": [
      "Overall Genome Download Progress:   6%|▌         | 12/196 [01:00<15:08,  4.94s/it]"
     ]
    },
    {
     "name": "stdout",
     "output_type": "stream",
     "text": [
      "\n",
      "Processing species: Alteromonas macleodii\n",
      "Searching for 'Alteromonas macleodii' with term: '\"Alteromonas macleodii\"[Organism] AND \"complete genome\"[Assembly Level]'\n",
      "Found assembly ID: 75066938 for Alteromonas macleodii\n",
      "Attempting to download from: ftp://ftp.ncbi.nlm.nih.gov/genomes/all/GCF/051/058/755/GCF_051058755.1_NiSOD_KO/GCF_051058755.1_NiSOD_KO_genomic.fna.gz\n",
      "Using wget for FTP download: ftp://ftp.ncbi.nlm.nih.gov/genomes/all/GCF/051/058/755/GCF_051058755.1_NiSOD_KO/GCF_051058755.1_NiSOD_KO_genomic.fna.gz\n",
      "Downloaded Alteromonas macleodii to genomes/Alteromonas_macleodii.fna.gz using wget.\n",
      "Decompressing genomes/Alteromonas_macleodii.fna.gz...\n",
      "Decompressed to genomes/Alteromonas_macleodii.fna\n"
     ]
    },
    {
     "name": "stderr",
     "output_type": "stream",
     "text": [
      "Overall Genome Download Progress:   7%|▋         | 13/196 [01:05<14:49,  4.86s/it]"
     ]
    },
    {
     "name": "stdout",
     "output_type": "stream",
     "text": [
      "\n",
      "Processing species: Arsenicicoccus sp. oral taxon 190\n",
      "Searching for 'Arsenicicoccus sp. oral taxon 190' with term: '\"Arsenicicoccus sp. oral taxon 190\"[Organism] AND \"complete genome\"[Assembly Level]'\n",
      "Found assembly ID: 432121 for Arsenicicoccus sp. oral taxon 190\n",
      "Attempting to download from: ftp://ftp.ncbi.nlm.nih.gov/genomes/all/GCF/001/189/535/GCF_001189535.1_ASM118953v1/GCF_001189535.1_ASM118953v1_genomic.fna.gz\n",
      "Using wget for FTP download: ftp://ftp.ncbi.nlm.nih.gov/genomes/all/GCF/001/189/535/GCF_001189535.1_ASM118953v1/GCF_001189535.1_ASM118953v1_genomic.fna.gz\n",
      "Downloaded Arsenicicoccus sp. oral taxon 190 to genomes/Arsenicicoccus_sp._oral_taxon_190.fna.gz using wget.\n",
      "Decompressing genomes/Arsenicicoccus_sp._oral_taxon_190.fna.gz...\n",
      "Decompressed to genomes/Arsenicicoccus_sp._oral_taxon_190.fna\n"
     ]
    },
    {
     "name": "stderr",
     "output_type": "stream",
     "text": [
      "Overall Genome Download Progress:   7%|▋         | 14/196 [01:10<14:42,  4.85s/it]"
     ]
    },
    {
     "name": "stdout",
     "output_type": "stream",
     "text": [
      "\n",
      "Processing species: Bacillus megaterium\n",
      "Searching for 'Bacillus megaterium' with term: '\"Bacillus megaterium\"[Organism] AND \"complete genome\"[Assembly Level]'\n",
      "Found assembly ID: 73828068 for Bacillus megaterium\n",
      "Attempting to download from: ftp://ftp.ncbi.nlm.nih.gov/genomes/all/GCF/050/209/755/GCF_050209755.1_ASM5020975v1/GCF_050209755.1_ASM5020975v1_genomic.fna.gz\n",
      "Using wget for FTP download: ftp://ftp.ncbi.nlm.nih.gov/genomes/all/GCF/050/209/755/GCF_050209755.1_ASM5020975v1/GCF_050209755.1_ASM5020975v1_genomic.fna.gz\n",
      "Downloaded Bacillus megaterium to genomes/Bacillus_megaterium.fna.gz using wget.\n",
      "Decompressing genomes/Bacillus_megaterium.fna.gz...\n",
      "Decompressed to genomes/Bacillus_megaterium.fna\n"
     ]
    },
    {
     "name": "stderr",
     "output_type": "stream",
     "text": [
      "Overall Genome Download Progress:   8%|▊         | 15/196 [01:15<14:44,  4.89s/it]"
     ]
    },
    {
     "name": "stdout",
     "output_type": "stream",
     "text": [
      "\n",
      "Processing species: Bacillus subtilis\n",
      "Searching for 'Bacillus subtilis' with term: '\"Bacillus subtilis\"[Organism] AND \"complete genome\"[Assembly Level]'\n",
      "Found assembly ID: 75172448 for Bacillus subtilis\n",
      "Attempting to download from: ftp://ftp.ncbi.nlm.nih.gov/genomes/all/GCF/051/132/585/GCF_051132585.1_ASM5113258v1/GCF_051132585.1_ASM5113258v1_genomic.fna.gz\n",
      "Using wget for FTP download: ftp://ftp.ncbi.nlm.nih.gov/genomes/all/GCF/051/132/585/GCF_051132585.1_ASM5113258v1/GCF_051132585.1_ASM5113258v1_genomic.fna.gz\n",
      "Downloaded Bacillus subtilis to genomes/Bacillus_subtilis.fna.gz using wget.\n",
      "Decompressing genomes/Bacillus_subtilis.fna.gz...\n",
      "Decompressed to genomes/Bacillus_subtilis.fna\n"
     ]
    },
    {
     "name": "stderr",
     "output_type": "stream",
     "text": [
      "Overall Genome Download Progress:   8%|▊         | 16/196 [01:20<15:09,  5.05s/it]"
     ]
    },
    {
     "name": "stdout",
     "output_type": "stream",
     "text": [
      "\n",
      "Processing species: Bradyrhizobium diazoefficiens\n",
      "Searching for 'Bradyrhizobium diazoefficiens' with term: '\"Bradyrhizobium diazoefficiens\"[Organism] AND \"complete genome\"[Assembly Level]'\n",
      "Found assembly ID: 70875758 for Bradyrhizobium diazoefficiens\n",
      "Attempting to download from: ftp://ftp.ncbi.nlm.nih.gov/genomes/all/GCF/047/948/265/GCF_047948265.1_Bd1/GCF_047948265.1_Bd1_genomic.fna.gz\n",
      "Using wget for FTP download: ftp://ftp.ncbi.nlm.nih.gov/genomes/all/GCF/047/948/265/GCF_047948265.1_Bd1/GCF_047948265.1_Bd1_genomic.fna.gz\n",
      "Downloaded Bradyrhizobium diazoefficiens to genomes/Bradyrhizobium_diazoefficiens.fna.gz using wget.\n",
      "Decompressing genomes/Bradyrhizobium_diazoefficiens.fna.gz...\n",
      "Decompressed to genomes/Bradyrhizobium_diazoefficiens.fna\n"
     ]
    },
    {
     "name": "stderr",
     "output_type": "stream",
     "text": [
      "Overall Genome Download Progress:   9%|▊         | 17/196 [01:25<15:00,  5.03s/it]"
     ]
    },
    {
     "name": "stdout",
     "output_type": "stream",
     "text": [
      "\n",
      "Processing species: Bradyrhizobium japonicum\n",
      "Searching for 'Bradyrhizobium japonicum' with term: '\"Bradyrhizobium japonicum\"[Organism] AND \"complete genome\"[Assembly Level]'\n",
      "Found assembly ID: 74414388 for Bradyrhizobium japonicum\n",
      "No FTP path found for Bradyrhizobium japonicum with term '\"Bradyrhizobium japonicum\"[Organism] AND \"complete genome\"[Assembly Level]'. Trying next search term.\n",
      "Searching for 'Bradyrhizobium japonicum' with term: '\"Bradyrhizobium japonicum\"[Organism] AND \"reference genome\"[Refseq Category]'\n",
      "Found assembly ID: 7579501 for Bradyrhizobium japonicum\n",
      "Attempting to download from: ftp://ftp.ncbi.nlm.nih.gov/genomes/all/GCF/013/752/735/GCF_013752735.1_ASM1375273v1/GCF_013752735.1_ASM1375273v1_genomic.fna.gz\n",
      "Using wget for FTP download: ftp://ftp.ncbi.nlm.nih.gov/genomes/all/GCF/013/752/735/GCF_013752735.1_ASM1375273v1/GCF_013752735.1_ASM1375273v1_genomic.fna.gz\n",
      "Downloaded Bradyrhizobium japonicum to genomes/Bradyrhizobium_japonicum.fna.gz using wget.\n",
      "Decompressing genomes/Bradyrhizobium_japonicum.fna.gz...\n",
      "Decompressed to genomes/Bradyrhizobium_japonicum.fna\n"
     ]
    },
    {
     "name": "stderr",
     "output_type": "stream",
     "text": [
      "Overall Genome Download Progress:   9%|▉         | 18/196 [01:32<16:42,  5.63s/it]"
     ]
    },
    {
     "name": "stdout",
     "output_type": "stream",
     "text": [
      "\n",
      "Processing species: Bradyrhizobium sp.\n",
      "Searching for 'Bradyrhizobium sp.' with term: '\"Bradyrhizobium sp.\"[Organism] AND \"complete genome\"[Assembly Level]'\n",
      "Found assembly ID: 739881 for Bradyrhizobium sp.\n",
      "Attempting to download from: ftp://ftp.ncbi.nlm.nih.gov/genomes/all/GCF/900/011/245/GCF_900011245.1_BF49.v1/GCF_900011245.1_BF49.v1_genomic.fna.gz\n",
      "Using wget for FTP download: ftp://ftp.ncbi.nlm.nih.gov/genomes/all/GCF/900/011/245/GCF_900011245.1_BF49.v1/GCF_900011245.1_BF49.v1_genomic.fna.gz\n",
      "Downloaded Bradyrhizobium sp. to genomes/Bradyrhizobium_sp..fna.gz using wget.\n",
      "Decompressing genomes/Bradyrhizobium_sp..fna.gz...\n",
      "Decompressed to genomes/Bradyrhizobium_sp..fna\n"
     ]
    },
    {
     "name": "stderr",
     "output_type": "stream",
     "text": [
      "Overall Genome Download Progress:  10%|▉         | 19/196 [01:37<16:03,  5.44s/it]"
     ]
    },
    {
     "name": "stdout",
     "output_type": "stream",
     "text": [
      "\n",
      "Processing species: Bradyrhizobium sp. BTAi1\n",
      "Searching for 'Bradyrhizobium sp. BTAi1' with term: '\"Bradyrhizobium sp. BTAi1\"[Organism] AND \"complete genome\"[Assembly Level]'\n",
      "Found assembly ID: 36268 for Bradyrhizobium sp. BTAi1\n",
      "Attempting to download from: ftp://ftp.ncbi.nlm.nih.gov/genomes/all/GCF/000/015/165/GCF_000015165.1_ASM1516v1/GCF_000015165.1_ASM1516v1_genomic.fna.gz\n",
      "Using wget for FTP download: ftp://ftp.ncbi.nlm.nih.gov/genomes/all/GCF/000/015/165/GCF_000015165.1_ASM1516v1/GCF_000015165.1_ASM1516v1_genomic.fna.gz\n",
      "Downloaded Bradyrhizobium sp. BTAi1 to genomes/Bradyrhizobium_sp._BTAi1.fna.gz using wget.\n",
      "Decompressing genomes/Bradyrhizobium_sp._BTAi1.fna.gz...\n",
      "Decompressed to genomes/Bradyrhizobium_sp._BTAi1.fna\n"
     ]
    },
    {
     "name": "stderr",
     "output_type": "stream",
     "text": [
      "Overall Genome Download Progress:  10%|█         | 20/196 [01:42<15:41,  5.35s/it]"
     ]
    },
    {
     "name": "stdout",
     "output_type": "stream",
     "text": [
      "\n",
      "Processing species: Bradyrhizobium sp. CCGE-LA001\n",
      "Searching for 'Bradyrhizobium sp. CCGE-LA001' with term: '\"Bradyrhizobium sp. CCGE-LA001\"[Organism] AND \"complete genome\"[Assembly Level]'\n",
      "Found assembly ID: 631871 for Bradyrhizobium sp. CCGE-LA001\n",
      "Attempting to download from: ftp://ftp.ncbi.nlm.nih.gov/genomes/all/GCF/000/296/215/GCF_000296215.2_ASM29621v2/GCF_000296215.2_ASM29621v2_genomic.fna.gz\n",
      "Using wget for FTP download: ftp://ftp.ncbi.nlm.nih.gov/genomes/all/GCF/000/296/215/GCF_000296215.2_ASM29621v2/GCF_000296215.2_ASM29621v2_genomic.fna.gz\n",
      "Downloaded Bradyrhizobium sp. CCGE-LA001 to genomes/Bradyrhizobium_sp._CCGE-LA001.fna.gz using wget.\n",
      "Decompressing genomes/Bradyrhizobium_sp._CCGE-LA001.fna.gz...\n",
      "Decompressed to genomes/Bradyrhizobium_sp._CCGE-LA001.fna\n"
     ]
    },
    {
     "name": "stderr",
     "output_type": "stream",
     "text": [
      "Overall Genome Download Progress:  11%|█         | 21/196 [01:47<15:30,  5.31s/it]"
     ]
    },
    {
     "name": "stdout",
     "output_type": "stream",
     "text": [
      "\n",
      "Processing species: Bradyrhizobium sp. S23321\n",
      "Searching for 'Bradyrhizobium sp. S23321' with term: '\"Bradyrhizobium sp. S23321\"[Organism] AND \"complete genome\"[Assembly Level]'\n",
      "Found assembly ID: 21537831 for Bradyrhizobium sp. S23321\n",
      "Attempting to download from: ftp://ftp.ncbi.nlm.nih.gov/genomes/all/GCF/007/290/395/GCF_007290395.2_ASM729039v2/GCF_007290395.2_ASM729039v2_genomic.fna.gz\n",
      "Using wget for FTP download: ftp://ftp.ncbi.nlm.nih.gov/genomes/all/GCF/007/290/395/GCF_007290395.2_ASM729039v2/GCF_007290395.2_ASM729039v2_genomic.fna.gz\n",
      "Downloaded Bradyrhizobium sp. S23321 to genomes/Bradyrhizobium_sp._S23321.fna.gz using wget.\n",
      "Decompressing genomes/Bradyrhizobium_sp._S23321.fna.gz...\n",
      "Decompressed to genomes/Bradyrhizobium_sp._S23321.fna\n"
     ]
    },
    {
     "name": "stderr",
     "output_type": "stream",
     "text": [
      "Overall Genome Download Progress:  11%|█         | 22/196 [01:52<15:09,  5.23s/it]"
     ]
    },
    {
     "name": "stdout",
     "output_type": "stream",
     "text": [
      "\n",
      "Processing species: Bradyrhizobium sp. SK17\n",
      "Searching for 'Bradyrhizobium sp. SK17' with term: '\"Bradyrhizobium sp. SK17\"[Organism] AND \"complete genome\"[Assembly Level]'\n",
      "Found assembly ID: 1469661 for Bradyrhizobium sp. SK17\n",
      "Attempting to download from: ftp://ftp.ncbi.nlm.nih.gov/genomes/all/GCF/002/831/585/GCF_002831585.1_ASM283158v1/GCF_002831585.1_ASM283158v1_genomic.fna.gz\n",
      "Using wget for FTP download: ftp://ftp.ncbi.nlm.nih.gov/genomes/all/GCF/002/831/585/GCF_002831585.1_ASM283158v1/GCF_002831585.1_ASM283158v1_genomic.fna.gz\n",
      "Downloaded Bradyrhizobium sp. SK17 to genomes/Bradyrhizobium_sp._SK17.fna.gz using wget.\n",
      "Decompressing genomes/Bradyrhizobium_sp._SK17.fna.gz...\n",
      "Decompressed to genomes/Bradyrhizobium_sp._SK17.fna\n"
     ]
    },
    {
     "name": "stderr",
     "output_type": "stream",
     "text": [
      "Overall Genome Download Progress:  12%|█▏        | 23/196 [01:58<14:56,  5.18s/it]"
     ]
    },
    {
     "name": "stdout",
     "output_type": "stream",
     "text": [
      "\n",
      "Processing species: Brevundimonas naejangsanensis\n",
      "Searching for 'Brevundimonas naejangsanensis' with term: '\"Brevundimonas naejangsanensis\"[Organism] AND \"complete genome\"[Assembly Level]'\n",
      "Found assembly ID: 2380151 for Brevundimonas naejangsanensis\n",
      "Attempting to download from: ftp://ftp.ncbi.nlm.nih.gov/genomes/all/GCF/004/421/065/GCF_004421065.1_ASM442106v1/GCF_004421065.1_ASM442106v1_genomic.fna.gz\n",
      "Using wget for FTP download: ftp://ftp.ncbi.nlm.nih.gov/genomes/all/GCF/004/421/065/GCF_004421065.1_ASM442106v1/GCF_004421065.1_ASM442106v1_genomic.fna.gz\n",
      "Downloaded Brevundimonas naejangsanensis to genomes/Brevundimonas_naejangsanensis.fna.gz using wget.\n",
      "Decompressing genomes/Brevundimonas_naejangsanensis.fna.gz...\n",
      "Decompressed to genomes/Brevundimonas_naejangsanensis.fna\n"
     ]
    },
    {
     "name": "stderr",
     "output_type": "stream",
     "text": [
      "Overall Genome Download Progress:  12%|█▏        | 24/196 [02:02<14:33,  5.08s/it]"
     ]
    },
    {
     "name": "stdout",
     "output_type": "stream",
     "text": [
      "\n",
      "Processing species: Brevundimonas sp. DS20\n",
      "Searching for 'Brevundimonas sp. DS20' with term: '\"Brevundimonas sp. DS20\"[Organism] AND \"complete genome\"[Assembly Level]'\n",
      "Found assembly ID: 500431 for Brevundimonas sp. DS20\n",
      "Attempting to download from: ftp://ftp.ncbi.nlm.nih.gov/genomes/all/GCF/001/310/255/GCF_001310255.1_ASM131025v1/GCF_001310255.1_ASM131025v1_genomic.fna.gz\n",
      "Using wget for FTP download: ftp://ftp.ncbi.nlm.nih.gov/genomes/all/GCF/001/310/255/GCF_001310255.1_ASM131025v1/GCF_001310255.1_ASM131025v1_genomic.fna.gz\n",
      "Downloaded Brevundimonas sp. DS20 to genomes/Brevundimonas_sp._DS20.fna.gz using wget.\n",
      "Decompressing genomes/Brevundimonas_sp._DS20.fna.gz...\n",
      "Decompressed to genomes/Brevundimonas_sp._DS20.fna\n"
     ]
    },
    {
     "name": "stderr",
     "output_type": "stream",
     "text": [
      "Overall Genome Download Progress:  13%|█▎        | 25/196 [02:07<14:22,  5.04s/it]"
     ]
    },
    {
     "name": "stdout",
     "output_type": "stream",
     "text": [
      "\n",
      "Processing species: Brevundimonas sp. GW460-12-10-14-LB2\n",
      "Searching for 'Brevundimonas sp. GW460-12-10-14-LB2' with term: '\"Brevundimonas sp. GW460-12-10-14-LB2\"[Organism] AND \"complete genome\"[Assembly Level]'\n",
      "Found assembly ID: 734031 for Brevundimonas sp. GW460-12-10-14-LB2\n",
      "Attempting to download from: ftp://ftp.ncbi.nlm.nih.gov/genomes/all/GCF/001/636/925/GCF_001636925.1_ASM163692v1/GCF_001636925.1_ASM163692v1_genomic.fna.gz\n",
      "Using wget for FTP download: ftp://ftp.ncbi.nlm.nih.gov/genomes/all/GCF/001/636/925/GCF_001636925.1_ASM163692v1/GCF_001636925.1_ASM163692v1_genomic.fna.gz\n",
      "Downloaded Brevundimonas sp. GW460-12-10-14-LB2 to genomes/Brevundimonas_sp._GW460-12-10-14-LB2.fna.gz using wget.\n",
      "Decompressing genomes/Brevundimonas_sp._GW460-12-10-14-LB2.fna.gz...\n",
      "Decompressed to genomes/Brevundimonas_sp._GW460-12-10-14-LB2.fna\n"
     ]
    },
    {
     "name": "stderr",
     "output_type": "stream",
     "text": [
      "Overall Genome Download Progress:  13%|█▎        | 26/196 [02:12<14:04,  4.97s/it]"
     ]
    },
    {
     "name": "stdout",
     "output_type": "stream",
     "text": [
      "\n",
      "Processing species: Brevundimonas sp. LM2\n",
      "Searching for 'Brevundimonas sp. LM2' with term: '\"Brevundimonas sp. LM2\"[Organism] AND \"complete genome\"[Assembly Level]'\n",
      "Found assembly ID: 1007991 for Brevundimonas sp. LM2\n",
      "Attempting to download from: ftp://ftp.ncbi.nlm.nih.gov/genomes/all/GCF/002/002/865/GCF_002002865.1_ASM200286v1/GCF_002002865.1_ASM200286v1_genomic.fna.gz\n",
      "Using wget for FTP download: ftp://ftp.ncbi.nlm.nih.gov/genomes/all/GCF/002/002/865/GCF_002002865.1_ASM200286v1/GCF_002002865.1_ASM200286v1_genomic.fna.gz\n",
      "Downloaded Brevundimonas sp. LM2 to genomes/Brevundimonas_sp._LM2.fna.gz using wget.\n",
      "Decompressing genomes/Brevundimonas_sp._LM2.fna.gz...\n",
      "Decompressed to genomes/Brevundimonas_sp._LM2.fna\n"
     ]
    },
    {
     "name": "stderr",
     "output_type": "stream",
     "text": [
      "Overall Genome Download Progress:  14%|█▍        | 27/196 [02:17<13:50,  4.91s/it]"
     ]
    },
    {
     "name": "stdout",
     "output_type": "stream",
     "text": [
      "\n",
      "Processing species: Brevundimonas subvibrioides\n",
      "Searching for 'Brevundimonas subvibrioides' with term: '\"Brevundimonas subvibrioides\"[Organism] AND \"complete genome\"[Assembly Level]'\n",
      "Found assembly ID: 59514848 for Brevundimonas subvibrioides\n",
      "Attempting to download from: ftp://ftp.ncbi.nlm.nih.gov/genomes/all/GCF/964/034/995/GCF_964034995.1_MM232/GCF_964034995.1_MM232_genomic.fna.gz\n",
      "Using wget for FTP download: ftp://ftp.ncbi.nlm.nih.gov/genomes/all/GCF/964/034/995/GCF_964034995.1_MM232/GCF_964034995.1_MM232_genomic.fna.gz\n",
      "Downloaded Brevundimonas subvibrioides to genomes/Brevundimonas_subvibrioides.fna.gz using wget.\n",
      "Decompressing genomes/Brevundimonas_subvibrioides.fna.gz...\n",
      "Decompressed to genomes/Brevundimonas_subvibrioides.fna\n"
     ]
    },
    {
     "name": "stderr",
     "output_type": "stream",
     "text": [
      "Overall Genome Download Progress:  14%|█▍        | 28/196 [02:22<13:40,  4.89s/it]"
     ]
    },
    {
     "name": "stdout",
     "output_type": "stream",
     "text": [
      "\n",
      "Processing species: Brevundimonas vesicularis\n",
      "Searching for 'Brevundimonas vesicularis' with term: '\"Brevundimonas vesicularis\"[Organism] AND \"complete genome\"[Assembly Level]'\n",
      "Found assembly ID: 67301318 for Brevundimonas vesicularis\n",
      "Attempting to download from: ftp://ftp.ncbi.nlm.nih.gov/genomes/all/GCF/046/114/465/GCF_046114465.1_ASM4611446v1/GCF_046114465.1_ASM4611446v1_genomic.fna.gz\n",
      "Using wget for FTP download: ftp://ftp.ncbi.nlm.nih.gov/genomes/all/GCF/046/114/465/GCF_046114465.1_ASM4611446v1/GCF_046114465.1_ASM4611446v1_genomic.fna.gz\n",
      "Downloaded Brevundimonas vesicularis to genomes/Brevundimonas_vesicularis.fna.gz using wget.\n",
      "Decompressing genomes/Brevundimonas_vesicularis.fna.gz...\n",
      "Decompressed to genomes/Brevundimonas_vesicularis.fna\n"
     ]
    },
    {
     "name": "stderr",
     "output_type": "stream",
     "text": [
      "Overall Genome Download Progress:  15%|█▍        | 29/196 [02:26<13:28,  4.84s/it]"
     ]
    },
    {
     "name": "stdout",
     "output_type": "stream",
     "text": [
      "\n",
      "Processing species: Brochothrix thermosphacta\n",
      "Searching for 'Brochothrix thermosphacta' with term: '\"Brochothrix thermosphacta\"[Organism] AND \"complete genome\"[Assembly Level]'\n",
      "Found assembly ID: 54266968 for Brochothrix thermosphacta\n",
      "Attempting to download from: ftp://ftp.ncbi.nlm.nih.gov/genomes/all/GCF/036/884/295/GCF_036884295.1_ASM3688429v1/GCF_036884295.1_ASM3688429v1_genomic.fna.gz\n",
      "Using wget for FTP download: ftp://ftp.ncbi.nlm.nih.gov/genomes/all/GCF/036/884/295/GCF_036884295.1_ASM3688429v1/GCF_036884295.1_ASM3688429v1_genomic.fna.gz\n",
      "Downloaded Brochothrix thermosphacta to genomes/Brochothrix_thermosphacta.fna.gz using wget.\n",
      "Decompressing genomes/Brochothrix_thermosphacta.fna.gz...\n",
      "Decompressed to genomes/Brochothrix_thermosphacta.fna\n"
     ]
    },
    {
     "name": "stderr",
     "output_type": "stream",
     "text": [
      "Overall Genome Download Progress:  15%|█▌        | 30/196 [02:32<13:33,  4.90s/it]"
     ]
    },
    {
     "name": "stdout",
     "output_type": "stream",
     "text": [
      "\n",
      "Processing species: Calothrix sp. NIES-4071\n",
      "Searching for 'Calothrix sp. NIES-4071' with term: '\"Calothrix sp. NIES-4071\"[Organism] AND \"complete genome\"[Assembly Level]'\n",
      "Found assembly ID: 1232631 for Calothrix sp. NIES-4071\n",
      "Attempting to download from: ftp://ftp.ncbi.nlm.nih.gov/genomes/all/GCF/002/368/455/GCF_002368455.1_ASM236845v1/GCF_002368455.1_ASM236845v1_genomic.fna.gz\n",
      "Using wget for FTP download: ftp://ftp.ncbi.nlm.nih.gov/genomes/all/GCF/002/368/455/GCF_002368455.1_ASM236845v1/GCF_002368455.1_ASM236845v1_genomic.fna.gz\n",
      "Downloaded Calothrix sp. NIES-4071 to genomes/Calothrix_sp._NIES-4071.fna.gz using wget.\n",
      "Decompressing genomes/Calothrix_sp._NIES-4071.fna.gz...\n",
      "Decompressed to genomes/Calothrix_sp._NIES-4071.fna\n"
     ]
    },
    {
     "name": "stderr",
     "output_type": "stream",
     "text": [
      "Overall Genome Download Progress:  16%|█▌        | 31/196 [02:37<13:43,  4.99s/it]"
     ]
    },
    {
     "name": "stdout",
     "output_type": "stream",
     "text": [
      "\n",
      "Processing species: Candida dubliniensis\n",
      "Searching for 'Candida dubliniensis' with term: '\"Candida dubliniensis\"[Organism] AND \"complete genome\"[Assembly Level]'\n",
      "Found assembly ID: 101528 for Candida dubliniensis\n",
      "Attempting to download from: ftp://ftp.ncbi.nlm.nih.gov/genomes/all/GCF/000/026/945/GCF_000026945.1_ASM2694v1/GCF_000026945.1_ASM2694v1_genomic.fna.gz\n",
      "Using wget for FTP download: ftp://ftp.ncbi.nlm.nih.gov/genomes/all/GCF/000/026/945/GCF_000026945.1_ASM2694v1/GCF_000026945.1_ASM2694v1_genomic.fna.gz\n",
      "Downloaded Candida dubliniensis to genomes/Candida_dubliniensis.fna.gz using wget.\n",
      "Decompressing genomes/Candida_dubliniensis.fna.gz...\n",
      "Decompressed to genomes/Candida_dubliniensis.fna\n"
     ]
    },
    {
     "name": "stderr",
     "output_type": "stream",
     "text": [
      "Overall Genome Download Progress:  16%|█▋        | 32/196 [02:42<13:45,  5.04s/it]"
     ]
    },
    {
     "name": "stdout",
     "output_type": "stream",
     "text": [
      "\n",
      "Processing species: Carnobacterium inhibens\n",
      "Searching for 'Carnobacterium inhibens' with term: '\"Carnobacterium inhibens\"[Organism] AND \"complete genome\"[Assembly Level]'\n",
      "Found assembly ID: 78721 for Carnobacterium inhibens\n",
      "Attempting to download from: ftp://ftp.ncbi.nlm.nih.gov/genomes/all/GCF/000/493/735/GCF_000493735.1_ASM49373v1/GCF_000493735.1_ASM49373v1_genomic.fna.gz\n",
      "Using wget for FTP download: ftp://ftp.ncbi.nlm.nih.gov/genomes/all/GCF/000/493/735/GCF_000493735.1_ASM49373v1/GCF_000493735.1_ASM49373v1_genomic.fna.gz\n",
      "Downloaded Carnobacterium inhibens to genomes/Carnobacterium_inhibens.fna.gz using wget.\n",
      "Decompressing genomes/Carnobacterium_inhibens.fna.gz...\n",
      "Decompressed to genomes/Carnobacterium_inhibens.fna\n"
     ]
    },
    {
     "name": "stderr",
     "output_type": "stream",
     "text": [
      "Overall Genome Download Progress:  17%|█▋        | 33/196 [02:46<13:19,  4.91s/it]"
     ]
    },
    {
     "name": "stdout",
     "output_type": "stream",
     "text": [
      "\n",
      "Processing species: Chroococcidiopsis thermalis\n",
      "Searching for 'Chroococcidiopsis thermalis' with term: '\"Chroococcidiopsis thermalis\"[Organism] AND \"complete genome\"[Assembly Level]'\n",
      "Found assembly ID: 517138 for Chroococcidiopsis thermalis\n",
      "Attempting to download from: ftp://ftp.ncbi.nlm.nih.gov/genomes/all/GCF/000/317/125/GCF_000317125.1_ASM31712v1/GCF_000317125.1_ASM31712v1_genomic.fna.gz\n",
      "Using wget for FTP download: ftp://ftp.ncbi.nlm.nih.gov/genomes/all/GCF/000/317/125/GCF_000317125.1_ASM31712v1/GCF_000317125.1_ASM31712v1_genomic.fna.gz\n",
      "Downloaded Chroococcidiopsis thermalis to genomes/Chroococcidiopsis_thermalis.fna.gz using wget.\n",
      "Decompressing genomes/Chroococcidiopsis_thermalis.fna.gz...\n",
      "Decompressed to genomes/Chroococcidiopsis_thermalis.fna\n"
     ]
    },
    {
     "name": "stderr",
     "output_type": "stream",
     "text": [
      "Overall Genome Download Progress:  17%|█▋        | 34/196 [02:52<13:19,  4.94s/it]"
     ]
    },
    {
     "name": "stdout",
     "output_type": "stream",
     "text": [
      "\n",
      "Processing species: Chryseobacterium indologenes\n",
      "Searching for 'Chryseobacterium indologenes' with term: '\"Chryseobacterium indologenes\"[Organism] AND \"complete genome\"[Assembly Level]'\n",
      "Found assembly ID: 74745678 for Chryseobacterium indologenes\n",
      "Attempting to download from: ftp://ftp.ncbi.nlm.nih.gov/genomes/all/GCF/050/821/985/GCF_050821985.1_ASM5082198v1/GCF_050821985.1_ASM5082198v1_genomic.fna.gz\n",
      "Using wget for FTP download: ftp://ftp.ncbi.nlm.nih.gov/genomes/all/GCF/050/821/985/GCF_050821985.1_ASM5082198v1/GCF_050821985.1_ASM5082198v1_genomic.fna.gz\n",
      "Downloaded Chryseobacterium indologenes to genomes/Chryseobacterium_indologenes.fna.gz using wget.\n",
      "Decompressing genomes/Chryseobacterium_indologenes.fna.gz...\n",
      "Decompressed to genomes/Chryseobacterium_indologenes.fna\n"
     ]
    },
    {
     "name": "stderr",
     "output_type": "stream",
     "text": [
      "Overall Genome Download Progress:  18%|█▊        | 35/196 [02:56<13:09,  4.91s/it]"
     ]
    },
    {
     "name": "stdout",
     "output_type": "stream",
     "text": [
      "\n",
      "Processing species: Chryseobacterium taklimakanense\n",
      "Searching for 'Chryseobacterium taklimakanense' with term: '\"Chryseobacterium taklimakanense\"[Organism] AND \"complete genome\"[Assembly Level]'\n",
      "Found assembly ID: 2129641 for Chryseobacterium taklimakanense\n",
      "Attempting to download from: ftp://ftp.ncbi.nlm.nih.gov/genomes/all/GCF/003/860/545/GCF_003860545.1_ASM386054v1/GCF_003860545.1_ASM386054v1_genomic.fna.gz\n",
      "Using wget for FTP download: ftp://ftp.ncbi.nlm.nih.gov/genomes/all/GCF/003/860/545/GCF_003860545.1_ASM386054v1/GCF_003860545.1_ASM386054v1_genomic.fna.gz\n",
      "Downloaded Chryseobacterium taklimakanense to genomes/Chryseobacterium_taklimakanense.fna.gz using wget.\n",
      "Decompressing genomes/Chryseobacterium_taklimakanense.fna.gz...\n",
      "Decompressed to genomes/Chryseobacterium_taklimakanense.fna\n"
     ]
    },
    {
     "name": "stderr",
     "output_type": "stream",
     "text": [
      "Overall Genome Download Progress:  18%|█▊        | 36/196 [03:01<12:55,  4.85s/it]"
     ]
    },
    {
     "name": "stdout",
     "output_type": "stream",
     "text": [
      "\n",
      "Processing species: Clavibacter michiganensis\n",
      "Searching for 'Clavibacter michiganensis' with term: '\"Clavibacter michiganensis\"[Organism] AND \"complete genome\"[Assembly Level]'\n",
      "Found assembly ID: 75273428 for Clavibacter michiganensis\n",
      "No FTP path found for Clavibacter michiganensis with term '\"Clavibacter michiganensis\"[Organism] AND \"complete genome\"[Assembly Level]'. Trying next search term.\n",
      "Searching for 'Clavibacter michiganensis' with term: '\"Clavibacter michiganensis\"[Organism] AND \"reference genome\"[Refseq Category]'\n",
      "Found assembly ID: 11629521 for Clavibacter michiganensis\n",
      "Attempting to download from: ftp://ftp.ncbi.nlm.nih.gov/genomes/all/GCF/021/216/655/GCF_021216655.1_ASM2121665v1/GCF_021216655.1_ASM2121665v1_genomic.fna.gz\n",
      "Using wget for FTP download: ftp://ftp.ncbi.nlm.nih.gov/genomes/all/GCF/021/216/655/GCF_021216655.1_ASM2121665v1/GCF_021216655.1_ASM2121665v1_genomic.fna.gz\n",
      "Downloaded Clavibacter michiganensis to genomes/Clavibacter_michiganensis.fna.gz using wget.\n",
      "Decompressing genomes/Clavibacter_michiganensis.fna.gz...\n",
      "Decompressed to genomes/Clavibacter_michiganensis.fna\n"
     ]
    },
    {
     "name": "stderr",
     "output_type": "stream",
     "text": [
      "Overall Genome Download Progress:  19%|█▉        | 37/196 [03:08<14:27,  5.46s/it]"
     ]
    },
    {
     "name": "stdout",
     "output_type": "stream",
     "text": [
      "\n",
      "Processing species: Corynebacterium callunae\n",
      "Searching for 'Corynebacterium callunae' with term: '\"Corynebacterium callunae\"[Organism] AND \"complete genome\"[Assembly Level]'\n",
      "Found assembly ID: 565678 for Corynebacterium callunae\n",
      "Attempting to download from: ftp://ftp.ncbi.nlm.nih.gov/genomes/all/GCF/000/344/785/GCF_000344785.1_ASM34478v1/GCF_000344785.1_ASM34478v1_genomic.fna.gz\n",
      "Using wget for FTP download: ftp://ftp.ncbi.nlm.nih.gov/genomes/all/GCF/000/344/785/GCF_000344785.1_ASM34478v1/GCF_000344785.1_ASM34478v1_genomic.fna.gz\n",
      "Downloaded Corynebacterium callunae to genomes/Corynebacterium_callunae.fna.gz using wget.\n",
      "Decompressing genomes/Corynebacterium_callunae.fna.gz...\n",
      "Decompressed to genomes/Corynebacterium_callunae.fna\n"
     ]
    },
    {
     "name": "stderr",
     "output_type": "stream",
     "text": [
      "Overall Genome Download Progress:  19%|█▉        | 38/196 [03:13<14:06,  5.36s/it]"
     ]
    },
    {
     "name": "stdout",
     "output_type": "stream",
     "text": [
      "\n",
      "Processing species: Corynebacterium efficiens\n",
      "Searching for 'Corynebacterium efficiens' with term: '\"Corynebacterium efficiens\"[Organism] AND \"complete genome\"[Assembly Level]'\n",
      "Found assembly ID: 32468 for Corynebacterium efficiens\n",
      "Attempting to download from: ftp://ftp.ncbi.nlm.nih.gov/genomes/all/GCF/000/011/305/GCF_000011305.1_ASM1130v1/GCF_000011305.1_ASM1130v1_genomic.fna.gz\n",
      "Using wget for FTP download: ftp://ftp.ncbi.nlm.nih.gov/genomes/all/GCF/000/011/305/GCF_000011305.1_ASM1130v1/GCF_000011305.1_ASM1130v1_genomic.fna.gz\n",
      "Downloaded Corynebacterium efficiens to genomes/Corynebacterium_efficiens.fna.gz using wget.\n",
      "Decompressing genomes/Corynebacterium_efficiens.fna.gz...\n",
      "Decompressed to genomes/Corynebacterium_efficiens.fna\n"
     ]
    },
    {
     "name": "stderr",
     "output_type": "stream",
     "text": [
      "Overall Genome Download Progress:  20%|█▉        | 39/196 [03:18<13:43,  5.24s/it]"
     ]
    },
    {
     "name": "stdout",
     "output_type": "stream",
     "text": [
      "\n",
      "Processing species: Corynebacterium kroppenstedtii\n",
      "Searching for 'Corynebacterium kroppenstedtii' with term: '\"Corynebacterium kroppenstedtii\"[Organism] AND \"complete genome\"[Assembly Level]'\n",
      "Found assembly ID: 66013388 for Corynebacterium kroppenstedtii\n",
      "Attempting to download from: ftp://ftp.ncbi.nlm.nih.gov/genomes/all/GCF/045/277/265/GCF_045277265.1_ASM4527726v1/GCF_045277265.1_ASM4527726v1_genomic.fna.gz\n",
      "Using wget for FTP download: ftp://ftp.ncbi.nlm.nih.gov/genomes/all/GCF/045/277/265/GCF_045277265.1_ASM4527726v1/GCF_045277265.1_ASM4527726v1_genomic.fna.gz\n",
      "Downloaded Corynebacterium kroppenstedtii to genomes/Corynebacterium_kroppenstedtii.fna.gz using wget.\n",
      "Decompressing genomes/Corynebacterium_kroppenstedtii.fna.gz...\n",
      "Decompressed to genomes/Corynebacterium_kroppenstedtii.fna\n"
     ]
    },
    {
     "name": "stderr",
     "output_type": "stream",
     "text": [
      "Overall Genome Download Progress:  20%|██        | 40/196 [03:23<13:23,  5.15s/it]"
     ]
    },
    {
     "name": "stdout",
     "output_type": "stream",
     "text": [
      "\n",
      "Processing species: Corynebacterium maris\n",
      "Searching for 'Corynebacterium maris' with term: '\"Corynebacterium maris\"[Organism] AND \"complete genome\"[Assembly Level]'\n",
      "Found assembly ID: 47111 for Corynebacterium maris\n",
      "Attempting to download from: ftp://ftp.ncbi.nlm.nih.gov/genomes/all/GCF/000/442/645/GCF_000442645.1_ASM44264v1/GCF_000442645.1_ASM44264v1_genomic.fna.gz\n",
      "Using wget for FTP download: ftp://ftp.ncbi.nlm.nih.gov/genomes/all/GCF/000/442/645/GCF_000442645.1_ASM44264v1/GCF_000442645.1_ASM44264v1_genomic.fna.gz\n",
      "Downloaded Corynebacterium maris to genomes/Corynebacterium_maris.fna.gz using wget.\n",
      "Decompressing genomes/Corynebacterium_maris.fna.gz...\n",
      "Decompressed to genomes/Corynebacterium_maris.fna\n"
     ]
    },
    {
     "name": "stderr",
     "output_type": "stream",
     "text": [
      "Overall Genome Download Progress:  21%|██        | 41/196 [03:28<12:53,  4.99s/it]"
     ]
    },
    {
     "name": "stdout",
     "output_type": "stream",
     "text": [
      "\n",
      "Processing species: Corynebacterium singulare\n",
      "Searching for 'Corynebacterium singulare' with term: '\"Corynebacterium singulare\"[Organism] AND \"complete genome\"[Assembly Level]'\n",
      "Found assembly ID: 250761 for Corynebacterium singulare\n",
      "Attempting to download from: ftp://ftp.ncbi.nlm.nih.gov/genomes/all/GCF/000/833/575/GCF_000833575.1_ASM83357v1/GCF_000833575.1_ASM83357v1_genomic.fna.gz\n",
      "Using wget for FTP download: ftp://ftp.ncbi.nlm.nih.gov/genomes/all/GCF/000/833/575/GCF_000833575.1_ASM83357v1/GCF_000833575.1_ASM83357v1_genomic.fna.gz\n",
      "Downloaded Corynebacterium singulare to genomes/Corynebacterium_singulare.fna.gz using wget.\n",
      "Decompressing genomes/Corynebacterium_singulare.fna.gz...\n",
      "Decompressed to genomes/Corynebacterium_singulare.fna\n"
     ]
    },
    {
     "name": "stderr",
     "output_type": "stream",
     "text": [
      "Overall Genome Download Progress:  21%|██▏       | 42/196 [03:32<12:41,  4.94s/it]"
     ]
    },
    {
     "name": "stdout",
     "output_type": "stream",
     "text": [
      "\n",
      "Processing species: Corynebacterium ureicelerivorans\n",
      "Searching for 'Corynebacterium ureicelerivorans' with term: '\"Corynebacterium ureicelerivorans\"[Organism] AND \"complete genome\"[Assembly Level]'\n",
      "Found assembly ID: 207081 for Corynebacterium ureicelerivorans\n",
      "Attempting to download from: ftp://ftp.ncbi.nlm.nih.gov/genomes/all/GCF/000/747/315/GCF_000747315.1_ASM74731v1/GCF_000747315.1_ASM74731v1_genomic.fna.gz\n",
      "Using wget for FTP download: ftp://ftp.ncbi.nlm.nih.gov/genomes/all/GCF/000/747/315/GCF_000747315.1_ASM74731v1/GCF_000747315.1_ASM74731v1_genomic.fna.gz\n",
      "Downloaded Corynebacterium ureicelerivorans to genomes/Corynebacterium_ureicelerivorans.fna.gz using wget.\n",
      "Decompressing genomes/Corynebacterium_ureicelerivorans.fna.gz...\n",
      "Decompressed to genomes/Corynebacterium_ureicelerivorans.fna\n"
     ]
    },
    {
     "name": "stderr",
     "output_type": "stream",
     "text": [
      "Overall Genome Download Progress:  22%|██▏       | 43/196 [03:37<12:21,  4.85s/it]"
     ]
    },
    {
     "name": "stdout",
     "output_type": "stream",
     "text": [
      "\n",
      "Processing species: Corynebacterium variabile\n",
      "Searching for 'Corynebacterium variabile' with term: '\"Corynebacterium variabile\"[Organism] AND \"complete genome\"[Assembly Level]'\n",
      "Found assembly ID: 296008 for Corynebacterium variabile\n",
      "Attempting to download from: ftp://ftp.ncbi.nlm.nih.gov/genomes/all/GCF/000/179/395/GCF_000179395.2_ASM17939v2/GCF_000179395.2_ASM17939v2_genomic.fna.gz\n",
      "Using wget for FTP download: ftp://ftp.ncbi.nlm.nih.gov/genomes/all/GCF/000/179/395/GCF_000179395.2_ASM17939v2/GCF_000179395.2_ASM17939v2_genomic.fna.gz\n",
      "Downloaded Corynebacterium variabile to genomes/Corynebacterium_variabile.fna.gz using wget.\n",
      "Decompressing genomes/Corynebacterium_variabile.fna.gz...\n",
      "Decompressed to genomes/Corynebacterium_variabile.fna\n"
     ]
    },
    {
     "name": "stderr",
     "output_type": "stream",
     "text": [
      "Overall Genome Download Progress:  22%|██▏       | 44/196 [03:42<12:14,  4.83s/it]"
     ]
    },
    {
     "name": "stdout",
     "output_type": "stream",
     "text": [
      "\n",
      "Processing species: Cupriavidus metallidurans\n",
      "Searching for 'Cupriavidus metallidurans' with term: '\"Cupriavidus metallidurans\"[Organism] AND \"complete genome\"[Assembly Level]'\n",
      "Found assembly ID: 74744198 for Cupriavidus metallidurans\n",
      "Attempting to download from: ftp://ftp.ncbi.nlm.nih.gov/genomes/all/GCF/050/820/565/GCF_050820565.1_ASM5082056v1/GCF_050820565.1_ASM5082056v1_genomic.fna.gz\n",
      "Using wget for FTP download: ftp://ftp.ncbi.nlm.nih.gov/genomes/all/GCF/050/820/565/GCF_050820565.1_ASM5082056v1/GCF_050820565.1_ASM5082056v1_genomic.fna.gz\n",
      "Downloaded Cupriavidus metallidurans to genomes/Cupriavidus_metallidurans.fna.gz using wget.\n",
      "Decompressing genomes/Cupriavidus_metallidurans.fna.gz...\n",
      "Decompressed to genomes/Cupriavidus_metallidurans.fna\n"
     ]
    },
    {
     "name": "stderr",
     "output_type": "stream",
     "text": [
      "Overall Genome Download Progress:  23%|██▎       | 45/196 [03:47<12:12,  4.85s/it]"
     ]
    },
    {
     "name": "stdout",
     "output_type": "stream",
     "text": [
      "\n",
      "Processing species: Cutibacterium acnes\n",
      "Searching for 'Cutibacterium acnes' with term: '\"Cutibacterium acnes\"[Organism] AND \"complete genome\"[Assembly Level]'\n",
      "Found assembly ID: 61301068 for Cutibacterium acnes\n",
      "Attempting to download from: ftp://ftp.ncbi.nlm.nih.gov/genomes/all/GCF/041/410/355/GCF_041410355.1_ASM4141035v1/GCF_041410355.1_ASM4141035v1_genomic.fna.gz\n",
      "Using wget for FTP download: ftp://ftp.ncbi.nlm.nih.gov/genomes/all/GCF/041/410/355/GCF_041410355.1_ASM4141035v1/GCF_041410355.1_ASM4141035v1_genomic.fna.gz\n",
      "Downloaded Cutibacterium acnes to genomes/Cutibacterium_acnes.fna.gz using wget.\n",
      "Decompressing genomes/Cutibacterium_acnes.fna.gz...\n",
      "Decompressed to genomes/Cutibacterium_acnes.fna\n"
     ]
    },
    {
     "name": "stderr",
     "output_type": "stream",
     "text": [
      "Overall Genome Download Progress:  23%|██▎       | 46/196 [03:52<12:08,  4.85s/it]"
     ]
    },
    {
     "name": "stdout",
     "output_type": "stream",
     "text": [
      "\n",
      "Processing species: Cutibacterium avidum\n",
      "Searching for 'Cutibacterium avidum' with term: '\"Cutibacterium avidum\"[Organism] AND \"complete genome\"[Assembly Level]'\n",
      "Found assembly ID: 59975448 for Cutibacterium avidum\n",
      "Attempting to download from: ftp://ftp.ncbi.nlm.nih.gov/genomes/all/GCF/040/436/375/GCF_040436375.1_ASM4043637v1/GCF_040436375.1_ASM4043637v1_genomic.fna.gz\n",
      "Using wget for FTP download: ftp://ftp.ncbi.nlm.nih.gov/genomes/all/GCF/040/436/375/GCF_040436375.1_ASM4043637v1/GCF_040436375.1_ASM4043637v1_genomic.fna.gz\n",
      "Downloaded Cutibacterium avidum to genomes/Cutibacterium_avidum.fna.gz using wget.\n",
      "Decompressing genomes/Cutibacterium_avidum.fna.gz...\n",
      "Decompressed to genomes/Cutibacterium_avidum.fna\n"
     ]
    },
    {
     "name": "stderr",
     "output_type": "stream",
     "text": [
      "Overall Genome Download Progress:  24%|██▍       | 47/196 [03:56<12:03,  4.86s/it]"
     ]
    },
    {
     "name": "stdout",
     "output_type": "stream",
     "text": [
      "\n",
      "Processing species: Deinococcus gobiensis\n",
      "Searching for 'Deinococcus gobiensis' with term: '\"Deinococcus gobiensis\"[Organism] AND \"complete genome\"[Assembly Level]'\n",
      "Found assembly ID: 378978 for Deinococcus gobiensis\n",
      "Attempting to download from: ftp://ftp.ncbi.nlm.nih.gov/genomes/all/GCF/000/252/445/GCF_000252445.1_ASM25244v1/GCF_000252445.1_ASM25244v1_genomic.fna.gz\n",
      "Using wget for FTP download: ftp://ftp.ncbi.nlm.nih.gov/genomes/all/GCF/000/252/445/GCF_000252445.1_ASM25244v1/GCF_000252445.1_ASM25244v1_genomic.fna.gz\n",
      "Downloaded Deinococcus gobiensis to genomes/Deinococcus_gobiensis.fna.gz using wget.\n",
      "Decompressing genomes/Deinococcus_gobiensis.fna.gz...\n",
      "Decompressed to genomes/Deinococcus_gobiensis.fna\n"
     ]
    },
    {
     "name": "stderr",
     "output_type": "stream",
     "text": [
      "Overall Genome Download Progress:  24%|██▍       | 48/196 [04:01<11:57,  4.85s/it]"
     ]
    },
    {
     "name": "stdout",
     "output_type": "stream",
     "text": [
      "\n",
      "Processing species: Deinococcus radiodurans\n",
      "Searching for 'Deinococcus radiodurans' with term: '\"Deinococcus radiodurans\"[Organism] AND \"complete genome\"[Assembly Level]'\n",
      "Found assembly ID: 66013088 for Deinococcus radiodurans\n",
      "Attempting to download from: ftp://ftp.ncbi.nlm.nih.gov/genomes/all/GCF/045/277/105/GCF_045277105.1_KDR13939K_1.0/GCF_045277105.1_KDR13939K_1.0_genomic.fna.gz\n",
      "Using wget for FTP download: ftp://ftp.ncbi.nlm.nih.gov/genomes/all/GCF/045/277/105/GCF_045277105.1_KDR13939K_1.0/GCF_045277105.1_KDR13939K_1.0_genomic.fna.gz\n",
      "Downloaded Deinococcus radiodurans to genomes/Deinococcus_radiodurans.fna.gz using wget.\n",
      "Decompressing genomes/Deinococcus_radiodurans.fna.gz...\n",
      "Decompressed to genomes/Deinococcus_radiodurans.fna\n"
     ]
    },
    {
     "name": "stderr",
     "output_type": "stream",
     "text": [
      "Overall Genome Download Progress:  25%|██▌       | 49/196 [04:06<12:07,  4.95s/it]"
     ]
    },
    {
     "name": "stdout",
     "output_type": "stream",
     "text": [
      "\n",
      "Processing species: Deinococcus swuensis\n",
      "Searching for 'Deinococcus swuensis' with term: '\"Deinococcus swuensis\"[Organism] AND \"complete genome\"[Assembly Level]'\n",
      "Found assembly ID: 233751 for Deinococcus swuensis\n",
      "Attempting to download from: ftp://ftp.ncbi.nlm.nih.gov/genomes/all/GCF/000/800/395/GCF_000800395.1_ASM80039v1/GCF_000800395.1_ASM80039v1_genomic.fna.gz\n",
      "Using wget for FTP download: ftp://ftp.ncbi.nlm.nih.gov/genomes/all/GCF/000/800/395/GCF_000800395.1_ASM80039v1/GCF_000800395.1_ASM80039v1_genomic.fna.gz\n",
      "Downloaded Deinococcus swuensis to genomes/Deinococcus_swuensis.fna.gz using wget.\n",
      "Decompressing genomes/Deinococcus_swuensis.fna.gz...\n",
      "Decompressed to genomes/Deinococcus_swuensis.fna\n"
     ]
    },
    {
     "name": "stderr",
     "output_type": "stream",
     "text": [
      "Overall Genome Download Progress:  26%|██▌       | 50/196 [04:12<12:06,  4.98s/it]"
     ]
    },
    {
     "name": "stdout",
     "output_type": "stream",
     "text": [
      "\n",
      "Processing species: Dermacoccus nishinomiyaensis\n",
      "Searching for 'Dermacoccus nishinomiyaensis' with term: '\"Dermacoccus nishinomiyaensis\"[Organism] AND \"complete genome\"[Assembly Level]'\n",
      "Found assembly ID: 55196238 for Dermacoccus nishinomiyaensis\n",
      "Attempting to download from: ftp://ftp.ncbi.nlm.nih.gov/genomes/all/GCF/037/331/475/GCF_037331475.1_ASM3733147v1/GCF_037331475.1_ASM3733147v1_genomic.fna.gz\n",
      "Using wget for FTP download: ftp://ftp.ncbi.nlm.nih.gov/genomes/all/GCF/037/331/475/GCF_037331475.1_ASM3733147v1/GCF_037331475.1_ASM3733147v1_genomic.fna.gz\n",
      "Downloaded Dermacoccus nishinomiyaensis to genomes/Dermacoccus_nishinomiyaensis.fna.gz using wget.\n",
      "Decompressing genomes/Dermacoccus_nishinomiyaensis.fna.gz...\n",
      "Decompressed to genomes/Dermacoccus_nishinomiyaensis.fna\n"
     ]
    },
    {
     "name": "stderr",
     "output_type": "stream",
     "text": [
      "Overall Genome Download Progress:  26%|██▌       | 51/196 [04:17<12:21,  5.11s/it]"
     ]
    },
    {
     "name": "stdout",
     "output_type": "stream",
     "text": [
      "\n",
      "Processing species: Diaphorobacter polyhydroxybutyrativorans\n",
      "Searching for 'Diaphorobacter polyhydroxybutyrativorans' with term: '\"Diaphorobacter polyhydroxybutyrativorans\"[Organism] AND \"complete genome\"[Assembly Level]'\n",
      "Found assembly ID: 1150831 for Diaphorobacter polyhydroxybutyrativorans\n",
      "Attempting to download from: ftp://ftp.ncbi.nlm.nih.gov/genomes/all/GCF/002/214/645/GCF_002214645.1_ASM221464v1/GCF_002214645.1_ASM221464v1_genomic.fna.gz\n",
      "Using wget for FTP download: ftp://ftp.ncbi.nlm.nih.gov/genomes/all/GCF/002/214/645/GCF_002214645.1_ASM221464v1/GCF_002214645.1_ASM221464v1_genomic.fna.gz\n",
      "Downloaded Diaphorobacter polyhydroxybutyrativorans to genomes/Diaphorobacter_polyhydroxybutyrativorans.fna.gz using wget.\n",
      "Decompressing genomes/Diaphorobacter_polyhydroxybutyrativorans.fna.gz...\n",
      "Decompressed to genomes/Diaphorobacter_polyhydroxybutyrativorans.fna\n"
     ]
    },
    {
     "name": "stderr",
     "output_type": "stream",
     "text": [
      "Overall Genome Download Progress:  27%|██▋       | 52/196 [04:22<12:08,  5.06s/it]"
     ]
    },
    {
     "name": "stdout",
     "output_type": "stream",
     "text": [
      "\n",
      "Processing species: Enterobacter asburiae\n",
      "Searching for 'Enterobacter asburiae' with term: '\"Enterobacter asburiae\"[Organism] AND \"complete genome\"[Assembly Level]'\n",
      "Found assembly ID: 74822108 for Enterobacter asburiae\n",
      "Attempting to download from: ftp://ftp.ncbi.nlm.nih.gov/genomes/all/GCF/050/883/555/GCF_050883555.1_ASM5088355v1/GCF_050883555.1_ASM5088355v1_genomic.fna.gz\n",
      "Using wget for FTP download: ftp://ftp.ncbi.nlm.nih.gov/genomes/all/GCF/050/883/555/GCF_050883555.1_ASM5088355v1/GCF_050883555.1_ASM5088355v1_genomic.fna.gz\n",
      "Downloaded Enterobacter asburiae to genomes/Enterobacter_asburiae.fna.gz using wget.\n",
      "Decompressing genomes/Enterobacter_asburiae.fna.gz...\n",
      "Decompressed to genomes/Enterobacter_asburiae.fna\n"
     ]
    },
    {
     "name": "stderr",
     "output_type": "stream",
     "text": [
      "Overall Genome Download Progress:  27%|██▋       | 53/196 [04:27<11:56,  5.01s/it]"
     ]
    },
    {
     "name": "stdout",
     "output_type": "stream",
     "text": [
      "\n",
      "Processing species: Enterobacter cloacae\n",
      "Searching for 'Enterobacter cloacae' with term: '\"Enterobacter cloacae\"[Organism] AND \"complete genome\"[Assembly Level]'\n",
      "Found assembly ID: 75049948 for Enterobacter cloacae\n",
      "Attempting to download from: ftp://ftp.ncbi.nlm.nih.gov/genomes/all/GCF/051/046/885/GCF_051046885.1_ASM5104688v1/GCF_051046885.1_ASM5104688v1_genomic.fna.gz\n",
      "Using wget for FTP download: ftp://ftp.ncbi.nlm.nih.gov/genomes/all/GCF/051/046/885/GCF_051046885.1_ASM5104688v1/GCF_051046885.1_ASM5104688v1_genomic.fna.gz\n",
      "Downloaded Enterobacter cloacae to genomes/Enterobacter_cloacae.fna.gz using wget.\n",
      "Decompressing genomes/Enterobacter_cloacae.fna.gz...\n",
      "Decompressed to genomes/Enterobacter_cloacae.fna\n"
     ]
    },
    {
     "name": "stderr",
     "output_type": "stream",
     "text": [
      "Overall Genome Download Progress:  28%|██▊       | 54/196 [04:32<11:49,  4.99s/it]"
     ]
    },
    {
     "name": "stdout",
     "output_type": "stream",
     "text": [
      "\n",
      "Processing species: Enterococcus faecalis\n",
      "Searching for 'Enterococcus faecalis' with term: '\"Enterococcus faecalis\"[Organism] AND \"complete genome\"[Assembly Level]'\n",
      "Found assembly ID: 74870378 for Enterococcus faecalis\n",
      "Attempting to download from: ftp://ftp.ncbi.nlm.nih.gov/genomes/all/GCF/050/916/215/GCF_050916215.1_ASM5091621v1/GCF_050916215.1_ASM5091621v1_genomic.fna.gz\n",
      "Using wget for FTP download: ftp://ftp.ncbi.nlm.nih.gov/genomes/all/GCF/050/916/215/GCF_050916215.1_ASM5091621v1/GCF_050916215.1_ASM5091621v1_genomic.fna.gz\n",
      "Downloaded Enterococcus faecalis to genomes/Enterococcus_faecalis.fna.gz using wget.\n",
      "Decompressing genomes/Enterococcus_faecalis.fna.gz...\n",
      "Decompressed to genomes/Enterococcus_faecalis.fna\n"
     ]
    },
    {
     "name": "stderr",
     "output_type": "stream",
     "text": [
      "Overall Genome Download Progress:  28%|██▊       | 55/196 [04:37<11:41,  4.97s/it]"
     ]
    },
    {
     "name": "stdout",
     "output_type": "stream",
     "text": [
      "\n",
      "Processing species: Enterococcus faecium\n",
      "Searching for 'Enterococcus faecium' with term: '\"Enterococcus faecium\"[Organism] AND \"complete genome\"[Assembly Level]'\n",
      "Found assembly ID: 74858428 for Enterococcus faecium\n",
      "Attempting to download from: ftp://ftp.ncbi.nlm.nih.gov/genomes/all/GCF/050/909/085/GCF_050909085.1_ASM5090908v1/GCF_050909085.1_ASM5090908v1_genomic.fna.gz\n",
      "Using wget for FTP download: ftp://ftp.ncbi.nlm.nih.gov/genomes/all/GCF/050/909/085/GCF_050909085.1_ASM5090908v1/GCF_050909085.1_ASM5090908v1_genomic.fna.gz\n",
      "Downloaded Enterococcus faecium to genomes/Enterococcus_faecium.fna.gz using wget.\n",
      "Decompressing genomes/Enterococcus_faecium.fna.gz...\n",
      "Decompressed to genomes/Enterococcus_faecium.fna\n"
     ]
    },
    {
     "name": "stderr",
     "output_type": "stream",
     "text": [
      "Overall Genome Download Progress:  29%|██▊       | 56/196 [04:41<11:26,  4.90s/it]"
     ]
    },
    {
     "name": "stdout",
     "output_type": "stream",
     "text": [
      "\n",
      "Processing species: Erwinia billingiae\n",
      "Searching for 'Erwinia billingiae' with term: '\"Erwinia billingiae\"[Organism] AND \"complete genome\"[Assembly Level]'\n",
      "Found assembly ID: 54196598 for Erwinia billingiae\n",
      "Attempting to download from: ftp://ftp.ncbi.nlm.nih.gov/genomes/all/GCF/036/865/555/GCF_036865555.1_ASM3686555v1/GCF_036865555.1_ASM3686555v1_genomic.fna.gz\n",
      "Using wget for FTP download: ftp://ftp.ncbi.nlm.nih.gov/genomes/all/GCF/036/865/555/GCF_036865555.1_ASM3686555v1/GCF_036865555.1_ASM3686555v1_genomic.fna.gz\n",
      "Downloaded Erwinia billingiae to genomes/Erwinia_billingiae.fna.gz using wget.\n",
      "Decompressing genomes/Erwinia_billingiae.fna.gz...\n",
      "Decompressed to genomes/Erwinia_billingiae.fna\n"
     ]
    },
    {
     "name": "stderr",
     "output_type": "stream",
     "text": [
      "Overall Genome Download Progress:  29%|██▉       | 57/196 [04:46<11:26,  4.94s/it]"
     ]
    },
    {
     "name": "stdout",
     "output_type": "stream",
     "text": [
      "\n",
      "Processing species: Erwinia gerundensis\n",
      "Searching for 'Erwinia gerundensis' with term: '\"Erwinia gerundensis\"[Organism] AND \"complete genome\"[Assembly Level]'\n",
      "Found assembly ID: 11115721 for Erwinia gerundensis\n",
      "Attempting to download from: ftp://ftp.ncbi.nlm.nih.gov/genomes/all/GCF/020/342/335/GCF_020342335.1_ASM2034233v1/GCF_020342335.1_ASM2034233v1_genomic.fna.gz\n",
      "Using wget for FTP download: ftp://ftp.ncbi.nlm.nih.gov/genomes/all/GCF/020/342/335/GCF_020342335.1_ASM2034233v1/GCF_020342335.1_ASM2034233v1_genomic.fna.gz\n",
      "Downloaded Erwinia gerundensis to genomes/Erwinia_gerundensis.fna.gz using wget.\n",
      "Decompressing genomes/Erwinia_gerundensis.fna.gz...\n",
      "Decompressed to genomes/Erwinia_gerundensis.fna\n"
     ]
    },
    {
     "name": "stderr",
     "output_type": "stream",
     "text": [
      "Overall Genome Download Progress:  30%|██▉       | 58/196 [04:51<11:23,  4.96s/it]"
     ]
    },
    {
     "name": "stdout",
     "output_type": "stream",
     "text": [
      "\n",
      "Processing species: Escherichia coli\n",
      "Searching for 'Escherichia coli' with term: '\"Escherichia coli\"[Organism] AND \"complete genome\"[Assembly Level]'\n",
      "Found assembly ID: 75270748 for Escherichia coli\n",
      "No FTP path found for Escherichia coli with term '\"Escherichia coli\"[Organism] AND \"complete genome\"[Assembly Level]'. Trying next search term.\n",
      "Searching for 'Escherichia coli' with term: '\"Escherichia coli\"[Organism] AND \"reference genome\"[Refseq Category]'\n",
      "Found assembly ID: 1755381 for Escherichia coli\n",
      "Attempting to download from: ftp://ftp.ncbi.nlm.nih.gov/genomes/all/GCF/000/008/865/GCF_000008865.2_ASM886v2/GCF_000008865.2_ASM886v2_genomic.fna.gz\n",
      "Using wget for FTP download: ftp://ftp.ncbi.nlm.nih.gov/genomes/all/GCF/000/008/865/GCF_000008865.2_ASM886v2/GCF_000008865.2_ASM886v2_genomic.fna.gz\n",
      "Downloaded Escherichia coli to genomes/Escherichia_coli.fna.gz using wget.\n",
      "Decompressing genomes/Escherichia_coli.fna.gz...\n",
      "Decompressed to genomes/Escherichia_coli.fna\n"
     ]
    },
    {
     "name": "stderr",
     "output_type": "stream",
     "text": [
      "Overall Genome Download Progress:  30%|███       | 59/196 [04:58<12:29,  5.47s/it]"
     ]
    },
    {
     "name": "stdout",
     "output_type": "stream",
     "text": [
      "\n",
      "Processing species: Exiguobacterium sp. AT1b\n",
      "Searching for 'Exiguobacterium sp. AT1b' with term: '\"Exiguobacterium sp. AT1b\"[Organism] AND \"complete genome\"[Assembly Level]'\n",
      "Found assembly ID: 43848 for Exiguobacterium sp. AT1b\n",
      "Attempting to download from: ftp://ftp.ncbi.nlm.nih.gov/genomes/all/GCF/000/023/045/GCF_000023045.1_ASM2304v1/GCF_000023045.1_ASM2304v1_genomic.fna.gz\n",
      "Using wget for FTP download: ftp://ftp.ncbi.nlm.nih.gov/genomes/all/GCF/000/023/045/GCF_000023045.1_ASM2304v1/GCF_000023045.1_ASM2304v1_genomic.fna.gz\n",
      "Downloaded Exiguobacterium sp. AT1b to genomes/Exiguobacterium_sp._AT1b.fna.gz using wget.\n",
      "Decompressing genomes/Exiguobacterium_sp._AT1b.fna.gz...\n",
      "Decompressed to genomes/Exiguobacterium_sp._AT1b.fna\n"
     ]
    },
    {
     "name": "stderr",
     "output_type": "stream",
     "text": [
      "Overall Genome Download Progress:  31%|███       | 60/196 [05:03<11:52,  5.24s/it]"
     ]
    },
    {
     "name": "stdout",
     "output_type": "stream",
     "text": [
      "\n",
      "Processing species: Geodermatophilus obscurus\n",
      "Searching for 'Geodermatophilus obscurus' with term: '\"Geodermatophilus obscurus\"[Organism] AND \"complete genome\"[Assembly Level]'\n",
      "Found assembly ID: 107868 for Geodermatophilus obscurus\n",
      "Attempting to download from: ftp://ftp.ncbi.nlm.nih.gov/genomes/all/GCF/000/025/345/GCF_000025345.1_ASM2534v1/GCF_000025345.1_ASM2534v1_genomic.fna.gz\n",
      "Using wget for FTP download: ftp://ftp.ncbi.nlm.nih.gov/genomes/all/GCF/000/025/345/GCF_000025345.1_ASM2534v1/GCF_000025345.1_ASM2534v1_genomic.fna.gz\n",
      "Downloaded Geodermatophilus obscurus to genomes/Geodermatophilus_obscurus.fna.gz using wget.\n",
      "Decompressing genomes/Geodermatophilus_obscurus.fna.gz...\n",
      "Decompressed to genomes/Geodermatophilus_obscurus.fna\n"
     ]
    },
    {
     "name": "stderr",
     "output_type": "stream",
     "text": [
      "Overall Genome Download Progress:  31%|███       | 61/196 [05:08<11:45,  5.22s/it]"
     ]
    },
    {
     "name": "stdout",
     "output_type": "stream",
     "text": [
      "\n",
      "Processing species: Gordonia bronchialis\n",
      "Searching for 'Gordonia bronchialis' with term: '\"Gordonia bronchialis\"[Organism] AND \"complete genome\"[Assembly Level]'\n",
      "Found assembly ID: 10877521 for Gordonia bronchialis\n",
      "Attempting to download from: ftp://ftp.ncbi.nlm.nih.gov/genomes/all/GCF/019/930/645/GCF_019930645.1_ASM1993064v1/GCF_019930645.1_ASM1993064v1_genomic.fna.gz\n",
      "Using wget for FTP download: ftp://ftp.ncbi.nlm.nih.gov/genomes/all/GCF/019/930/645/GCF_019930645.1_ASM1993064v1/GCF_019930645.1_ASM1993064v1_genomic.fna.gz\n",
      "Downloaded Gordonia bronchialis to genomes/Gordonia_bronchialis.fna.gz using wget.\n",
      "Decompressing genomes/Gordonia_bronchialis.fna.gz...\n",
      "Decompressed to genomes/Gordonia_bronchialis.fna\n"
     ]
    },
    {
     "name": "stderr",
     "output_type": "stream",
     "text": [
      "Overall Genome Download Progress:  32%|███▏      | 62/196 [05:13<11:25,  5.11s/it]"
     ]
    },
    {
     "name": "stdout",
     "output_type": "stream",
     "text": [
      "\n",
      "Processing species: Gordonia phage Phinally\n",
      "Searching for 'Gordonia phage Phinally' with term: '\"Gordonia phage Phinally\"[Organism] AND \"complete genome\"[Assembly Level]'\n",
      "Found assembly ID: 4810268 for Gordonia phage Phinally\n",
      "Attempting to download from: ftp://ftp.ncbi.nlm.nih.gov/genomes/all/GCF/001/745/935/GCF_001745935.1_ViralProj344171/GCF_001745935.1_ViralProj344171_genomic.fna.gz\n",
      "Using wget for FTP download: ftp://ftp.ncbi.nlm.nih.gov/genomes/all/GCF/001/745/935/GCF_001745935.1_ViralProj344171/GCF_001745935.1_ViralProj344171_genomic.fna.gz\n",
      "Downloaded Gordonia phage Phinally to genomes/Gordonia_phage_Phinally.fna.gz using wget.\n",
      "Decompressing genomes/Gordonia_phage_Phinally.fna.gz...\n",
      "Decompressed to genomes/Gordonia_phage_Phinally.fna\n"
     ]
    },
    {
     "name": "stderr",
     "output_type": "stream",
     "text": [
      "Overall Genome Download Progress:  32%|███▏      | 63/196 [05:17<10:42,  4.83s/it]"
     ]
    },
    {
     "name": "stdout",
     "output_type": "stream",
     "text": [
      "\n",
      "Processing species: Gordonia sp. KTR9\n",
      "Searching for 'Gordonia sp. KTR9' with term: '\"Gordonia sp. KTR9\"[Organism] AND \"complete genome\"[Assembly Level]'\n",
      "Found assembly ID: 446818 for Gordonia sp. KTR9\n",
      "Attempting to download from: ftp://ftp.ncbi.nlm.nih.gov/genomes/all/GCF/000/143/885/GCF_000143885.2_ASM14388v2/GCF_000143885.2_ASM14388v2_genomic.fna.gz\n",
      "Using wget for FTP download: ftp://ftp.ncbi.nlm.nih.gov/genomes/all/GCF/000/143/885/GCF_000143885.2_ASM14388v2/GCF_000143885.2_ASM14388v2_genomic.fna.gz\n",
      "Downloaded Gordonia sp. KTR9 to genomes/Gordonia_sp._KTR9.fna.gz using wget.\n",
      "Decompressing genomes/Gordonia_sp._KTR9.fna.gz...\n",
      "Decompressed to genomes/Gordonia_sp._KTR9.fna\n"
     ]
    },
    {
     "name": "stderr",
     "output_type": "stream",
     "text": [
      "Overall Genome Download Progress:  33%|███▎      | 64/196 [05:22<10:40,  4.85s/it]"
     ]
    },
    {
     "name": "stdout",
     "output_type": "stream",
     "text": [
      "\n",
      "Processing species: Gordonia terrae\n",
      "Searching for 'Gordonia terrae' with term: '\"Gordonia terrae\"[Organism] AND \"complete genome\"[Assembly Level]'\n",
      "Found assembly ID: 12653381 for Gordonia terrae\n",
      "Attempting to download from: ftp://ftp.ncbi.nlm.nih.gov/genomes/all/GCF/023/238/525/GCF_023238525.1_ASM2323852v1/GCF_023238525.1_ASM2323852v1_genomic.fna.gz\n",
      "Using wget for FTP download: ftp://ftp.ncbi.nlm.nih.gov/genomes/all/GCF/023/238/525/GCF_023238525.1_ASM2323852v1/GCF_023238525.1_ASM2323852v1_genomic.fna.gz\n",
      "Downloaded Gordonia terrae to genomes/Gordonia_terrae.fna.gz using wget.\n",
      "Decompressing genomes/Gordonia_terrae.fna.gz...\n",
      "Decompressed to genomes/Gordonia_terrae.fna\n"
     ]
    },
    {
     "name": "stderr",
     "output_type": "stream",
     "text": [
      "Overall Genome Download Progress:  33%|███▎      | 65/196 [05:27<10:34,  4.84s/it]"
     ]
    },
    {
     "name": "stdout",
     "output_type": "stream",
     "text": [
      "\n",
      "Processing species: Human mastadenovirus C\n",
      "Searching for 'Human mastadenovirus C' with term: '\"Human mastadenovirus C\"[Organism] AND \"complete genome\"[Assembly Level]'\n",
      "Found assembly ID: 54912508 for Human mastadenovirus C\n",
      "No FTP path found for Human mastadenovirus C with term '\"Human mastadenovirus C\"[Organism] AND \"complete genome\"[Assembly Level]'. Trying next search term.\n",
      "Searching for 'Human mastadenovirus C' with term: '\"Human mastadenovirus C\"[Organism] AND \"reference genome\"[Refseq Category]'\n",
      "No assembly found for Human mastadenovirus C with term '\"Human mastadenovirus C\"[Organism] AND \"reference genome\"[Refseq Category]'. Trying next search term.\n",
      "Searching for 'Human mastadenovirus C' with term: '\"Human mastadenovirus C\"[Organism] AND latest[filter]'\n",
      "Found assembly ID: 54912508 for Human mastadenovirus C\n",
      "No FTP path found for Human mastadenovirus C with term '\"Human mastadenovirus C\"[Organism] AND latest[filter]'. Trying next search term.\n",
      "Searching for 'Human mastadenovirus C' with term: '\"Human mastadenovirus C\"[Organism]'\n",
      "Found assembly ID: 54912508 for Human mastadenovirus C\n",
      "No FTP path found for Human mastadenovirus C with term '\"Human mastadenovirus C\"[Organism]'. Trying next search term.\n",
      "Failed to download genome for Human mastadenovirus C after trying all search terms.\n",
      "Could not download genome for Human mastadenovirus C. Please check the species name or try again later.\n"
     ]
    },
    {
     "name": "stderr",
     "output_type": "stream",
     "text": [
      "Overall Genome Download Progress:  34%|███▎      | 66/196 [05:36<13:16,  6.13s/it]"
     ]
    },
    {
     "name": "stdout",
     "output_type": "stream",
     "text": [
      "\n",
      "Processing species: Hydrogenophaga sp. RAC07\n",
      "Searching for 'Hydrogenophaga sp. RAC07' with term: '\"Hydrogenophaga sp. RAC07\"[Organism] AND \"complete genome\"[Assembly Level]'\n",
      "Found assembly ID: 786741 for Hydrogenophaga sp. RAC07\n",
      "Attempting to download from: ftp://ftp.ncbi.nlm.nih.gov/genomes/all/GCF/001/713/375/GCF_001713375.1_ASM171337v1/GCF_001713375.1_ASM171337v1_genomic.fna.gz\n",
      "Using wget for FTP download: ftp://ftp.ncbi.nlm.nih.gov/genomes/all/GCF/001/713/375/GCF_001713375.1_ASM171337v1/GCF_001713375.1_ASM171337v1_genomic.fna.gz\n",
      "Downloaded Hydrogenophaga sp. RAC07 to genomes/Hydrogenophaga_sp._RAC07.fna.gz using wget.\n",
      "Decompressing genomes/Hydrogenophaga_sp._RAC07.fna.gz...\n",
      "Decompressed to genomes/Hydrogenophaga_sp._RAC07.fna\n"
     ]
    },
    {
     "name": "stderr",
     "output_type": "stream",
     "text": [
      "Overall Genome Download Progress:  34%|███▍      | 67/196 [05:41<12:18,  5.72s/it]"
     ]
    },
    {
     "name": "stdout",
     "output_type": "stream",
     "text": [
      "\n",
      "Processing species: Hymenobacter sp. APR13\n",
      "Searching for 'Hymenobacter sp. APR13' with term: '\"Hymenobacter sp. APR13\"[Organism] AND \"complete genome\"[Assembly Level]'\n",
      "Found assembly ID: 202211 for Hymenobacter sp. APR13\n",
      "Attempting to download from: ftp://ftp.ncbi.nlm.nih.gov/genomes/all/GCF/000/737/515/GCF_000737515.1_ASM73751v1/GCF_000737515.1_ASM73751v1_genomic.fna.gz\n",
      "Using wget for FTP download: ftp://ftp.ncbi.nlm.nih.gov/genomes/all/GCF/000/737/515/GCF_000737515.1_ASM73751v1/GCF_000737515.1_ASM73751v1_genomic.fna.gz\n",
      "Downloaded Hymenobacter sp. APR13 to genomes/Hymenobacter_sp._APR13.fna.gz using wget.\n",
      "Decompressing genomes/Hymenobacter_sp._APR13.fna.gz...\n",
      "Decompressed to genomes/Hymenobacter_sp._APR13.fna\n"
     ]
    },
    {
     "name": "stderr",
     "output_type": "stream",
     "text": [
      "Overall Genome Download Progress:  35%|███▍      | 68/196 [05:45<11:36,  5.44s/it]"
     ]
    },
    {
     "name": "stdout",
     "output_type": "stream",
     "text": [
      "\n",
      "Processing species: Hymenobacter sp. PAMC 26554\n",
      "Searching for 'Hymenobacter sp. PAMC 26554' with term: '\"Hymenobacter sp. PAMC 26554\"[Organism] AND \"complete genome\"[Assembly Level]'\n",
      "Found assembly ID: 708411 for Hymenobacter sp. PAMC 26554\n",
      "Attempting to download from: ftp://ftp.ncbi.nlm.nih.gov/genomes/all/GCF/001/596/155/GCF_001596155.1_ASM159615v1/GCF_001596155.1_ASM159615v1_genomic.fna.gz\n",
      "Using wget for FTP download: ftp://ftp.ncbi.nlm.nih.gov/genomes/all/GCF/001/596/155/GCF_001596155.1_ASM159615v1/GCF_001596155.1_ASM159615v1_genomic.fna.gz\n",
      "Downloaded Hymenobacter sp. PAMC 26554 to genomes/Hymenobacter_sp._PAMC_26554.fna.gz using wget.\n",
      "Decompressing genomes/Hymenobacter_sp._PAMC_26554.fna.gz...\n",
      "Decompressed to genomes/Hymenobacter_sp._PAMC_26554.fna\n"
     ]
    },
    {
     "name": "stderr",
     "output_type": "stream",
     "text": [
      "Overall Genome Download Progress:  35%|███▌      | 69/196 [05:50<11:13,  5.31s/it]"
     ]
    },
    {
     "name": "stdout",
     "output_type": "stream",
     "text": [
      "\n",
      "Processing species: Hymenobacter sp. PAMC 26628\n",
      "Searching for 'Hymenobacter sp. PAMC 26628' with term: '\"Hymenobacter sp. PAMC 26628\"[Organism] AND \"complete genome\"[Assembly Level]'\n",
      "Found assembly ID: 642361 for Hymenobacter sp. PAMC 26628\n",
      "Attempting to download from: ftp://ftp.ncbi.nlm.nih.gov/genomes/all/GCF/001/562/275/GCF_001562275.1_ASM156227v1/GCF_001562275.1_ASM156227v1_genomic.fna.gz\n",
      "Using wget for FTP download: ftp://ftp.ncbi.nlm.nih.gov/genomes/all/GCF/001/562/275/GCF_001562275.1_ASM156227v1/GCF_001562275.1_ASM156227v1_genomic.fna.gz\n",
      "Downloaded Hymenobacter sp. PAMC 26628 to genomes/Hymenobacter_sp._PAMC_26628.fna.gz using wget.\n",
      "Decompressing genomes/Hymenobacter_sp._PAMC_26628.fna.gz...\n",
      "Decompressed to genomes/Hymenobacter_sp._PAMC_26628.fna\n"
     ]
    },
    {
     "name": "stderr",
     "output_type": "stream",
     "text": [
      "Overall Genome Download Progress:  36%|███▌      | 70/196 [05:55<10:49,  5.15s/it]"
     ]
    },
    {
     "name": "stdout",
     "output_type": "stream",
     "text": [
      "\n",
      "Processing species: Janibacter indicus\n",
      "Searching for 'Janibacter indicus' with term: '\"Janibacter indicus\"[Organism] AND \"complete genome\"[Assembly Level]'\n",
      "Found assembly ID: 8242471 for Janibacter indicus\n",
      "Attempting to download from: ftp://ftp.ncbi.nlm.nih.gov/genomes/all/GCF/014/883/915/GCF_014883915.1_ASM1488391v1/GCF_014883915.1_ASM1488391v1_genomic.fna.gz\n",
      "Using wget for FTP download: ftp://ftp.ncbi.nlm.nih.gov/genomes/all/GCF/014/883/915/GCF_014883915.1_ASM1488391v1/GCF_014883915.1_ASM1488391v1_genomic.fna.gz\n",
      "Downloaded Janibacter indicus to genomes/Janibacter_indicus.fna.gz using wget.\n",
      "Decompressing genomes/Janibacter_indicus.fna.gz...\n",
      "Decompressed to genomes/Janibacter_indicus.fna\n"
     ]
    },
    {
     "name": "stderr",
     "output_type": "stream",
     "text": [
      "Overall Genome Download Progress:  36%|███▌      | 71/196 [06:00<10:33,  5.06s/it]"
     ]
    },
    {
     "name": "stdout",
     "output_type": "stream",
     "text": [
      "\n",
      "Processing species: Jeotgalibacillus malaysiensis\n",
      "Searching for 'Jeotgalibacillus malaysiensis' with term: '\"Jeotgalibacillus malaysiensis\"[Organism] AND \"complete genome\"[Assembly Level]'\n",
      "Found assembly ID: 65428108 for Jeotgalibacillus malaysiensis\n",
      "Attempting to download from: ftp://ftp.ncbi.nlm.nih.gov/genomes/all/GCF/044/789/845/GCF_044789845.1_ASM4478984v1/GCF_044789845.1_ASM4478984v1_genomic.fna.gz\n",
      "Using wget for FTP download: ftp://ftp.ncbi.nlm.nih.gov/genomes/all/GCF/044/789/845/GCF_044789845.1_ASM4478984v1/GCF_044789845.1_ASM4478984v1_genomic.fna.gz\n",
      "Downloaded Jeotgalibacillus malaysiensis to genomes/Jeotgalibacillus_malaysiensis.fna.gz using wget.\n",
      "Decompressing genomes/Jeotgalibacillus_malaysiensis.fna.gz...\n",
      "Decompressed to genomes/Jeotgalibacillus_malaysiensis.fna\n"
     ]
    },
    {
     "name": "stderr",
     "output_type": "stream",
     "text": [
      "Overall Genome Download Progress:  37%|███▋      | 72/196 [06:05<10:16,  4.97s/it]"
     ]
    },
    {
     "name": "stdout",
     "output_type": "stream",
     "text": [
      "\n",
      "Processing species: Klebsiella pneumoniae\n",
      "Searching for 'Klebsiella pneumoniae' with term: '\"Klebsiella pneumoniae\"[Organism] AND \"complete genome\"[Assembly Level]'\n",
      "Found assembly ID: 75192598 for Klebsiella pneumoniae\n",
      "Attempting to download from: ftp://ftp.ncbi.nlm.nih.gov/genomes/all/GCF/051/144/715/GCF_051144715.1_ASM5114471v1/GCF_051144715.1_ASM5114471v1_genomic.fna.gz\n",
      "Using wget for FTP download: ftp://ftp.ncbi.nlm.nih.gov/genomes/all/GCF/051/144/715/GCF_051144715.1_ASM5114471v1/GCF_051144715.1_ASM5114471v1_genomic.fna.gz\n",
      "Downloaded Klebsiella pneumoniae to genomes/Klebsiella_pneumoniae.fna.gz using wget.\n",
      "Decompressing genomes/Klebsiella_pneumoniae.fna.gz...\n",
      "Decompressed to genomes/Klebsiella_pneumoniae.fna\n"
     ]
    },
    {
     "name": "stderr",
     "output_type": "stream",
     "text": [
      "Overall Genome Download Progress:  37%|███▋      | 73/196 [06:10<10:12,  4.98s/it]"
     ]
    },
    {
     "name": "stdout",
     "output_type": "stream",
     "text": [
      "\n",
      "Processing species: Klebsiella quasipneumoniae\n",
      "Searching for 'Klebsiella quasipneumoniae' with term: '\"Klebsiella quasipneumoniae\"[Organism] AND \"complete genome\"[Assembly Level]'\n",
      "Found assembly ID: 75158028 for Klebsiella quasipneumoniae\n",
      "Attempting to download from: ftp://ftp.ncbi.nlm.nih.gov/genomes/all/GCF/051/122/745/GCF_051122745.1_ASM5112274v1/GCF_051122745.1_ASM5112274v1_genomic.fna.gz\n",
      "Using wget for FTP download: ftp://ftp.ncbi.nlm.nih.gov/genomes/all/GCF/051/122/745/GCF_051122745.1_ASM5112274v1/GCF_051122745.1_ASM5112274v1_genomic.fna.gz\n",
      "Downloaded Klebsiella quasipneumoniae to genomes/Klebsiella_quasipneumoniae.fna.gz using wget.\n",
      "Decompressing genomes/Klebsiella_quasipneumoniae.fna.gz...\n",
      "Decompressed to genomes/Klebsiella_quasipneumoniae.fna\n"
     ]
    },
    {
     "name": "stderr",
     "output_type": "stream",
     "text": [
      "Overall Genome Download Progress:  38%|███▊      | 74/196 [06:15<10:13,  5.03s/it]"
     ]
    },
    {
     "name": "stdout",
     "output_type": "stream",
     "text": [
      "\n",
      "Processing species: Klebsiella quasivariicola\n",
      "Searching for 'Klebsiella quasivariicola' with term: '\"Klebsiella quasivariicola\"[Organism] AND \"complete genome\"[Assembly Level]'\n",
      "Found assembly ID: 62000818 for Klebsiella quasivariicola\n",
      "Attempting to download from: ftp://ftp.ncbi.nlm.nih.gov/genomes/all/GCF/022/818/695/GCF_022818695.2_KGMAR-2019-1434/GCF_022818695.2_KGMAR-2019-1434_genomic.fna.gz\n",
      "Using wget for FTP download: ftp://ftp.ncbi.nlm.nih.gov/genomes/all/GCF/022/818/695/GCF_022818695.2_KGMAR-2019-1434/GCF_022818695.2_KGMAR-2019-1434_genomic.fna.gz\n",
      "Downloaded Klebsiella quasivariicola to genomes/Klebsiella_quasivariicola.fna.gz using wget.\n",
      "Decompressing genomes/Klebsiella_quasivariicola.fna.gz...\n",
      "Decompressed to genomes/Klebsiella_quasivariicola.fna\n"
     ]
    },
    {
     "name": "stderr",
     "output_type": "stream",
     "text": [
      "Overall Genome Download Progress:  38%|███▊      | 75/196 [06:20<10:05,  5.00s/it]"
     ]
    },
    {
     "name": "stdout",
     "output_type": "stream",
     "text": [
      "\n",
      "Processing species: Kluyveromyces marxianus\n",
      "Searching for 'Kluyveromyces marxianus' with term: '\"Kluyveromyces marxianus\"[Organism] AND \"complete genome\"[Assembly Level]'\n",
      "Found assembly ID: 9120461 for Kluyveromyces marxianus\n",
      "No FTP path found for Kluyveromyces marxianus with term '\"Kluyveromyces marxianus\"[Organism] AND \"complete genome\"[Assembly Level]'. Trying next search term.\n",
      "Searching for 'Kluyveromyces marxianus' with term: '\"Kluyveromyces marxianus\"[Organism] AND \"reference genome\"[Refseq Category]'\n",
      "Found assembly ID: 562221 for Kluyveromyces marxianus\n",
      "Attempting to download from: ftp://ftp.ncbi.nlm.nih.gov/genomes/all/GCF/001/417/885/GCF_001417885.1_Kmar_1.0/GCF_001417885.1_Kmar_1.0_genomic.fna.gz\n",
      "Using wget for FTP download: ftp://ftp.ncbi.nlm.nih.gov/genomes/all/GCF/001/417/885/GCF_001417885.1_Kmar_1.0/GCF_001417885.1_Kmar_1.0_genomic.fna.gz\n",
      "Downloaded Kluyveromyces marxianus to genomes/Kluyveromyces_marxianus.fna.gz using wget.\n",
      "Decompressing genomes/Kluyveromyces_marxianus.fna.gz...\n",
      "Decompressed to genomes/Kluyveromyces_marxianus.fna\n"
     ]
    },
    {
     "name": "stderr",
     "output_type": "stream",
     "text": [
      "Overall Genome Download Progress:  39%|███▉      | 76/196 [06:27<11:04,  5.54s/it]"
     ]
    },
    {
     "name": "stdout",
     "output_type": "stream",
     "text": [
      "\n",
      "Processing species: Kocuria flava\n",
      "Searching for 'Kocuria flava' with term: '\"Kocuria flava\"[Organism] AND \"complete genome\"[Assembly Level]'\n",
      "Found assembly ID: 602711 for Kocuria flava\n",
      "Attempting to download from: ftp://ftp.ncbi.nlm.nih.gov/genomes/all/GCF/001/482/365/GCF_001482365.1_ASM148236v1/GCF_001482365.1_ASM148236v1_genomic.fna.gz\n",
      "Using wget for FTP download: ftp://ftp.ncbi.nlm.nih.gov/genomes/all/GCF/001/482/365/GCF_001482365.1_ASM148236v1/GCF_001482365.1_ASM148236v1_genomic.fna.gz\n",
      "Downloaded Kocuria flava to genomes/Kocuria_flava.fna.gz using wget.\n",
      "Decompressing genomes/Kocuria_flava.fna.gz...\n",
      "Decompressed to genomes/Kocuria_flava.fna\n"
     ]
    },
    {
     "name": "stderr",
     "output_type": "stream",
     "text": [
      "Overall Genome Download Progress:  39%|███▉      | 77/196 [06:32<10:45,  5.42s/it]"
     ]
    },
    {
     "name": "stdout",
     "output_type": "stream",
     "text": [
      "\n",
      "Processing species: Kocuria palustris\n",
      "Searching for 'Kocuria palustris' with term: '\"Kocuria palustris\"[Organism] AND \"complete genome\"[Assembly Level]'\n",
      "Found assembly ID: 72753598 for Kocuria palustris\n",
      "Attempting to download from: ftp://ftp.ncbi.nlm.nih.gov/genomes/all/GCF/049/354/735/GCF_049354735.1_ASM4935473v1/GCF_049354735.1_ASM4935473v1_genomic.fna.gz\n",
      "Using wget for FTP download: ftp://ftp.ncbi.nlm.nih.gov/genomes/all/GCF/049/354/735/GCF_049354735.1_ASM4935473v1/GCF_049354735.1_ASM4935473v1_genomic.fna.gz\n",
      "Downloaded Kocuria palustris to genomes/Kocuria_palustris.fna.gz using wget.\n",
      "Decompressing genomes/Kocuria_palustris.fna.gz...\n",
      "Decompressed to genomes/Kocuria_palustris.fna\n"
     ]
    },
    {
     "name": "stderr",
     "output_type": "stream",
     "text": [
      "Overall Genome Download Progress:  40%|███▉      | 78/196 [06:37<10:14,  5.21s/it]"
     ]
    },
    {
     "name": "stdout",
     "output_type": "stream",
     "text": [
      "\n",
      "Processing species: Kocuria rhizophila\n",
      "Searching for 'Kocuria rhizophila' with term: '\"Kocuria rhizophila\"[Organism] AND \"complete genome\"[Assembly Level]'\n",
      "Found assembly ID: 74658378 for Kocuria rhizophila\n",
      "Attempting to download from: ftp://ftp.ncbi.nlm.nih.gov/genomes/all/GCF/050/779/905/GCF_050779905.1_Kocuria_sp_K12-1_v1/GCF_050779905.1_Kocuria_sp_K12-1_v1_genomic.fna.gz\n",
      "Using wget for FTP download: ftp://ftp.ncbi.nlm.nih.gov/genomes/all/GCF/050/779/905/GCF_050779905.1_Kocuria_sp_K12-1_v1/GCF_050779905.1_Kocuria_sp_K12-1_v1_genomic.fna.gz\n",
      "Downloaded Kocuria rhizophila to genomes/Kocuria_rhizophila.fna.gz using wget.\n",
      "Decompressing genomes/Kocuria_rhizophila.fna.gz...\n",
      "Decompressed to genomes/Kocuria_rhizophila.fna\n"
     ]
    },
    {
     "name": "stderr",
     "output_type": "stream",
     "text": [
      "Overall Genome Download Progress:  40%|████      | 79/196 [06:41<10:00,  5.13s/it]"
     ]
    },
    {
     "name": "stdout",
     "output_type": "stream",
     "text": [
      "\n",
      "Processing species: Kosakonia cowanii\n",
      "Searching for 'Kosakonia cowanii' with term: '\"Kosakonia cowanii\"[Organism] AND \"complete genome\"[Assembly Level]'\n",
      "Found assembly ID: 74976548 for Kosakonia cowanii\n",
      "Attempting to download from: ftp://ftp.ncbi.nlm.nih.gov/genomes/all/GCF/050/990/785/GCF_050990785.1_ASM5099078v1/GCF_050990785.1_ASM5099078v1_genomic.fna.gz\n",
      "Using wget for FTP download: ftp://ftp.ncbi.nlm.nih.gov/genomes/all/GCF/050/990/785/GCF_050990785.1_ASM5099078v1/GCF_050990785.1_ASM5099078v1_genomic.fna.gz\n",
      "Downloaded Kosakonia cowanii to genomes/Kosakonia_cowanii.fna.gz using wget.\n",
      "Decompressing genomes/Kosakonia_cowanii.fna.gz...\n",
      "Decompressed to genomes/Kosakonia_cowanii.fna\n"
     ]
    },
    {
     "name": "stderr",
     "output_type": "stream",
     "text": [
      "Overall Genome Download Progress:  41%|████      | 80/196 [06:47<09:56,  5.14s/it]"
     ]
    },
    {
     "name": "stdout",
     "output_type": "stream",
     "text": [
      "\n",
      "Processing species: Kytococcus sedentarius\n",
      "Searching for 'Kytococcus sedentarius' with term: '\"Kytococcus sedentarius\"[Organism] AND \"complete genome\"[Assembly Level]'\n",
      "Found assembly ID: 65451998 for Kytococcus sedentarius\n",
      "Attempting to download from: ftp://ftp.ncbi.nlm.nih.gov/genomes/all/GCF/044/813/075/GCF_044813075.1_ASM4481307v1/GCF_044813075.1_ASM4481307v1_genomic.fna.gz\n",
      "Using wget for FTP download: ftp://ftp.ncbi.nlm.nih.gov/genomes/all/GCF/044/813/075/GCF_044813075.1_ASM4481307v1/GCF_044813075.1_ASM4481307v1_genomic.fna.gz\n",
      "Downloaded Kytococcus sedentarius to genomes/Kytococcus_sedentarius.fna.gz using wget.\n",
      "Decompressing genomes/Kytococcus_sedentarius.fna.gz...\n",
      "Decompressed to genomes/Kytococcus_sedentarius.fna\n"
     ]
    },
    {
     "name": "stderr",
     "output_type": "stream",
     "text": [
      "Overall Genome Download Progress:  41%|████▏     | 81/196 [06:51<09:40,  5.04s/it]"
     ]
    },
    {
     "name": "stdout",
     "output_type": "stream",
     "text": [
      "\n",
      "Processing species: Lactobacillus curvatus\n",
      "Searching for 'Lactobacillus curvatus' with term: '\"Lactobacillus curvatus\"[Organism] AND \"complete genome\"[Assembly Level]'\n",
      "Found assembly ID: 73496918 for Lactobacillus curvatus\n",
      "Attempting to download from: ftp://ftp.ncbi.nlm.nih.gov/genomes/all/GCF/049/943/105/GCF_049943105.1_ASM4994310v1/GCF_049943105.1_ASM4994310v1_genomic.fna.gz\n",
      "Using wget for FTP download: ftp://ftp.ncbi.nlm.nih.gov/genomes/all/GCF/049/943/105/GCF_049943105.1_ASM4994310v1/GCF_049943105.1_ASM4994310v1_genomic.fna.gz\n",
      "Downloaded Lactobacillus curvatus to genomes/Lactobacillus_curvatus.fna.gz using wget.\n",
      "Decompressing genomes/Lactobacillus_curvatus.fna.gz...\n",
      "Decompressed to genomes/Lactobacillus_curvatus.fna\n"
     ]
    },
    {
     "name": "stderr",
     "output_type": "stream",
     "text": [
      "Overall Genome Download Progress:  42%|████▏     | 82/196 [06:56<09:23,  4.94s/it]"
     ]
    },
    {
     "name": "stdout",
     "output_type": "stream",
     "text": [
      "\n",
      "Processing species: Lactobacillus delbrueckii\n",
      "Searching for 'Lactobacillus delbrueckii' with term: '\"Lactobacillus delbrueckii\"[Organism] AND \"complete genome\"[Assembly Level]'\n",
      "Found assembly ID: 74311168 for Lactobacillus delbrueckii\n",
      "Attempting to download from: ftp://ftp.ncbi.nlm.nih.gov/genomes/all/GCF/050/516/295/GCF_050516295.1_CICC_6047/GCF_050516295.1_CICC_6047_genomic.fna.gz\n",
      "Using wget for FTP download: ftp://ftp.ncbi.nlm.nih.gov/genomes/all/GCF/050/516/295/GCF_050516295.1_CICC_6047/GCF_050516295.1_CICC_6047_genomic.fna.gz\n",
      "Downloaded Lactobacillus delbrueckii to genomes/Lactobacillus_delbrueckii.fna.gz using wget.\n",
      "Decompressing genomes/Lactobacillus_delbrueckii.fna.gz...\n",
      "Decompressed to genomes/Lactobacillus_delbrueckii.fna\n"
     ]
    },
    {
     "name": "stderr",
     "output_type": "stream",
     "text": [
      "Overall Genome Download Progress:  42%|████▏     | 83/196 [07:01<09:14,  4.90s/it]"
     ]
    },
    {
     "name": "stdout",
     "output_type": "stream",
     "text": [
      "\n",
      "Processing species: Lactobacillus fermentum\n",
      "Searching for 'Lactobacillus fermentum' with term: '\"Lactobacillus fermentum\"[Organism] AND \"complete genome\"[Assembly Level]'\n",
      "Found assembly ID: 75116018 for Lactobacillus fermentum\n",
      "Attempting to download from: ftp://ftp.ncbi.nlm.nih.gov/genomes/all/GCF/051/094/935/GCF_051094935.1_ASM5109493v1/GCF_051094935.1_ASM5109493v1_genomic.fna.gz\n",
      "Using wget for FTP download: ftp://ftp.ncbi.nlm.nih.gov/genomes/all/GCF/051/094/935/GCF_051094935.1_ASM5109493v1/GCF_051094935.1_ASM5109493v1_genomic.fna.gz\n",
      "Downloaded Lactobacillus fermentum to genomes/Lactobacillus_fermentum.fna.gz using wget.\n",
      "Decompressing genomes/Lactobacillus_fermentum.fna.gz...\n",
      "Decompressed to genomes/Lactobacillus_fermentum.fna\n"
     ]
    },
    {
     "name": "stderr",
     "output_type": "stream",
     "text": [
      "Overall Genome Download Progress:  43%|████▎     | 84/196 [07:06<09:08,  4.89s/it]"
     ]
    },
    {
     "name": "stdout",
     "output_type": "stream",
     "text": [
      "\n",
      "Processing species: Lactococcus lactis\n",
      "Searching for 'Lactococcus lactis' with term: '\"Lactococcus lactis\"[Organism] AND \"complete genome\"[Assembly Level]'\n",
      "Found assembly ID: 75167858 for Lactococcus lactis\n",
      "Attempting to download from: ftp://ftp.ncbi.nlm.nih.gov/genomes/all/GCF/051/131/145/GCF_051131145.1_ASM5113114v1/GCF_051131145.1_ASM5113114v1_genomic.fna.gz\n",
      "Using wget for FTP download: ftp://ftp.ncbi.nlm.nih.gov/genomes/all/GCF/051/131/145/GCF_051131145.1_ASM5113114v1/GCF_051131145.1_ASM5113114v1_genomic.fna.gz\n",
      "Downloaded Lactococcus lactis to genomes/Lactococcus_lactis.fna.gz using wget.\n",
      "Decompressing genomes/Lactococcus_lactis.fna.gz...\n",
      "Decompressed to genomes/Lactococcus_lactis.fna\n"
     ]
    },
    {
     "name": "stderr",
     "output_type": "stream",
     "text": [
      "Overall Genome Download Progress:  43%|████▎     | 85/196 [07:11<09:02,  4.89s/it]"
     ]
    },
    {
     "name": "stdout",
     "output_type": "stream",
     "text": [
      "\n",
      "Processing species: Leclercia adecarboxylata\n",
      "Searching for 'Leclercia adecarboxylata' with term: '\"Leclercia adecarboxylata\"[Organism] AND \"complete genome\"[Assembly Level]'\n",
      "Found assembly ID: 61773418 for Leclercia adecarboxylata\n",
      "Attempting to download from: ftp://ftp.ncbi.nlm.nih.gov/genomes/all/GCF/041/725/765/GCF_041725765.1_LN01/GCF_041725765.1_LN01_genomic.fna.gz\n",
      "Using wget for FTP download: ftp://ftp.ncbi.nlm.nih.gov/genomes/all/GCF/041/725/765/GCF_041725765.1_LN01/GCF_041725765.1_LN01_genomic.fna.gz\n",
      "Downloaded Leclercia adecarboxylata to genomes/Leclercia_adecarboxylata.fna.gz using wget.\n",
      "Decompressing genomes/Leclercia_adecarboxylata.fna.gz...\n",
      "Decompressed to genomes/Leclercia_adecarboxylata.fna\n"
     ]
    },
    {
     "name": "stderr",
     "output_type": "stream",
     "text": [
      "Overall Genome Download Progress:  44%|████▍     | 86/196 [07:16<08:58,  4.90s/it]"
     ]
    },
    {
     "name": "stdout",
     "output_type": "stream",
     "text": [
      "\n",
      "Processing species: Leclercia sp. LSNIH1\n",
      "Searching for 'Leclercia sp. LSNIH1' with term: '\"Leclercia sp. LSNIH1\"[Organism] AND \"complete genome\"[Assembly Level]'\n",
      "Found assembly ID: 1545761 for Leclercia sp. LSNIH1\n",
      "Attempting to download from: ftp://ftp.ncbi.nlm.nih.gov/genomes/all/GCF/002/902/985/GCF_002902985.1_ASM290298v1/GCF_002902985.1_ASM290298v1_genomic.fna.gz\n",
      "Using wget for FTP download: ftp://ftp.ncbi.nlm.nih.gov/genomes/all/GCF/002/902/985/GCF_002902985.1_ASM290298v1/GCF_002902985.1_ASM290298v1_genomic.fna.gz\n",
      "Downloaded Leclercia sp. LSNIH1 to genomes/Leclercia_sp._LSNIH1.fna.gz using wget.\n",
      "Decompressing genomes/Leclercia_sp._LSNIH1.fna.gz...\n",
      "Decompressed to genomes/Leclercia_sp._LSNIH1.fna\n"
     ]
    },
    {
     "name": "stderr",
     "output_type": "stream",
     "text": [
      "Overall Genome Download Progress:  44%|████▍     | 87/196 [07:21<08:58,  4.94s/it]"
     ]
    },
    {
     "name": "stdout",
     "output_type": "stream",
     "text": [
      "\n",
      "Processing species: Leishmania major\n",
      "Searching for 'Leishmania major' with term: '\"Leishmania major\"[Organism] AND \"complete genome\"[Assembly Level]'\n",
      "Found assembly ID: 11105581 for Leishmania major\n",
      "No FTP path found for Leishmania major with term '\"Leishmania major\"[Organism] AND \"complete genome\"[Assembly Level]'. Trying next search term.\n",
      "Searching for 'Leishmania major' with term: '\"Leishmania major\"[Organism] AND \"reference genome\"[Refseq Category]'\n",
      "Found assembly ID: 402998 for Leishmania major\n",
      "Attempting to download from: ftp://ftp.ncbi.nlm.nih.gov/genomes/all/GCF/000/002/725/GCF_000002725.2_ASM272v2/GCF_000002725.2_ASM272v2_genomic.fna.gz\n",
      "Using wget for FTP download: ftp://ftp.ncbi.nlm.nih.gov/genomes/all/GCF/000/002/725/GCF_000002725.2_ASM272v2/GCF_000002725.2_ASM272v2_genomic.fna.gz\n",
      "Downloaded Leishmania major to genomes/Leishmania_major.fna.gz using wget.\n",
      "Decompressing genomes/Leishmania_major.fna.gz...\n",
      "Decompressed to genomes/Leishmania_major.fna\n"
     ]
    },
    {
     "name": "stderr",
     "output_type": "stream",
     "text": [
      "Overall Genome Download Progress:  45%|████▍     | 88/196 [07:28<10:00,  5.56s/it]"
     ]
    },
    {
     "name": "stdout",
     "output_type": "stream",
     "text": [
      "\n",
      "Processing species: Leuconostoc mesenteroides\n",
      "Searching for 'Leuconostoc mesenteroides' with term: '\"Leuconostoc mesenteroides\"[Organism] AND \"complete genome\"[Assembly Level]'\n",
      "Found assembly ID: 75270948 for Leuconostoc mesenteroides\n",
      "No FTP path found for Leuconostoc mesenteroides with term '\"Leuconostoc mesenteroides\"[Organism] AND \"complete genome\"[Assembly Level]'. Trying next search term.\n",
      "Searching for 'Leuconostoc mesenteroides' with term: '\"Leuconostoc mesenteroides\"[Organism] AND \"reference genome\"[Refseq Category]'\n",
      "Found assembly ID: 35548 for Leuconostoc mesenteroides\n",
      "Attempting to download from: ftp://ftp.ncbi.nlm.nih.gov/genomes/all/GCF/000/014/445/GCF_000014445.1_ASM1444v1/GCF_000014445.1_ASM1444v1_genomic.fna.gz\n",
      "Using wget for FTP download: ftp://ftp.ncbi.nlm.nih.gov/genomes/all/GCF/000/014/445/GCF_000014445.1_ASM1444v1/GCF_000014445.1_ASM1444v1_genomic.fna.gz\n",
      "Downloaded Leuconostoc mesenteroides to genomes/Leuconostoc_mesenteroides.fna.gz using wget.\n",
      "Decompressing genomes/Leuconostoc_mesenteroides.fna.gz...\n",
      "Decompressed to genomes/Leuconostoc_mesenteroides.fna\n"
     ]
    },
    {
     "name": "stderr",
     "output_type": "stream",
     "text": [
      "Overall Genome Download Progress:  45%|████▌     | 89/196 [07:34<10:25,  5.85s/it]"
     ]
    },
    {
     "name": "stdout",
     "output_type": "stream",
     "text": [
      "\n",
      "Processing species: Listeria monocytogenes\n",
      "Searching for 'Listeria monocytogenes' with term: '\"Listeria monocytogenes\"[Organism] AND \"complete genome\"[Assembly Level]'\n",
      "Found assembly ID: 72747158 for Listeria monocytogenes\n",
      "Attempting to download from: ftp://ftp.ncbi.nlm.nih.gov/genomes/all/GCF/049/349/205/GCF_049349205.1_ASM4934920v1/GCF_049349205.1_ASM4934920v1_genomic.fna.gz\n",
      "Using wget for FTP download: ftp://ftp.ncbi.nlm.nih.gov/genomes/all/GCF/049/349/205/GCF_049349205.1_ASM4934920v1/GCF_049349205.1_ASM4934920v1_genomic.fna.gz\n",
      "Downloaded Listeria monocytogenes to genomes/Listeria_monocytogenes.fna.gz using wget.\n",
      "Decompressing genomes/Listeria_monocytogenes.fna.gz...\n",
      "Decompressed to genomes/Listeria_monocytogenes.fna\n"
     ]
    },
    {
     "name": "stderr",
     "output_type": "stream",
     "text": [
      "Overall Genome Download Progress:  46%|████▌     | 90/196 [07:39<09:50,  5.57s/it]"
     ]
    },
    {
     "name": "stdout",
     "output_type": "stream",
     "text": [
      "\n",
      "Processing species: Lysinibacillus sp. YS11\n",
      "Searching for 'Lysinibacillus sp. YS11' with term: '\"Lysinibacillus sp. YS11\"[Organism] AND \"complete genome\"[Assembly Level]'\n",
      "Found assembly ID: 1532511 for Lysinibacillus sp. YS11\n",
      "Attempting to download from: ftp://ftp.ncbi.nlm.nih.gov/genomes/all/GCF/002/896/375/GCF_002896375.1_ASM289637v1/GCF_002896375.1_ASM289637v1_genomic.fna.gz\n",
      "Using wget for FTP download: ftp://ftp.ncbi.nlm.nih.gov/genomes/all/GCF/002/896/375/GCF_002896375.1_ASM289637v1/GCF_002896375.1_ASM289637v1_genomic.fna.gz\n",
      "Downloaded Lysinibacillus sp. YS11 to genomes/Lysinibacillus_sp._YS11.fna.gz using wget.\n",
      "Decompressing genomes/Lysinibacillus_sp._YS11.fna.gz...\n",
      "Decompressed to genomes/Lysinibacillus_sp._YS11.fna\n"
     ]
    },
    {
     "name": "stderr",
     "output_type": "stream",
     "text": [
      "Overall Genome Download Progress:  46%|████▋     | 91/196 [07:44<09:15,  5.29s/it]"
     ]
    },
    {
     "name": "stdout",
     "output_type": "stream",
     "text": [
      "\n",
      "Processing species: Lysobacter antibioticus\n",
      "Searching for 'Lysobacter antibioticus' with term: '\"Lysobacter antibioticus\"[Organism] AND \"complete genome\"[Assembly Level]'\n",
      "Found assembly ID: 582851 for Lysobacter antibioticus\n",
      "Attempting to download from: ftp://ftp.ncbi.nlm.nih.gov/genomes/all/GCF/001/442/745/GCF_001442745.1_ASM144274v1/GCF_001442745.1_ASM144274v1_genomic.fna.gz\n",
      "Using wget for FTP download: ftp://ftp.ncbi.nlm.nih.gov/genomes/all/GCF/001/442/745/GCF_001442745.1_ASM144274v1/GCF_001442745.1_ASM144274v1_genomic.fna.gz\n",
      "Downloaded Lysobacter antibioticus to genomes/Lysobacter_antibioticus.fna.gz using wget.\n",
      "Decompressing genomes/Lysobacter_antibioticus.fna.gz...\n",
      "Decompressed to genomes/Lysobacter_antibioticus.fna\n"
     ]
    },
    {
     "name": "stderr",
     "output_type": "stream",
     "text": [
      "Overall Genome Download Progress:  47%|████▋     | 92/196 [07:49<08:55,  5.15s/it]"
     ]
    },
    {
     "name": "stdout",
     "output_type": "stream",
     "text": [
      "\n",
      "Processing species: Marinobacter hydrocarbonoclasticus\n",
      "Searching for 'Marinobacter hydrocarbonoclasticus' with term: '\"Marinobacter hydrocarbonoclasticus\"[Organism] AND \"complete genome\"[Assembly Level]'\n",
      "Found assembly ID: 65450068 for Marinobacter hydrocarbonoclasticus\n",
      "No FTP path found for Marinobacter hydrocarbonoclasticus with term '\"Marinobacter hydrocarbonoclasticus\"[Organism] AND \"complete genome\"[Assembly Level]'. Trying next search term.\n",
      "Searching for 'Marinobacter hydrocarbonoclasticus' with term: '\"Marinobacter hydrocarbonoclasticus\"[Organism] AND \"reference genome\"[Refseq Category]'\n",
      "Found assembly ID: 408738 for Marinobacter hydrocarbonoclasticus\n",
      "Attempting to download from: ftp://ftp.ncbi.nlm.nih.gov/genomes/all/GCF/000/284/615/GCF_000284615.1_ASM28461v1/GCF_000284615.1_ASM28461v1_genomic.fna.gz\n",
      "Using wget for FTP download: ftp://ftp.ncbi.nlm.nih.gov/genomes/all/GCF/000/284/615/GCF_000284615.1_ASM28461v1/GCF_000284615.1_ASM28461v1_genomic.fna.gz\n",
      "Downloaded Marinobacter hydrocarbonoclasticus to genomes/Marinobacter_hydrocarbonoclasticus.fna.gz using wget.\n",
      "Decompressing genomes/Marinobacter_hydrocarbonoclasticus.fna.gz...\n",
      "Decompressed to genomes/Marinobacter_hydrocarbonoclasticus.fna\n"
     ]
    },
    {
     "name": "stderr",
     "output_type": "stream",
     "text": [
      "Overall Genome Download Progress:  47%|████▋     | 93/196 [07:55<09:33,  5.56s/it]"
     ]
    },
    {
     "name": "stdout",
     "output_type": "stream",
     "text": [
      "\n",
      "Processing species: Massilia putida\n",
      "Searching for 'Massilia putida' with term: '\"Massilia putida\"[Organism] AND \"complete genome\"[Assembly Level]'\n",
      "Found assembly ID: 946601 for Massilia putida\n",
      "Attempting to download from: ftp://ftp.ncbi.nlm.nih.gov/genomes/all/GCF/001/941/825/GCF_001941825.1_ASM194182v1/GCF_001941825.1_ASM194182v1_genomic.fna.gz\n",
      "Using wget for FTP download: ftp://ftp.ncbi.nlm.nih.gov/genomes/all/GCF/001/941/825/GCF_001941825.1_ASM194182v1/GCF_001941825.1_ASM194182v1_genomic.fna.gz\n",
      "Downloaded Massilia putida to genomes/Massilia_putida.fna.gz using wget.\n",
      "Decompressing genomes/Massilia_putida.fna.gz...\n",
      "Decompressed to genomes/Massilia_putida.fna\n"
     ]
    },
    {
     "name": "stderr",
     "output_type": "stream",
     "text": [
      "Overall Genome Download Progress:  48%|████▊     | 94/196 [08:00<09:06,  5.36s/it]"
     ]
    },
    {
     "name": "stdout",
     "output_type": "stream",
     "text": [
      "\n",
      "Processing species: Massilia sp. B2\n",
      "Searching for 'Massilia sp. B2' with term: '\"Massilia sp. B2\"[Organism] AND \"complete genome\"[Assembly Level]'\n",
      "Found assembly ID: 12443671 for Massilia sp. B2\n",
      "Attempting to download from: ftp://ftp.ncbi.nlm.nih.gov/genomes/all/GCF/022/811/105/GCF_022811105.1_ASM2281110v1/GCF_022811105.1_ASM2281110v1_genomic.fna.gz\n",
      "Using wget for FTP download: ftp://ftp.ncbi.nlm.nih.gov/genomes/all/GCF/022/811/105/GCF_022811105.1_ASM2281110v1/GCF_022811105.1_ASM2281110v1_genomic.fna.gz\n",
      "Downloaded Massilia sp. B2 to genomes/Massilia_sp._B2.fna.gz using wget.\n",
      "Decompressing genomes/Massilia_sp._B2.fna.gz...\n",
      "Decompressed to genomes/Massilia_sp._B2.fna\n"
     ]
    },
    {
     "name": "stderr",
     "output_type": "stream",
     "text": [
      "Overall Genome Download Progress:  48%|████▊     | 95/196 [08:05<08:51,  5.27s/it]"
     ]
    },
    {
     "name": "stdout",
     "output_type": "stream",
     "text": [
      "\n",
      "Processing species: Massilia sp. WG5\n",
      "Searching for 'Massilia sp. WG5' with term: '\"Massilia sp. WG5\"[Organism] AND \"complete genome\"[Assembly Level]'\n",
      "Found assembly ID: 1704761 for Massilia sp. WG5\n",
      "Attempting to download from: ftp://ftp.ncbi.nlm.nih.gov/genomes/all/GCF/001/412/595/GCF_001412595.2_ASM141259v2/GCF_001412595.2_ASM141259v2_genomic.fna.gz\n",
      "Using wget for FTP download: ftp://ftp.ncbi.nlm.nih.gov/genomes/all/GCF/001/412/595/GCF_001412595.2_ASM141259v2/GCF_001412595.2_ASM141259v2_genomic.fna.gz\n",
      "Downloaded Massilia sp. WG5 to genomes/Massilia_sp._WG5.fna.gz using wget.\n",
      "Decompressing genomes/Massilia_sp._WG5.fna.gz...\n",
      "Decompressed to genomes/Massilia_sp._WG5.fna\n"
     ]
    },
    {
     "name": "stderr",
     "output_type": "stream",
     "text": [
      "Overall Genome Download Progress:  49%|████▉     | 96/196 [08:10<08:38,  5.18s/it]"
     ]
    },
    {
     "name": "stdout",
     "output_type": "stream",
     "text": [
      "\n",
      "Processing species: Methanobrevibacter millerae\n",
      "Searching for 'Methanobrevibacter millerae' with term: '\"Methanobrevibacter millerae\"[Organism] AND \"complete genome\"[Assembly Level]'\n",
      "Found assembly ID: 600331 for Methanobrevibacter millerae\n",
      "Attempting to download from: ftp://ftp.ncbi.nlm.nih.gov/genomes/all/GCF/001/477/655/GCF_001477655.1_ASM147765v1/GCF_001477655.1_ASM147765v1_genomic.fna.gz\n",
      "Using wget for FTP download: ftp://ftp.ncbi.nlm.nih.gov/genomes/all/GCF/001/477/655/GCF_001477655.1_ASM147765v1/GCF_001477655.1_ASM147765v1_genomic.fna.gz\n",
      "Downloaded Methanobrevibacter millerae to genomes/Methanobrevibacter_millerae.fna.gz using wget.\n",
      "Decompressing genomes/Methanobrevibacter_millerae.fna.gz...\n",
      "Decompressed to genomes/Methanobrevibacter_millerae.fna\n"
     ]
    },
    {
     "name": "stderr",
     "output_type": "stream",
     "text": [
      "Overall Genome Download Progress:  49%|████▉     | 97/196 [08:15<08:19,  5.05s/it]"
     ]
    },
    {
     "name": "stdout",
     "output_type": "stream",
     "text": [
      "\n",
      "Processing species: Methylobacterium extorquens\n",
      "Searching for 'Methylobacterium extorquens' with term: '\"Methylobacterium extorquens\"[Organism] AND \"complete genome\"[Assembly Level]'\n",
      "Found assembly ID: 16856841 for Methylobacterium extorquens\n",
      "Attempting to download from: ftp://ftp.ncbi.nlm.nih.gov/genomes/all/GCF/030/255/395/GCF_030255395.1_ASM3025539v1/GCF_030255395.1_ASM3025539v1_genomic.fna.gz\n",
      "Using wget for FTP download: ftp://ftp.ncbi.nlm.nih.gov/genomes/all/GCF/030/255/395/GCF_030255395.1_ASM3025539v1/GCF_030255395.1_ASM3025539v1_genomic.fna.gz\n",
      "Downloaded Methylobacterium extorquens to genomes/Methylobacterium_extorquens.fna.gz using wget.\n",
      "Decompressing genomes/Methylobacterium_extorquens.fna.gz...\n",
      "Decompressed to genomes/Methylobacterium_extorquens.fna\n"
     ]
    },
    {
     "name": "stderr",
     "output_type": "stream",
     "text": [
      "Overall Genome Download Progress:  50%|█████     | 98/196 [08:20<08:08,  4.99s/it]"
     ]
    },
    {
     "name": "stdout",
     "output_type": "stream",
     "text": [
      "\n",
      "Processing species: Methylobacterium oryzae\n",
      "Searching for 'Methylobacterium oryzae' with term: '\"Methylobacterium oryzae\"[Organism] AND \"complete genome\"[Assembly Level]'\n",
      "Found assembly ID: 11722451 for Methylobacterium oryzae\n",
      "Attempting to download from: ftp://ftp.ncbi.nlm.nih.gov/genomes/all/GCF/021/398/735/GCF_021398735.1_ASM2139873v1/GCF_021398735.1_ASM2139873v1_genomic.fna.gz\n",
      "Using wget for FTP download: ftp://ftp.ncbi.nlm.nih.gov/genomes/all/GCF/021/398/735/GCF_021398735.1_ASM2139873v1/GCF_021398735.1_ASM2139873v1_genomic.fna.gz\n",
      "Downloaded Methylobacterium oryzae to genomes/Methylobacterium_oryzae.fna.gz using wget.\n",
      "Decompressing genomes/Methylobacterium_oryzae.fna.gz...\n",
      "Decompressed to genomes/Methylobacterium_oryzae.fna\n"
     ]
    },
    {
     "name": "stderr",
     "output_type": "stream",
     "text": [
      "Overall Genome Download Progress:  51%|█████     | 99/196 [08:24<08:00,  4.96s/it]"
     ]
    },
    {
     "name": "stdout",
     "output_type": "stream",
     "text": [
      "\n",
      "Processing species: Methylobacterium phyllosphaerae\n",
      "Searching for 'Methylobacterium phyllosphaerae' with term: '\"Methylobacterium phyllosphaerae\"[Organism] AND \"complete genome\"[Assembly Level]'\n",
      "Found assembly ID: 943721 for Methylobacterium phyllosphaerae\n",
      "Attempting to download from: ftp://ftp.ncbi.nlm.nih.gov/genomes/all/GCF/001/936/175/GCF_001936175.1_ASM193617v1/GCF_001936175.1_ASM193617v1_genomic.fna.gz\n",
      "Using wget for FTP download: ftp://ftp.ncbi.nlm.nih.gov/genomes/all/GCF/001/936/175/GCF_001936175.1_ASM193617v1/GCF_001936175.1_ASM193617v1_genomic.fna.gz\n",
      "Downloaded Methylobacterium phyllosphaerae to genomes/Methylobacterium_phyllosphaerae.fna.gz using wget.\n",
      "Decompressing genomes/Methylobacterium_phyllosphaerae.fna.gz...\n",
      "Decompressed to genomes/Methylobacterium_phyllosphaerae.fna\n"
     ]
    },
    {
     "name": "stderr",
     "output_type": "stream",
     "text": [
      "Overall Genome Download Progress:  51%|█████     | 100/196 [08:29<07:56,  4.96s/it]"
     ]
    },
    {
     "name": "stdout",
     "output_type": "stream",
     "text": [
      "\n",
      "Processing species: Methylobacterium populi\n",
      "Searching for 'Methylobacterium populi' with term: '\"Methylobacterium populi\"[Organism] AND \"complete genome\"[Assembly Level]'\n",
      "Found assembly ID: 3689631 for Methylobacterium populi\n",
      "Attempting to download from: ftp://ftp.ncbi.nlm.nih.gov/genomes/all/GCF/006/740/745/GCF_006740745.1_ASM674074v1/GCF_006740745.1_ASM674074v1_genomic.fna.gz\n",
      "Using wget for FTP download: ftp://ftp.ncbi.nlm.nih.gov/genomes/all/GCF/006/740/745/GCF_006740745.1_ASM674074v1/GCF_006740745.1_ASM674074v1_genomic.fna.gz\n",
      "Downloaded Methylobacterium populi to genomes/Methylobacterium_populi.fna.gz using wget.\n",
      "Decompressing genomes/Methylobacterium_populi.fna.gz...\n",
      "Decompressed to genomes/Methylobacterium_populi.fna\n"
     ]
    },
    {
     "name": "stderr",
     "output_type": "stream",
     "text": [
      "Overall Genome Download Progress:  52%|█████▏    | 101/196 [08:34<07:50,  4.96s/it]"
     ]
    },
    {
     "name": "stdout",
     "output_type": "stream",
     "text": [
      "\n",
      "Processing species: Methylobacterium radiotolerans\n",
      "Searching for 'Methylobacterium radiotolerans' with term: '\"Methylobacterium radiotolerans\"[Organism] AND \"complete genome\"[Assembly Level]'\n",
      "Found assembly ID: 11765961 for Methylobacterium radiotolerans\n",
      "Attempting to download from: ftp://ftp.ncbi.nlm.nih.gov/genomes/all/GCF/021/484/845/GCF_021484845.1_ASM2148484v1/GCF_021484845.1_ASM2148484v1_genomic.fna.gz\n",
      "Using wget for FTP download: ftp://ftp.ncbi.nlm.nih.gov/genomes/all/GCF/021/484/845/GCF_021484845.1_ASM2148484v1/GCF_021484845.1_ASM2148484v1_genomic.fna.gz\n",
      "Downloaded Methylobacterium radiotolerans to genomes/Methylobacterium_radiotolerans.fna.gz using wget.\n",
      "Decompressing genomes/Methylobacterium_radiotolerans.fna.gz...\n",
      "Decompressed to genomes/Methylobacterium_radiotolerans.fna\n"
     ]
    },
    {
     "name": "stderr",
     "output_type": "stream",
     "text": [
      "Overall Genome Download Progress:  52%|█████▏    | 102/196 [08:40<07:51,  5.02s/it]"
     ]
    },
    {
     "name": "stdout",
     "output_type": "stream",
     "text": [
      "\n",
      "Processing species: Methylobacterium sp. C1\n",
      "Searching for 'Methylobacterium sp. C1' with term: '\"Methylobacterium sp. C1\"[Organism] AND \"complete genome\"[Assembly Level]'\n",
      "Found assembly ID: 860051 for Methylobacterium sp. C1\n",
      "Attempting to download from: ftp://ftp.ncbi.nlm.nih.gov/genomes/all/GCF/001/854/385/GCF_001854385.1_ASM185438v1/GCF_001854385.1_ASM185438v1_genomic.fna.gz\n",
      "Using wget for FTP download: ftp://ftp.ncbi.nlm.nih.gov/genomes/all/GCF/001/854/385/GCF_001854385.1_ASM185438v1/GCF_001854385.1_ASM185438v1_genomic.fna.gz\n",
      "Downloaded Methylobacterium sp. C1 to genomes/Methylobacterium_sp._C1.fna.gz using wget.\n",
      "Decompressing genomes/Methylobacterium_sp._C1.fna.gz...\n",
      "Decompressed to genomes/Methylobacterium_sp._C1.fna\n"
     ]
    },
    {
     "name": "stderr",
     "output_type": "stream",
     "text": [
      "Overall Genome Download Progress:  53%|█████▎    | 103/196 [08:44<07:41,  4.97s/it]"
     ]
    },
    {
     "name": "stdout",
     "output_type": "stream",
     "text": [
      "\n",
      "Processing species: Microbacterium aurum\n",
      "Searching for 'Microbacterium aurum' with term: '\"Microbacterium aurum\"[Organism] AND \"complete genome\"[Assembly Level]'\n",
      "Found assembly ID: 964901 for Microbacterium aurum\n",
      "Attempting to download from: ftp://ftp.ncbi.nlm.nih.gov/genomes/all/GCF/001/974/985/GCF_001974985.1_ASM197498v1/GCF_001974985.1_ASM197498v1_genomic.fna.gz\n",
      "Using wget for FTP download: ftp://ftp.ncbi.nlm.nih.gov/genomes/all/GCF/001/974/985/GCF_001974985.1_ASM197498v1/GCF_001974985.1_ASM197498v1_genomic.fna.gz\n",
      "Downloaded Microbacterium aurum to genomes/Microbacterium_aurum.fna.gz using wget.\n",
      "Decompressing genomes/Microbacterium_aurum.fna.gz...\n",
      "Decompressed to genomes/Microbacterium_aurum.fna\n"
     ]
    },
    {
     "name": "stderr",
     "output_type": "stream",
     "text": [
      "Overall Genome Download Progress:  53%|█████▎    | 104/196 [08:49<07:30,  4.89s/it]"
     ]
    },
    {
     "name": "stdout",
     "output_type": "stream",
     "text": [
      "\n",
      "Processing species: Microbacterium hominis\n",
      "Searching for 'Microbacterium hominis' with term: '\"Microbacterium hominis\"[Organism] AND \"complete genome\"[Assembly Level]'\n",
      "Found assembly ID: 9307141 for Microbacterium hominis\n",
      "Attempting to download from: ftp://ftp.ncbi.nlm.nih.gov/genomes/all/GCF/016/919/305/GCF_016919305.1_ASM1691930v1/GCF_016919305.1_ASM1691930v1_genomic.fna.gz\n",
      "Using wget for FTP download: ftp://ftp.ncbi.nlm.nih.gov/genomes/all/GCF/016/919/305/GCF_016919305.1_ASM1691930v1/GCF_016919305.1_ASM1691930v1_genomic.fna.gz\n",
      "Downloaded Microbacterium hominis to genomes/Microbacterium_hominis.fna.gz using wget.\n",
      "Decompressing genomes/Microbacterium_hominis.fna.gz...\n",
      "Decompressed to genomes/Microbacterium_hominis.fna\n"
     ]
    },
    {
     "name": "stderr",
     "output_type": "stream",
     "text": [
      "Overall Genome Download Progress:  54%|█████▎    | 105/196 [08:54<07:19,  4.83s/it]"
     ]
    },
    {
     "name": "stdout",
     "output_type": "stream",
     "text": [
      "\n",
      "Processing species: Microbacterium sp. No. 7\n",
      "Searching for 'Microbacterium sp. No. 7' with term: '\"Microbacterium sp. No. 7\"[Organism] AND \"complete genome\"[Assembly Level]'\n",
      "Found assembly ID: 502431 for Microbacterium sp. No. 7\n",
      "Attempting to download from: ftp://ftp.ncbi.nlm.nih.gov/genomes/all/GCF/001/314/225/GCF_001314225.1_ASM131422v1/GCF_001314225.1_ASM131422v1_genomic.fna.gz\n",
      "Using wget for FTP download: ftp://ftp.ncbi.nlm.nih.gov/genomes/all/GCF/001/314/225/GCF_001314225.1_ASM131422v1/GCF_001314225.1_ASM131422v1_genomic.fna.gz\n",
      "Downloaded Microbacterium sp. No. 7 to genomes/Microbacterium_sp._No._7.fna.gz using wget.\n",
      "Decompressing genomes/Microbacterium_sp._No._7.fna.gz...\n",
      "Decompressed to genomes/Microbacterium_sp._No._7.fna\n"
     ]
    },
    {
     "name": "stderr",
     "output_type": "stream",
     "text": [
      "Overall Genome Download Progress:  54%|█████▍    | 106/196 [08:59<07:12,  4.80s/it]"
     ]
    },
    {
     "name": "stdout",
     "output_type": "stream",
     "text": [
      "\n",
      "Processing species: Microbacterium sp. PAMC 28756\n",
      "Searching for 'Microbacterium sp. PAMC 28756' with term: '\"Microbacterium sp. PAMC 28756\"[Organism] AND \"complete genome\"[Assembly Level]'\n",
      "Found assembly ID: 640681 for Microbacterium sp. PAMC 28756\n",
      "Attempting to download from: ftp://ftp.ncbi.nlm.nih.gov/genomes/all/GCF/001/558/975/GCF_001558975.1_ASM155897v1/GCF_001558975.1_ASM155897v1_genomic.fna.gz\n",
      "Using wget for FTP download: ftp://ftp.ncbi.nlm.nih.gov/genomes/all/GCF/001/558/975/GCF_001558975.1_ASM155897v1/GCF_001558975.1_ASM155897v1_genomic.fna.gz\n",
      "Downloaded Microbacterium sp. PAMC 28756 to genomes/Microbacterium_sp._PAMC_28756.fna.gz using wget.\n",
      "Decompressing genomes/Microbacterium_sp._PAMC_28756.fna.gz...\n",
      "Decompressed to genomes/Microbacterium_sp._PAMC_28756.fna\n"
     ]
    },
    {
     "name": "stderr",
     "output_type": "stream",
     "text": [
      "Overall Genome Download Progress:  55%|█████▍    | 107/196 [09:03<07:07,  4.80s/it]"
     ]
    },
    {
     "name": "stdout",
     "output_type": "stream",
     "text": [
      "\n",
      "Processing species: Microbacterium sp. TPU 3598\n",
      "Searching for 'Microbacterium sp. TPU 3598' with term: '\"Microbacterium sp. TPU 3598\"[Organism] AND \"complete genome\"[Assembly Level]'\n",
      "Found assembly ID: 1226481 for Microbacterium sp. TPU 3598\n",
      "Attempting to download from: ftp://ftp.ncbi.nlm.nih.gov/genomes/all/GCF/002/356/155/GCF_002356155.1_MST3_assembly01/GCF_002356155.1_MST3_assembly01_genomic.fna.gz\n",
      "Using wget for FTP download: ftp://ftp.ncbi.nlm.nih.gov/genomes/all/GCF/002/356/155/GCF_002356155.1_MST3_assembly01/GCF_002356155.1_MST3_assembly01_genomic.fna.gz\n",
      "Downloaded Microbacterium sp. TPU 3598 to genomes/Microbacterium_sp._TPU_3598.fna.gz using wget.\n",
      "Decompressing genomes/Microbacterium_sp._TPU_3598.fna.gz...\n",
      "Decompressed to genomes/Microbacterium_sp._TPU_3598.fna\n"
     ]
    },
    {
     "name": "stderr",
     "output_type": "stream",
     "text": [
      "Overall Genome Download Progress:  55%|█████▌    | 108/196 [09:08<07:09,  4.88s/it]"
     ]
    },
    {
     "name": "stdout",
     "output_type": "stream",
     "text": [
      "\n",
      "Processing species: Micrococcus luteus\n",
      "Searching for 'Micrococcus luteus' with term: '\"Micrococcus luteus\"[Organism] AND \"complete genome\"[Assembly Level]'\n",
      "Found assembly ID: 74390578 for Micrococcus luteus\n",
      "Attempting to download from: ftp://ftp.ncbi.nlm.nih.gov/genomes/all/GCF/050/574/135/GCF_050574135.1_Micrococcus_luteus_TMP21_v1/GCF_050574135.1_Micrococcus_luteus_TMP21_v1_genomic.fna.gz\n",
      "Using wget for FTP download: ftp://ftp.ncbi.nlm.nih.gov/genomes/all/GCF/050/574/135/GCF_050574135.1_Micrococcus_luteus_TMP21_v1/GCF_050574135.1_Micrococcus_luteus_TMP21_v1_genomic.fna.gz\n",
      "Downloaded Micrococcus luteus to genomes/Micrococcus_luteus.fna.gz using wget.\n",
      "Decompressing genomes/Micrococcus_luteus.fna.gz...\n",
      "Decompressed to genomes/Micrococcus_luteus.fna\n"
     ]
    },
    {
     "name": "stderr",
     "output_type": "stream",
     "text": [
      "Overall Genome Download Progress:  56%|█████▌    | 109/196 [09:13<07:05,  4.89s/it]"
     ]
    },
    {
     "name": "stdout",
     "output_type": "stream",
     "text": [
      "\n",
      "Processing species: Microlunatus phosphovorus\n",
      "Searching for 'Microlunatus phosphovorus' with term: '\"Microlunatus phosphovorus\"[Organism] AND \"complete genome\"[Assembly Level]'\n",
      "Found assembly ID: 392278 for Microlunatus phosphovorus\n",
      "Attempting to download from: ftp://ftp.ncbi.nlm.nih.gov/genomes/all/GCF/000/270/245/GCF_000270245.1_ASM27024v1/GCF_000270245.1_ASM27024v1_genomic.fna.gz\n",
      "Using wget for FTP download: ftp://ftp.ncbi.nlm.nih.gov/genomes/all/GCF/000/270/245/GCF_000270245.1_ASM27024v1/GCF_000270245.1_ASM27024v1_genomic.fna.gz\n",
      "Downloaded Microlunatus phosphovorus to genomes/Microlunatus_phosphovorus.fna.gz using wget.\n",
      "Decompressing genomes/Microlunatus_phosphovorus.fna.gz...\n",
      "Decompressed to genomes/Microlunatus_phosphovorus.fna\n"
     ]
    },
    {
     "name": "stderr",
     "output_type": "stream",
     "text": [
      "Overall Genome Download Progress:  56%|█████▌    | 110/196 [09:18<07:04,  4.93s/it]"
     ]
    },
    {
     "name": "stdout",
     "output_type": "stream",
     "text": [
      "\n",
      "Processing species: Mitsuaria sp. 7\n",
      "Searching for 'Mitsuaria sp. 7' with term: '\"Mitsuaria sp. 7\"[Organism] AND \"complete genome\"[Assembly Level]'\n",
      "Found assembly ID: 751251 for Mitsuaria sp. 7\n",
      "Attempting to download from: ftp://ftp.ncbi.nlm.nih.gov/genomes/all/GCF/001/653/795/GCF_001653795.1_ASM165379v1/GCF_001653795.1_ASM165379v1_genomic.fna.gz\n",
      "Using wget for FTP download: ftp://ftp.ncbi.nlm.nih.gov/genomes/all/GCF/001/653/795/GCF_001653795.1_ASM165379v1/GCF_001653795.1_ASM165379v1_genomic.fna.gz\n",
      "Downloaded Mitsuaria sp. 7 to genomes/Mitsuaria_sp._7.fna.gz using wget.\n",
      "Decompressing genomes/Mitsuaria_sp._7.fna.gz...\n",
      "Decompressed to genomes/Mitsuaria_sp._7.fna\n"
     ]
    },
    {
     "name": "stderr",
     "output_type": "stream",
     "text": [
      "Overall Genome Download Progress:  57%|█████▋    | 111/196 [09:23<06:58,  4.92s/it]"
     ]
    },
    {
     "name": "stdout",
     "output_type": "stream",
     "text": [
      "\n",
      "Processing species: Modestobacter marinus\n",
      "Searching for 'Modestobacter marinus' with term: '\"Modestobacter marinus\"[Organism] AND \"complete genome\"[Assembly Level]'\n",
      "No assembly found for Modestobacter marinus with term '\"Modestobacter marinus\"[Organism] AND \"complete genome\"[Assembly Level]'. Trying next search term.\n",
      "Searching for 'Modestobacter marinus' with term: '\"Modestobacter marinus\"[Organism] AND \"reference genome\"[Refseq Category]'\n",
      "Found assembly ID: 8118331 for Modestobacter marinus\n",
      "Attempting to download from: ftp://ftp.ncbi.nlm.nih.gov/genomes/all/GCF/014/645/755/GCF_014645755.1_ASM1464575v1/GCF_014645755.1_ASM1464575v1_genomic.fna.gz\n",
      "Using wget for FTP download: ftp://ftp.ncbi.nlm.nih.gov/genomes/all/GCF/014/645/755/GCF_014645755.1_ASM1464575v1/GCF_014645755.1_ASM1464575v1_genomic.fna.gz\n",
      "Downloaded Modestobacter marinus to genomes/Modestobacter_marinus.fna.gz using wget.\n",
      "Decompressing genomes/Modestobacter_marinus.fna.gz...\n",
      "Decompressed to genomes/Modestobacter_marinus.fna\n"
     ]
    },
    {
     "name": "stderr",
     "output_type": "stream",
     "text": [
      "Overall Genome Download Progress:  57%|█████▋    | 112/196 [09:30<07:34,  5.41s/it]"
     ]
    },
    {
     "name": "stdout",
     "output_type": "stream",
     "text": [
      "\n",
      "Processing species: Moraxella osloensis\n",
      "Searching for 'Moraxella osloensis' with term: '\"Moraxella osloensis\"[Organism] AND \"complete genome\"[Assembly Level]'\n",
      "Found assembly ID: 59874028 for Moraxella osloensis\n",
      "Attempting to download from: ftp://ftp.ncbi.nlm.nih.gov/genomes/all/GCF/040/364/415/GCF_040364415.1_ASM4036441v1/GCF_040364415.1_ASM4036441v1_genomic.fna.gz\n",
      "Using wget for FTP download: ftp://ftp.ncbi.nlm.nih.gov/genomes/all/GCF/040/364/415/GCF_040364415.1_ASM4036441v1/GCF_040364415.1_ASM4036441v1_genomic.fna.gz\n",
      "Downloaded Moraxella osloensis to genomes/Moraxella_osloensis.fna.gz using wget.\n",
      "Decompressing genomes/Moraxella_osloensis.fna.gz...\n",
      "Decompressed to genomes/Moraxella_osloensis.fna\n"
     ]
    },
    {
     "name": "stderr",
     "output_type": "stream",
     "text": [
      "Overall Genome Download Progress:  58%|█████▊    | 113/196 [09:35<07:25,  5.37s/it]"
     ]
    },
    {
     "name": "stdout",
     "output_type": "stream",
     "text": [
      "\n",
      "Processing species: Mycobacterium chimaera\n",
      "Searching for 'Mycobacterium chimaera' with term: '\"Mycobacterium chimaera\"[Organism] AND \"complete genome\"[Assembly Level]'\n",
      "Found assembly ID: 11154751 for Mycobacterium chimaera\n",
      "Attempting to download from: ftp://ftp.ncbi.nlm.nih.gov/genomes/all/GCF/020/412/425/GCF_020412425.1_ASM2041242v1/GCF_020412425.1_ASM2041242v1_genomic.fna.gz\n",
      "Using wget for FTP download: ftp://ftp.ncbi.nlm.nih.gov/genomes/all/GCF/020/412/425/GCF_020412425.1_ASM2041242v1/GCF_020412425.1_ASM2041242v1_genomic.fna.gz\n",
      "Downloaded Mycobacterium chimaera to genomes/Mycobacterium_chimaera.fna.gz using wget.\n",
      "Decompressing genomes/Mycobacterium_chimaera.fna.gz...\n",
      "Decompressed to genomes/Mycobacterium_chimaera.fna\n"
     ]
    },
    {
     "name": "stderr",
     "output_type": "stream",
     "text": [
      "Overall Genome Download Progress:  58%|█████▊    | 114/196 [09:40<07:12,  5.28s/it]"
     ]
    },
    {
     "name": "stdout",
     "output_type": "stream",
     "text": [
      "\n",
      "Processing species: Mycobacterium sp. QIA-37\n",
      "Searching for 'Mycobacterium sp. QIA-37' with term: '\"Mycobacterium sp. QIA-37\"[Organism] AND \"complete genome\"[Assembly Level]'\n",
      "Found assembly ID: 720341 for Mycobacterium sp. QIA-37\n",
      "Attempting to download from: ftp://ftp.ncbi.nlm.nih.gov/genomes/all/GCF/001/611/855/GCF_001611855.1_ASM161185v1/GCF_001611855.1_ASM161185v1_genomic.fna.gz\n",
      "Using wget for FTP download: ftp://ftp.ncbi.nlm.nih.gov/genomes/all/GCF/001/611/855/GCF_001611855.1_ASM161185v1/GCF_001611855.1_ASM161185v1_genomic.fna.gz\n",
      "Downloaded Mycobacterium sp. QIA-37 to genomes/Mycobacterium_sp._QIA-37.fna.gz using wget.\n",
      "Decompressing genomes/Mycobacterium_sp._QIA-37.fna.gz...\n",
      "Decompressed to genomes/Mycobacterium_sp._QIA-37.fna\n"
     ]
    },
    {
     "name": "stderr",
     "output_type": "stream",
     "text": [
      "Overall Genome Download Progress:  59%|█████▊    | 115/196 [09:45<07:05,  5.25s/it]"
     ]
    },
    {
     "name": "stdout",
     "output_type": "stream",
     "text": [
      "\n",
      "Processing species: Nakamurella multipartita\n",
      "Searching for 'Nakamurella multipartita' with term: '\"Nakamurella multipartita\"[Organism] AND \"complete genome\"[Assembly Level]'\n",
      "Found assembly ID: 44888 for Nakamurella multipartita\n",
      "Attempting to download from: ftp://ftp.ncbi.nlm.nih.gov/genomes/all/GCF/000/024/365/GCF_000024365.1_ASM2436v1/GCF_000024365.1_ASM2436v1_genomic.fna.gz\n",
      "Using wget for FTP download: ftp://ftp.ncbi.nlm.nih.gov/genomes/all/GCF/000/024/365/GCF_000024365.1_ASM2436v1/GCF_000024365.1_ASM2436v1_genomic.fna.gz\n",
      "Downloaded Nakamurella multipartita to genomes/Nakamurella_multipartita.fna.gz using wget.\n",
      "Decompressing genomes/Nakamurella_multipartita.fna.gz...\n",
      "Decompressed to genomes/Nakamurella_multipartita.fna\n"
     ]
    },
    {
     "name": "stderr",
     "output_type": "stream",
     "text": [
      "Overall Genome Download Progress:  59%|█████▉    | 116/196 [09:50<06:53,  5.17s/it]"
     ]
    },
    {
     "name": "stdout",
     "output_type": "stream",
     "text": [
      "\n",
      "Processing species: Neisseria sicca\n",
      "Searching for 'Neisseria sicca' with term: '\"Neisseria sicca\"[Organism] AND \"complete genome\"[Assembly Level]'\n",
      "Found assembly ID: 10567411 for Neisseria sicca\n",
      "Attempting to download from: ftp://ftp.ncbi.nlm.nih.gov/genomes/all/GCF/019/334/765/GCF_019334765.1_ASM1933476v1/GCF_019334765.1_ASM1933476v1_genomic.fna.gz\n",
      "Using wget for FTP download: ftp://ftp.ncbi.nlm.nih.gov/genomes/all/GCF/019/334/765/GCF_019334765.1_ASM1933476v1/GCF_019334765.1_ASM1933476v1_genomic.fna.gz\n",
      "Downloaded Neisseria sicca to genomes/Neisseria_sicca.fna.gz using wget.\n",
      "Decompressing genomes/Neisseria_sicca.fna.gz...\n",
      "Decompressed to genomes/Neisseria_sicca.fna\n"
     ]
    },
    {
     "name": "stderr",
     "output_type": "stream",
     "text": [
      "Overall Genome Download Progress:  60%|█████▉    | 117/196 [09:55<06:39,  5.05s/it]"
     ]
    },
    {
     "name": "stdout",
     "output_type": "stream",
     "text": [
      "\n",
      "Processing species: Nocardioides sp. 78\n",
      "Searching for 'Nocardioides sp. 78' with term: '\"Nocardioides sp. 78\"[Organism] AND \"complete genome\"[Assembly Level]'\n",
      "Found assembly ID: 1512761 for Nocardioides sp. 78\n",
      "Attempting to download from: ftp://ftp.ncbi.nlm.nih.gov/genomes/all/GCF/002/865/585/GCF_002865585.1_ASM286558v1/GCF_002865585.1_ASM286558v1_genomic.fna.gz\n",
      "Using wget for FTP download: ftp://ftp.ncbi.nlm.nih.gov/genomes/all/GCF/002/865/585/GCF_002865585.1_ASM286558v1/GCF_002865585.1_ASM286558v1_genomic.fna.gz\n",
      "Downloaded Nocardioides sp. 78 to genomes/Nocardioides_sp._78.fna.gz using wget.\n",
      "Decompressing genomes/Nocardioides_sp._78.fna.gz...\n",
      "Decompressed to genomes/Nocardioides_sp._78.fna\n"
     ]
    },
    {
     "name": "stderr",
     "output_type": "stream",
     "text": [
      "Overall Genome Download Progress:  60%|██████    | 118/196 [10:00<06:28,  4.99s/it]"
     ]
    },
    {
     "name": "stdout",
     "output_type": "stream",
     "text": [
      "\n",
      "Processing species: Nocardioides sp. JS614\n",
      "Searching for 'Nocardioides sp. JS614' with term: '\"Nocardioides sp. JS614\"[Organism] AND \"complete genome\"[Assembly Level]'\n",
      "Found assembly ID: 36368 for Nocardioides sp. JS614\n",
      "Attempting to download from: ftp://ftp.ncbi.nlm.nih.gov/genomes/all/GCF/000/015/265/GCF_000015265.1_ASM1526v1/GCF_000015265.1_ASM1526v1_genomic.fna.gz\n",
      "Using wget for FTP download: ftp://ftp.ncbi.nlm.nih.gov/genomes/all/GCF/000/015/265/GCF_000015265.1_ASM1526v1/GCF_000015265.1_ASM1526v1_genomic.fna.gz\n",
      "Downloaded Nocardioides sp. JS614 to genomes/Nocardioides_sp._JS614.fna.gz using wget.\n",
      "Decompressing genomes/Nocardioides_sp._JS614.fna.gz...\n",
      "Decompressed to genomes/Nocardioides_sp._JS614.fna\n"
     ]
    },
    {
     "name": "stderr",
     "output_type": "stream",
     "text": [
      "Overall Genome Download Progress:  61%|██████    | 119/196 [10:05<06:31,  5.09s/it]"
     ]
    },
    {
     "name": "stdout",
     "output_type": "stream",
     "text": [
      "\n",
      "Processing species: Pantoea agglomerans\n",
      "Searching for 'Pantoea agglomerans' with term: '\"Pantoea agglomerans\"[Organism] AND \"complete genome\"[Assembly Level]'\n",
      "Found assembly ID: 75182328 for Pantoea agglomerans\n",
      "Attempting to download from: ftp://ftp.ncbi.nlm.nih.gov/genomes/all/GCF/051/136/215/GCF_051136215.1_ASM5113621v1/GCF_051136215.1_ASM5113621v1_genomic.fna.gz\n",
      "Using wget for FTP download: ftp://ftp.ncbi.nlm.nih.gov/genomes/all/GCF/051/136/215/GCF_051136215.1_ASM5113621v1/GCF_051136215.1_ASM5113621v1_genomic.fna.gz\n",
      "Downloaded Pantoea agglomerans to genomes/Pantoea_agglomerans.fna.gz using wget.\n",
      "Decompressing genomes/Pantoea_agglomerans.fna.gz...\n",
      "Decompressed to genomes/Pantoea_agglomerans.fna\n"
     ]
    },
    {
     "name": "stderr",
     "output_type": "stream",
     "text": [
      "Overall Genome Download Progress:  61%|██████    | 120/196 [10:11<06:38,  5.25s/it]"
     ]
    },
    {
     "name": "stdout",
     "output_type": "stream",
     "text": [
      "\n",
      "Processing species: Pantoea sp. PSNIH1\n",
      "Searching for 'Pantoea sp. PSNIH1' with term: '\"Pantoea sp. PSNIH1\"[Organism] AND \"complete genome\"[Assembly Level]'\n",
      "Found assembly ID: 240741 for Pantoea sp. PSNIH1\n",
      "Attempting to download from: ftp://ftp.ncbi.nlm.nih.gov/genomes/all/GCF/000/784/875/GCF_000784875.1_ASM78487v3/GCF_000784875.1_ASM78487v3_genomic.fna.gz\n",
      "Using wget for FTP download: ftp://ftp.ncbi.nlm.nih.gov/genomes/all/GCF/000/784/875/GCF_000784875.1_ASM78487v3/GCF_000784875.1_ASM78487v3_genomic.fna.gz\n",
      "Downloaded Pantoea sp. PSNIH1 to genomes/Pantoea_sp._PSNIH1.fna.gz using wget.\n",
      "Decompressing genomes/Pantoea_sp._PSNIH1.fna.gz...\n",
      "Decompressed to genomes/Pantoea_sp._PSNIH1.fna\n"
     ]
    },
    {
     "name": "stderr",
     "output_type": "stream",
     "text": [
      "Overall Genome Download Progress:  62%|██████▏   | 121/196 [10:16<06:22,  5.11s/it]"
     ]
    },
    {
     "name": "stdout",
     "output_type": "stream",
     "text": [
      "\n",
      "Processing species: Pantoea sp. PSNIH2\n",
      "Searching for 'Pantoea sp. PSNIH2' with term: '\"Pantoea sp. PSNIH2\"[Organism] AND \"complete genome\"[Assembly Level]'\n",
      "Found assembly ID: 226101 for Pantoea sp. PSNIH2\n",
      "Attempting to download from: ftp://ftp.ncbi.nlm.nih.gov/genomes/all/GCF/000/784/965/GCF_000784965.1_ASM78496v1/GCF_000784965.1_ASM78496v1_genomic.fna.gz\n",
      "Using wget for FTP download: ftp://ftp.ncbi.nlm.nih.gov/genomes/all/GCF/000/784/965/GCF_000784965.1_ASM78496v1/GCF_000784965.1_ASM78496v1_genomic.fna.gz\n",
      "Downloaded Pantoea sp. PSNIH2 to genomes/Pantoea_sp._PSNIH2.fna.gz using wget.\n",
      "Decompressing genomes/Pantoea_sp._PSNIH2.fna.gz...\n",
      "Decompressed to genomes/Pantoea_sp._PSNIH2.fna\n"
     ]
    },
    {
     "name": "stderr",
     "output_type": "stream",
     "text": [
      "Overall Genome Download Progress:  62%|██████▏   | 122/196 [10:21<06:24,  5.20s/it]"
     ]
    },
    {
     "name": "stdout",
     "output_type": "stream",
     "text": [
      "\n",
      "Processing species: Pantoea vagans\n",
      "Searching for 'Pantoea vagans' with term: '\"Pantoea vagans\"[Organism] AND \"complete genome\"[Assembly Level]'\n",
      "Found assembly ID: 71307578 for Pantoea vagans\n",
      "Attempting to download from: ftp://ftp.ncbi.nlm.nih.gov/genomes/all/GCF/048/296/845/GCF_048296845.1_PMT5Y/GCF_048296845.1_PMT5Y_genomic.fna.gz\n",
      "Using wget for FTP download: ftp://ftp.ncbi.nlm.nih.gov/genomes/all/GCF/048/296/845/GCF_048296845.1_PMT5Y/GCF_048296845.1_PMT5Y_genomic.fna.gz\n",
      "Downloaded Pantoea vagans to genomes/Pantoea_vagans.fna.gz using wget.\n",
      "Decompressing genomes/Pantoea_vagans.fna.gz...\n",
      "Decompressed to genomes/Pantoea_vagans.fna\n"
     ]
    },
    {
     "name": "stderr",
     "output_type": "stream",
     "text": [
      "Overall Genome Download Progress:  63%|██████▎   | 123/196 [10:26<06:12,  5.10s/it]"
     ]
    },
    {
     "name": "stdout",
     "output_type": "stream",
     "text": [
      "\n",
      "Processing species: Paracoccus aminovorans\n",
      "Searching for 'Paracoccus aminovorans' with term: '\"Paracoccus aminovorans\"[Organism] AND \"complete genome\"[Assembly Level]'\n",
      "Found assembly ID: 19672571 for Paracoccus aminovorans\n",
      "Attempting to download from: ftp://ftp.ncbi.nlm.nih.gov/genomes/all/GCF/033/555/915/GCF_033555915.1_ASM3355591v1/GCF_033555915.1_ASM3355591v1_genomic.fna.gz\n",
      "Using wget for FTP download: ftp://ftp.ncbi.nlm.nih.gov/genomes/all/GCF/033/555/915/GCF_033555915.1_ASM3355591v1/GCF_033555915.1_ASM3355591v1_genomic.fna.gz\n",
      "Downloaded Paracoccus aminovorans to genomes/Paracoccus_aminovorans.fna.gz using wget.\n",
      "Decompressing genomes/Paracoccus_aminovorans.fna.gz...\n",
      "Decompressed to genomes/Paracoccus_aminovorans.fna\n"
     ]
    },
    {
     "name": "stderr",
     "output_type": "stream",
     "text": [
      "Overall Genome Download Progress:  63%|██████▎   | 124/196 [10:31<06:00,  5.01s/it]"
     ]
    },
    {
     "name": "stdout",
     "output_type": "stream",
     "text": [
      "\n",
      "Processing species: Paracoccus contaminans\n",
      "Searching for 'Paracoccus contaminans' with term: '\"Paracoccus contaminans\"[Organism] AND \"complete genome\"[Assembly Level]'\n",
      "Found assembly ID: 1078381 for Paracoccus contaminans\n",
      "Attempting to download from: ftp://ftp.ncbi.nlm.nih.gov/genomes/all/GCF/002/105/555/GCF_002105555.1_ASM210555v1/GCF_002105555.1_ASM210555v1_genomic.fna.gz\n",
      "Using wget for FTP download: ftp://ftp.ncbi.nlm.nih.gov/genomes/all/GCF/002/105/555/GCF_002105555.1_ASM210555v1/GCF_002105555.1_ASM210555v1_genomic.fna.gz\n",
      "Downloaded Paracoccus contaminans to genomes/Paracoccus_contaminans.fna.gz using wget.\n",
      "Decompressing genomes/Paracoccus_contaminans.fna.gz...\n",
      "Decompressed to genomes/Paracoccus_contaminans.fna\n"
     ]
    },
    {
     "name": "stderr",
     "output_type": "stream",
     "text": [
      "Overall Genome Download Progress:  64%|██████▍   | 125/196 [10:36<05:56,  5.02s/it]"
     ]
    },
    {
     "name": "stdout",
     "output_type": "stream",
     "text": [
      "\n",
      "Processing species: Paracoccus yeei\n",
      "Searching for 'Paracoccus yeei' with term: '\"Paracoccus yeei\"[Organism] AND \"complete genome\"[Assembly Level]'\n",
      "Found assembly ID: 72799728 for Paracoccus yeei\n",
      "Attempting to download from: ftp://ftp.ncbi.nlm.nih.gov/genomes/all/GCF/049/392/085/GCF_049392085.1_ASM4939208v1/GCF_049392085.1_ASM4939208v1_genomic.fna.gz\n",
      "Using wget for FTP download: ftp://ftp.ncbi.nlm.nih.gov/genomes/all/GCF/049/392/085/GCF_049392085.1_ASM4939208v1/GCF_049392085.1_ASM4939208v1_genomic.fna.gz\n",
      "Downloaded Paracoccus yeei to genomes/Paracoccus_yeei.fna.gz using wget.\n",
      "Decompressing genomes/Paracoccus_yeei.fna.gz...\n",
      "Decompressed to genomes/Paracoccus_yeei.fna\n"
     ]
    },
    {
     "name": "stderr",
     "output_type": "stream",
     "text": [
      "Overall Genome Download Progress:  64%|██████▍   | 126/196 [10:41<05:48,  4.98s/it]"
     ]
    },
    {
     "name": "stdout",
     "output_type": "stream",
     "text": [
      "\n",
      "Processing species: Paracoccus zhejiangensis\n",
      "Searching for 'Paracoccus zhejiangensis' with term: '\"Paracoccus zhejiangensis\"[Organism] AND \"complete genome\"[Assembly Level]'\n",
      "Found assembly ID: 1497981 for Paracoccus zhejiangensis\n",
      "Attempting to download from: ftp://ftp.ncbi.nlm.nih.gov/genomes/all/GCF/002/847/445/GCF_002847445.1_ASM284744v1/GCF_002847445.1_ASM284744v1_genomic.fna.gz\n",
      "Using wget for FTP download: ftp://ftp.ncbi.nlm.nih.gov/genomes/all/GCF/002/847/445/GCF_002847445.1_ASM284744v1/GCF_002847445.1_ASM284744v1_genomic.fna.gz\n",
      "Downloaded Paracoccus zhejiangensis to genomes/Paracoccus_zhejiangensis.fna.gz using wget.\n",
      "Decompressing genomes/Paracoccus_zhejiangensis.fna.gz...\n",
      "Decompressed to genomes/Paracoccus_zhejiangensis.fna\n"
     ]
    },
    {
     "name": "stderr",
     "output_type": "stream",
     "text": [
      "Overall Genome Download Progress:  65%|██████▍   | 127/196 [10:45<05:39,  4.92s/it]"
     ]
    },
    {
     "name": "stdout",
     "output_type": "stream",
     "text": [
      "\n",
      "Processing species: Plautia stali symbiont\n",
      "Searching for 'Plautia stali symbiont' with term: '\"Plautia stali symbiont\"[Organism] AND \"complete genome\"[Assembly Level]'\n",
      "Found assembly ID: 163881 for Plautia stali symbiont\n",
      "Attempting to download from: ftp://ftp.ncbi.nlm.nih.gov/genomes/all/GCF/000/180/175/GCF_000180175.2_ASM18017v2/GCF_000180175.2_ASM18017v2_genomic.fna.gz\n",
      "Using wget for FTP download: ftp://ftp.ncbi.nlm.nih.gov/genomes/all/GCF/000/180/175/GCF_000180175.2_ASM18017v2/GCF_000180175.2_ASM18017v2_genomic.fna.gz\n",
      "Downloaded Plautia stali symbiont to genomes/Plautia_stali_symbiont.fna.gz using wget.\n",
      "Decompressing genomes/Plautia_stali_symbiont.fna.gz...\n",
      "Decompressed to genomes/Plautia_stali_symbiont.fna\n"
     ]
    },
    {
     "name": "stderr",
     "output_type": "stream",
     "text": [
      "Overall Genome Download Progress:  65%|██████▌   | 128/196 [10:51<05:37,  4.97s/it]"
     ]
    },
    {
     "name": "stdout",
     "output_type": "stream",
     "text": [
      "\n",
      "Processing species: Pluralibacter gergoviae\n",
      "Searching for 'Pluralibacter gergoviae' with term: '\"Pluralibacter gergoviae\"[Organism] AND \"complete genome\"[Assembly Level]'\n",
      "Found assembly ID: 66540668 for Pluralibacter gergoviae\n",
      "Attempting to download from: ftp://ftp.ncbi.nlm.nih.gov/genomes/all/GCF/045/519/195/GCF_045519195.1_ASM4551919v1/GCF_045519195.1_ASM4551919v1_genomic.fna.gz\n",
      "Using wget for FTP download: ftp://ftp.ncbi.nlm.nih.gov/genomes/all/GCF/045/519/195/GCF_045519195.1_ASM4551919v1/GCF_045519195.1_ASM4551919v1_genomic.fna.gz\n",
      "Downloaded Pluralibacter gergoviae to genomes/Pluralibacter_gergoviae.fna.gz using wget.\n",
      "Decompressing genomes/Pluralibacter_gergoviae.fna.gz...\n",
      "Decompressed to genomes/Pluralibacter_gergoviae.fna\n"
     ]
    },
    {
     "name": "stderr",
     "output_type": "stream",
     "text": [
      "Overall Genome Download Progress:  66%|██████▌   | 129/196 [10:56<05:35,  5.01s/it]"
     ]
    },
    {
     "name": "stdout",
     "output_type": "stream",
     "text": [
      "\n",
      "Processing species: Polaromonas naphthalenivorans\n",
      "Searching for 'Polaromonas naphthalenivorans' with term: '\"Polaromonas naphthalenivorans\"[Organism] AND \"complete genome\"[Assembly Level]'\n",
      "Found assembly ID: 36608 for Polaromonas naphthalenivorans\n",
      "Attempting to download from: ftp://ftp.ncbi.nlm.nih.gov/genomes/all/GCF/000/015/505/GCF_000015505.1_ASM1550v1/GCF_000015505.1_ASM1550v1_genomic.fna.gz\n",
      "Using wget for FTP download: ftp://ftp.ncbi.nlm.nih.gov/genomes/all/GCF/000/015/505/GCF_000015505.1_ASM1550v1/GCF_000015505.1_ASM1550v1_genomic.fna.gz\n",
      "Downloaded Polaromonas naphthalenivorans to genomes/Polaromonas_naphthalenivorans.fna.gz using wget.\n",
      "Decompressing genomes/Polaromonas_naphthalenivorans.fna.gz...\n",
      "Decompressed to genomes/Polaromonas_naphthalenivorans.fna\n"
     ]
    },
    {
     "name": "stderr",
     "output_type": "stream",
     "text": [
      "Overall Genome Download Progress:  66%|██████▋   | 130/196 [11:01<05:32,  5.03s/it]"
     ]
    },
    {
     "name": "stdout",
     "output_type": "stream",
     "text": [
      "\n",
      "Processing species: Propionibacterium sp. oral taxon 193\n",
      "Searching for 'Propionibacterium sp. oral taxon 193' with term: '\"Propionibacterium sp. oral taxon 193\"[Organism] AND \"complete genome\"[Assembly Level]'\n",
      "Found assembly ID: 10752681 for Propionibacterium sp. oral taxon 193\n",
      "Attempting to download from: ftp://ftp.ncbi.nlm.nih.gov/genomes/all/GCF/019/704/575/GCF_019704575.1_ASM1970457v1/GCF_019704575.1_ASM1970457v1_genomic.fna.gz\n",
      "Using wget for FTP download: ftp://ftp.ncbi.nlm.nih.gov/genomes/all/GCF/019/704/575/GCF_019704575.1_ASM1970457v1/GCF_019704575.1_ASM1970457v1_genomic.fna.gz\n",
      "Downloaded Propionibacterium sp. oral taxon 193 to genomes/Propionibacterium_sp._oral_taxon_193.fna.gz using wget.\n",
      "Decompressing genomes/Propionibacterium_sp._oral_taxon_193.fna.gz...\n",
      "Decompressed to genomes/Propionibacterium_sp._oral_taxon_193.fna\n"
     ]
    },
    {
     "name": "stderr",
     "output_type": "stream",
     "text": [
      "Overall Genome Download Progress:  67%|██████▋   | 131/196 [11:05<05:18,  4.91s/it]"
     ]
    },
    {
     "name": "stdout",
     "output_type": "stream",
     "text": [
      "\n",
      "Processing species: Propionibacterium virus P100A\n",
      "Searching for 'Propionibacterium virus P100A' with term: '\"Propionibacterium virus P100A\"[Organism] AND \"complete genome\"[Assembly Level]'\n",
      "Found assembly ID: 4745858 for Propionibacterium virus P100A\n",
      "Attempting to download from: ftp://ftp.ncbi.nlm.nih.gov/genomes/all/GCF/000/900/275/GCF_000900275.1_ViralProj177535/GCF_000900275.1_ViralProj177535_genomic.fna.gz\n",
      "Using wget for FTP download: ftp://ftp.ncbi.nlm.nih.gov/genomes/all/GCF/000/900/275/GCF_000900275.1_ViralProj177535/GCF_000900275.1_ViralProj177535_genomic.fna.gz\n",
      "Downloaded Propionibacterium virus P100A to genomes/Propionibacterium_virus_P100A.fna.gz using wget.\n",
      "Decompressing genomes/Propionibacterium_virus_P100A.fna.gz...\n",
      "Decompressed to genomes/Propionibacterium_virus_P100A.fna\n"
     ]
    },
    {
     "name": "stderr",
     "output_type": "stream",
     "text": [
      "Overall Genome Download Progress:  67%|██████▋   | 132/196 [11:10<05:06,  4.78s/it]"
     ]
    },
    {
     "name": "stdout",
     "output_type": "stream",
     "text": [
      "\n",
      "Processing species: Pseudomonas aeruginosa\n",
      "Searching for 'Pseudomonas aeruginosa' with term: '\"Pseudomonas aeruginosa\"[Organism] AND \"complete genome\"[Assembly Level]'\n",
      "Found assembly ID: 75170058 for Pseudomonas aeruginosa\n",
      "Attempting to download from: ftp://ftp.ncbi.nlm.nih.gov/genomes/all/GCF/051/131/675/GCF_051131675.1_ASM5113167v1/GCF_051131675.1_ASM5113167v1_genomic.fna.gz\n",
      "Using wget for FTP download: ftp://ftp.ncbi.nlm.nih.gov/genomes/all/GCF/051/131/675/GCF_051131675.1_ASM5113167v1/GCF_051131675.1_ASM5113167v1_genomic.fna.gz\n",
      "Downloaded Pseudomonas aeruginosa to genomes/Pseudomonas_aeruginosa.fna.gz using wget.\n",
      "Decompressing genomes/Pseudomonas_aeruginosa.fna.gz...\n",
      "Decompressed to genomes/Pseudomonas_aeruginosa.fna\n"
     ]
    },
    {
     "name": "stderr",
     "output_type": "stream",
     "text": [
      "Overall Genome Download Progress:  68%|██████▊   | 133/196 [11:15<05:07,  4.89s/it]"
     ]
    },
    {
     "name": "stdout",
     "output_type": "stream",
     "text": [
      "\n",
      "Processing species: Pseudomonas azotoformans\n",
      "Searching for 'Pseudomonas azotoformans' with term: '\"Pseudomonas azotoformans\"[Organism] AND \"complete genome\"[Assembly Level]'\n",
      "Found assembly ID: 12296671 for Pseudomonas azotoformans\n",
      "Attempting to download from: ftp://ftp.ncbi.nlm.nih.gov/genomes/all/GCF/022/533/565/GCF_022533565.1_ASM2253356v1/GCF_022533565.1_ASM2253356v1_genomic.fna.gz\n",
      "Using wget for FTP download: ftp://ftp.ncbi.nlm.nih.gov/genomes/all/GCF/022/533/565/GCF_022533565.1_ASM2253356v1/GCF_022533565.1_ASM2253356v1_genomic.fna.gz\n",
      "Downloaded Pseudomonas azotoformans to genomes/Pseudomonas_azotoformans.fna.gz using wget.\n",
      "Decompressing genomes/Pseudomonas_azotoformans.fna.gz...\n",
      "Decompressed to genomes/Pseudomonas_azotoformans.fna\n"
     ]
    },
    {
     "name": "stderr",
     "output_type": "stream",
     "text": [
      "Overall Genome Download Progress:  68%|██████▊   | 134/196 [11:20<05:06,  4.95s/it]"
     ]
    },
    {
     "name": "stdout",
     "output_type": "stream",
     "text": [
      "\n",
      "Processing species: Pseudomonas balearica\n",
      "Searching for 'Pseudomonas balearica' with term: '\"Pseudomonas balearica\"[Organism] AND \"complete genome\"[Assembly Level]'\n",
      "Found assembly ID: 64845348 for Pseudomonas balearica\n",
      "Attempting to download from: ftp://ftp.ncbi.nlm.nih.gov/genomes/all/GCF/044/324/715/GCF_044324715.1_ASM4432471v1/GCF_044324715.1_ASM4432471v1_genomic.fna.gz\n",
      "Using wget for FTP download: ftp://ftp.ncbi.nlm.nih.gov/genomes/all/GCF/044/324/715/GCF_044324715.1_ASM4432471v1/GCF_044324715.1_ASM4432471v1_genomic.fna.gz\n",
      "Downloaded Pseudomonas balearica to genomes/Pseudomonas_balearica.fna.gz using wget.\n",
      "Decompressing genomes/Pseudomonas_balearica.fna.gz...\n",
      "Decompressed to genomes/Pseudomonas_balearica.fna\n"
     ]
    },
    {
     "name": "stderr",
     "output_type": "stream",
     "text": [
      "Overall Genome Download Progress:  69%|██████▉   | 135/196 [11:25<05:03,  4.97s/it]"
     ]
    },
    {
     "name": "stdout",
     "output_type": "stream",
     "text": [
      "\n",
      "Processing species: Pseudomonas fluorescens\n",
      "Searching for 'Pseudomonas fluorescens' with term: '\"Pseudomonas fluorescens\"[Organism] AND \"complete genome\"[Assembly Level]'\n",
      "Found assembly ID: 72502938 for Pseudomonas fluorescens\n",
      "No FTP path found for Pseudomonas fluorescens with term '\"Pseudomonas fluorescens\"[Organism] AND \"complete genome\"[Assembly Level]'. Trying next search term.\n",
      "Searching for 'Pseudomonas fluorescens' with term: '\"Pseudomonas fluorescens\"[Organism] AND \"reference genome\"[Refseq Category]'\n",
      "Found assembly ID: 1209841 for Pseudomonas fluorescens\n",
      "Attempting to download from: ftp://ftp.ncbi.nlm.nih.gov/genomes/all/GCF/900/215/245/GCF_900215245.1_IMG-taxon_2617270901_annotated_assembly/GCF_900215245.1_IMG-taxon_2617270901_annotated_assembly_genomic.fna.gz\n",
      "Using wget for FTP download: ftp://ftp.ncbi.nlm.nih.gov/genomes/all/GCF/900/215/245/GCF_900215245.1_IMG-taxon_2617270901_annotated_assembly/GCF_900215245.1_IMG-taxon_2617270901_annotated_assembly_genomic.fna.gz\n",
      "Downloaded Pseudomonas fluorescens to genomes/Pseudomonas_fluorescens.fna.gz using wget.\n",
      "Decompressing genomes/Pseudomonas_fluorescens.fna.gz...\n",
      "Decompressed to genomes/Pseudomonas_fluorescens.fna\n"
     ]
    },
    {
     "name": "stderr",
     "output_type": "stream",
     "text": [
      "Overall Genome Download Progress:  69%|██████▉   | 136/196 [11:32<05:30,  5.51s/it]"
     ]
    },
    {
     "name": "stdout",
     "output_type": "stream",
     "text": [
      "\n",
      "Processing species: Pseudomonas fragi\n",
      "Searching for 'Pseudomonas fragi' with term: '\"Pseudomonas fragi\"[Organism] AND \"complete genome\"[Assembly Level]'\n",
      "Found assembly ID: 67476318 for Pseudomonas fragi\n",
      "Attempting to download from: ftp://ftp.ncbi.nlm.nih.gov/genomes/all/GCF/046/268/055/GCF_046268055.1_Leah_Pseudomonas_fragi_LKYC.Zb1/GCF_046268055.1_Leah_Pseudomonas_fragi_LKYC.Zb1_genomic.fna.gz\n",
      "Using wget for FTP download: ftp://ftp.ncbi.nlm.nih.gov/genomes/all/GCF/046/268/055/GCF_046268055.1_Leah_Pseudomonas_fragi_LKYC.Zb1/GCF_046268055.1_Leah_Pseudomonas_fragi_LKYC.Zb1_genomic.fna.gz\n",
      "Downloaded Pseudomonas fragi to genomes/Pseudomonas_fragi.fna.gz using wget.\n",
      "Decompressing genomes/Pseudomonas_fragi.fna.gz...\n",
      "Decompressed to genomes/Pseudomonas_fragi.fna\n"
     ]
    },
    {
     "name": "stderr",
     "output_type": "stream",
     "text": [
      "Overall Genome Download Progress:  70%|██████▉   | 137/196 [11:37<05:26,  5.53s/it]"
     ]
    },
    {
     "name": "stdout",
     "output_type": "stream",
     "text": [
      "\n",
      "Processing species: Pseudomonas koreensis\n",
      "Searching for 'Pseudomonas koreensis' with term: '\"Pseudomonas koreensis\"[Organism] AND \"complete genome\"[Assembly Level]'\n",
      "Found assembly ID: 74975828 for Pseudomonas koreensis\n",
      "Attempting to download from: ftp://ftp.ncbi.nlm.nih.gov/genomes/all/GCF/050/990/315/GCF_050990315.1_ASM5099031v1/GCF_050990315.1_ASM5099031v1_genomic.fna.gz\n",
      "Using wget for FTP download: ftp://ftp.ncbi.nlm.nih.gov/genomes/all/GCF/050/990/315/GCF_050990315.1_ASM5099031v1/GCF_050990315.1_ASM5099031v1_genomic.fna.gz\n",
      "Downloaded Pseudomonas koreensis to genomes/Pseudomonas_koreensis.fna.gz using wget.\n",
      "Decompressing genomes/Pseudomonas_koreensis.fna.gz...\n",
      "Decompressed to genomes/Pseudomonas_koreensis.fna\n"
     ]
    },
    {
     "name": "stderr",
     "output_type": "stream",
     "text": [
      "Overall Genome Download Progress:  70%|███████   | 138/196 [11:42<05:12,  5.38s/it]"
     ]
    },
    {
     "name": "stdout",
     "output_type": "stream",
     "text": [
      "\n",
      "Processing species: Pseudomonas mendocina\n",
      "Searching for 'Pseudomonas mendocina' with term: '\"Pseudomonas mendocina\"[Organism] AND \"complete genome\"[Assembly Level]'\n",
      "Found assembly ID: 67574778 for Pseudomonas mendocina\n",
      "No FTP path found for Pseudomonas mendocina with term '\"Pseudomonas mendocina\"[Organism] AND \"complete genome\"[Assembly Level]'. Trying next search term.\n",
      "Searching for 'Pseudomonas mendocina' with term: '\"Pseudomonas mendocina\"[Organism] AND \"reference genome\"[Refseq Category]'\n",
      "Found assembly ID: 644481 for Pseudomonas mendocina\n",
      "Attempting to download from: ftp://ftp.ncbi.nlm.nih.gov/genomes/all/GCF/000/733/715/GCF_000733715.2_ASM73371v2/GCF_000733715.2_ASM73371v2_genomic.fna.gz\n",
      "Using wget for FTP download: ftp://ftp.ncbi.nlm.nih.gov/genomes/all/GCF/000/733/715/GCF_000733715.2_ASM73371v2/GCF_000733715.2_ASM73371v2_genomic.fna.gz\n",
      "Downloaded Pseudomonas mendocina to genomes/Pseudomonas_mendocina.fna.gz using wget.\n",
      "Decompressing genomes/Pseudomonas_mendocina.fna.gz...\n",
      "Decompressed to genomes/Pseudomonas_mendocina.fna\n"
     ]
    },
    {
     "name": "stderr",
     "output_type": "stream",
     "text": [
      "Overall Genome Download Progress:  71%|███████   | 139/196 [11:49<05:30,  5.79s/it]"
     ]
    },
    {
     "name": "stdout",
     "output_type": "stream",
     "text": [
      "\n",
      "Processing species: Pseudomonas pseudoalcaligenes\n",
      "Searching for 'Pseudomonas pseudoalcaligenes' with term: '\"Pseudomonas pseudoalcaligenes\"[Organism] AND \"complete genome\"[Assembly Level]'\n",
      "Found assembly ID: 66036688 for Pseudomonas pseudoalcaligenes\n",
      "Attempting to download from: ftp://ftp.ncbi.nlm.nih.gov/genomes/all/GCF/045/291/465/GCF_045291465.1_ASM4529146v1/GCF_045291465.1_ASM4529146v1_genomic.fna.gz\n",
      "Using wget for FTP download: ftp://ftp.ncbi.nlm.nih.gov/genomes/all/GCF/045/291/465/GCF_045291465.1_ASM4529146v1/GCF_045291465.1_ASM4529146v1_genomic.fna.gz\n",
      "Downloaded Pseudomonas pseudoalcaligenes to genomes/Pseudomonas_pseudoalcaligenes.fna.gz using wget.\n",
      "Decompressing genomes/Pseudomonas_pseudoalcaligenes.fna.gz...\n",
      "Decompressed to genomes/Pseudomonas_pseudoalcaligenes.fna\n"
     ]
    },
    {
     "name": "stderr",
     "output_type": "stream",
     "text": [
      "Overall Genome Download Progress:  71%|███████▏  | 140/196 [11:54<05:11,  5.56s/it]"
     ]
    },
    {
     "name": "stdout",
     "output_type": "stream",
     "text": [
      "\n",
      "Processing species: Pseudomonas putida\n",
      "Searching for 'Pseudomonas putida' with term: '\"Pseudomonas putida\"[Organism] AND \"complete genome\"[Assembly Level]'\n",
      "Found assembly ID: 74975808 for Pseudomonas putida\n",
      "Attempting to download from: ftp://ftp.ncbi.nlm.nih.gov/genomes/all/GCF/050/990/305/GCF_050990305.1_ASM5099030v1/GCF_050990305.1_ASM5099030v1_genomic.fna.gz\n",
      "Using wget for FTP download: ftp://ftp.ncbi.nlm.nih.gov/genomes/all/GCF/050/990/305/GCF_050990305.1_ASM5099030v1/GCF_050990305.1_ASM5099030v1_genomic.fna.gz\n",
      "Downloaded Pseudomonas putida to genomes/Pseudomonas_putida.fna.gz using wget.\n",
      "Decompressing genomes/Pseudomonas_putida.fna.gz...\n",
      "Decompressed to genomes/Pseudomonas_putida.fna\n"
     ]
    },
    {
     "name": "stderr",
     "output_type": "stream",
     "text": [
      "Overall Genome Download Progress:  72%|███████▏  | 141/196 [11:59<04:55,  5.38s/it]"
     ]
    },
    {
     "name": "stdout",
     "output_type": "stream",
     "text": [
      "\n",
      "Processing species: Pseudomonas rhizosphaerae\n",
      "Searching for 'Pseudomonas rhizosphaerae' with term: '\"Pseudomonas rhizosphaerae\"[Organism] AND \"complete genome\"[Assembly Level]'\n",
      "Found assembly ID: 214341 for Pseudomonas rhizosphaerae\n",
      "Attempting to download from: ftp://ftp.ncbi.nlm.nih.gov/genomes/all/GCF/000/761/155/GCF_000761155.1_ASM76115v1/GCF_000761155.1_ASM76115v1_genomic.fna.gz\n",
      "Using wget for FTP download: ftp://ftp.ncbi.nlm.nih.gov/genomes/all/GCF/000/761/155/GCF_000761155.1_ASM76115v1/GCF_000761155.1_ASM76115v1_genomic.fna.gz\n",
      "Downloaded Pseudomonas rhizosphaerae to genomes/Pseudomonas_rhizosphaerae.fna.gz using wget.\n",
      "Decompressing genomes/Pseudomonas_rhizosphaerae.fna.gz...\n",
      "Decompressed to genomes/Pseudomonas_rhizosphaerae.fna\n"
     ]
    },
    {
     "name": "stderr",
     "output_type": "stream",
     "text": [
      "Overall Genome Download Progress:  72%|███████▏  | 142/196 [12:04<04:40,  5.19s/it]"
     ]
    },
    {
     "name": "stdout",
     "output_type": "stream",
     "text": [
      "\n",
      "Processing species: Pseudomonas sp. ATCC 13867\n",
      "Searching for 'Pseudomonas sp. ATCC 13867' with term: '\"Pseudomonas sp. ATCC 13867\"[Organism] AND \"complete genome\"[Assembly Level]'\n",
      "Found assembly ID: 565578 for Pseudomonas sp. ATCC 13867\n",
      "Attempting to download from: ftp://ftp.ncbi.nlm.nih.gov/genomes/all/GCF/000/349/845/GCF_000349845.1_ASM34984v1/GCF_000349845.1_ASM34984v1_genomic.fna.gz\n",
      "Using wget for FTP download: ftp://ftp.ncbi.nlm.nih.gov/genomes/all/GCF/000/349/845/GCF_000349845.1_ASM34984v1/GCF_000349845.1_ASM34984v1_genomic.fna.gz\n",
      "Downloaded Pseudomonas sp. ATCC 13867 to genomes/Pseudomonas_sp._ATCC_13867.fna.gz using wget.\n",
      "Decompressing genomes/Pseudomonas_sp._ATCC_13867.fna.gz...\n",
      "Decompressed to genomes/Pseudomonas_sp._ATCC_13867.fna\n"
     ]
    },
    {
     "name": "stderr",
     "output_type": "stream",
     "text": [
      "Overall Genome Download Progress:  73%|███████▎  | 143/196 [12:09<04:31,  5.12s/it]"
     ]
    },
    {
     "name": "stdout",
     "output_type": "stream",
     "text": [
      "\n",
      "Processing species: Pseudomonas sp. NC02\n",
      "Searching for 'Pseudomonas sp. NC02' with term: '\"Pseudomonas sp. NC02\"[Organism] AND \"complete genome\"[Assembly Level]'\n",
      "Found assembly ID: 1517781 for Pseudomonas sp. NC02\n",
      "Attempting to download from: ftp://ftp.ncbi.nlm.nih.gov/genomes/all/GCF/002/874/965/GCF_002874965.1_ASM287496v1/GCF_002874965.1_ASM287496v1_genomic.fna.gz\n",
      "Using wget for FTP download: ftp://ftp.ncbi.nlm.nih.gov/genomes/all/GCF/002/874/965/GCF_002874965.1_ASM287496v1/GCF_002874965.1_ASM287496v1_genomic.fna.gz\n",
      "Downloaded Pseudomonas sp. NC02 to genomes/Pseudomonas_sp._NC02.fna.gz using wget.\n",
      "Decompressing genomes/Pseudomonas_sp._NC02.fna.gz...\n",
      "Decompressed to genomes/Pseudomonas_sp._NC02.fna\n"
     ]
    },
    {
     "name": "stderr",
     "output_type": "stream",
     "text": [
      "Overall Genome Download Progress:  73%|███████▎  | 144/196 [12:14<04:27,  5.15s/it]"
     ]
    },
    {
     "name": "stdout",
     "output_type": "stream",
     "text": [
      "\n",
      "Processing species: Pseudomonas versuta\n",
      "Searching for 'Pseudomonas versuta' with term: '\"Pseudomonas versuta\"[Organism] AND \"complete genome\"[Assembly Level]'\n",
      "Found assembly ID: 486591 for Pseudomonas versuta\n",
      "Attempting to download from: ftp://ftp.ncbi.nlm.nih.gov/genomes/all/GCF/001/294/575/GCF_001294575.1_ASM129457v1/GCF_001294575.1_ASM129457v1_genomic.fna.gz\n",
      "Using wget for FTP download: ftp://ftp.ncbi.nlm.nih.gov/genomes/all/GCF/001/294/575/GCF_001294575.1_ASM129457v1/GCF_001294575.1_ASM129457v1_genomic.fna.gz\n",
      "Downloaded Pseudomonas versuta to genomes/Pseudomonas_versuta.fna.gz using wget.\n",
      "Decompressing genomes/Pseudomonas_versuta.fna.gz...\n",
      "Decompressed to genomes/Pseudomonas_versuta.fna\n"
     ]
    },
    {
     "name": "stderr",
     "output_type": "stream",
     "text": [
      "Overall Genome Download Progress:  74%|███████▍  | 145/196 [12:19<04:19,  5.09s/it]"
     ]
    },
    {
     "name": "stdout",
     "output_type": "stream",
     "text": [
      "\n",
      "Processing species: Psychrobacter sp. DAB_AL43B\n",
      "Searching for 'Psychrobacter sp. DAB_AL43B' with term: '\"Psychrobacter sp. DAB_AL43B\"[Organism] AND \"complete genome\"[Assembly Level]'\n",
      "Found assembly ID: 1026831 for Psychrobacter sp. DAB_AL43B\n",
      "Attempting to download from: ftp://ftp.ncbi.nlm.nih.gov/genomes/all/GCF/900/168/255/GCF_900168255.1_B431/GCF_900168255.1_B431_genomic.fna.gz\n",
      "Using wget for FTP download: ftp://ftp.ncbi.nlm.nih.gov/genomes/all/GCF/900/168/255/GCF_900168255.1_B431/GCF_900168255.1_B431_genomic.fna.gz\n",
      "Downloaded Psychrobacter sp. DAB_AL43B to genomes/Psychrobacter_sp._DAB_AL43B.fna.gz using wget.\n",
      "Decompressing genomes/Psychrobacter_sp._DAB_AL43B.fna.gz...\n",
      "Decompressed to genomes/Psychrobacter_sp._DAB_AL43B.fna\n"
     ]
    },
    {
     "name": "stderr",
     "output_type": "stream",
     "text": [
      "Overall Genome Download Progress:  74%|███████▍  | 146/196 [12:24<04:10,  5.01s/it]"
     ]
    },
    {
     "name": "stdout",
     "output_type": "stream",
     "text": [
      "\n",
      "Processing species: Ralstonia insidiosa\n",
      "Searching for 'Ralstonia insidiosa' with term: '\"Ralstonia insidiosa\"[Organism] AND \"complete genome\"[Assembly Level]'\n",
      "Found assembly ID: 74461288 for Ralstonia insidiosa\n",
      "Attempting to download from: ftp://ftp.ncbi.nlm.nih.gov/genomes/all/GCF/050/627/405/GCF_050627405.1_18a19_bc2093/GCF_050627405.1_18a19_bc2093_genomic.fna.gz\n",
      "Using wget for FTP download: ftp://ftp.ncbi.nlm.nih.gov/genomes/all/GCF/050/627/405/GCF_050627405.1_18a19_bc2093/GCF_050627405.1_18a19_bc2093_genomic.fna.gz\n",
      "Downloaded Ralstonia insidiosa to genomes/Ralstonia_insidiosa.fna.gz using wget.\n",
      "Decompressing genomes/Ralstonia_insidiosa.fna.gz...\n",
      "Decompressed to genomes/Ralstonia_insidiosa.fna\n"
     ]
    },
    {
     "name": "stderr",
     "output_type": "stream",
     "text": [
      "Overall Genome Download Progress:  75%|███████▌  | 147/196 [12:29<04:14,  5.19s/it]"
     ]
    },
    {
     "name": "stdout",
     "output_type": "stream",
     "text": [
      "\n",
      "Processing species: Ralstonia pickettii\n",
      "Searching for 'Ralstonia pickettii' with term: '\"Ralstonia pickettii\"[Organism] AND \"complete genome\"[Assembly Level]'\n",
      "Found assembly ID: 74973368 for Ralstonia pickettii\n",
      "No FTP path found for Ralstonia pickettii with term '\"Ralstonia pickettii\"[Organism] AND \"complete genome\"[Assembly Level]'. Trying next search term.\n",
      "Searching for 'Ralstonia pickettii' with term: '\"Ralstonia pickettii\"[Organism] AND \"reference genome\"[Refseq Category]'\n",
      "Found assembly ID: 4418931 for Ralstonia pickettii\n",
      "Attempting to download from: ftp://ftp.ncbi.nlm.nih.gov/genomes/all/GCF/902/374/465/GCF_902374465.1_MGYG-HGUT-01384/GCF_902374465.1_MGYG-HGUT-01384_genomic.fna.gz\n",
      "Using wget for FTP download: ftp://ftp.ncbi.nlm.nih.gov/genomes/all/GCF/902/374/465/GCF_902374465.1_MGYG-HGUT-01384/GCF_902374465.1_MGYG-HGUT-01384_genomic.fna.gz\n",
      "Downloaded Ralstonia pickettii to genomes/Ralstonia_pickettii.fna.gz using wget.\n",
      "Decompressing genomes/Ralstonia_pickettii.fna.gz...\n",
      "Decompressed to genomes/Ralstonia_pickettii.fna\n"
     ]
    },
    {
     "name": "stderr",
     "output_type": "stream",
     "text": [
      "Overall Genome Download Progress:  76%|███████▌  | 148/196 [12:36<04:29,  5.62s/it]"
     ]
    },
    {
     "name": "stdout",
     "output_type": "stream",
     "text": [
      "\n",
      "Processing species: Raoultella planticola\n",
      "Searching for 'Raoultella planticola' with term: '\"Raoultella planticola\"[Organism] AND \"complete genome\"[Assembly Level]'\n",
      "Found assembly ID: 75170178 for Raoultella planticola\n",
      "Attempting to download from: ftp://ftp.ncbi.nlm.nih.gov/genomes/all/GCF/051/131/725/GCF_051131725.1_I089/GCF_051131725.1_I089_genomic.fna.gz\n",
      "Using wget for FTP download: ftp://ftp.ncbi.nlm.nih.gov/genomes/all/GCF/051/131/725/GCF_051131725.1_I089/GCF_051131725.1_I089_genomic.fna.gz\n",
      "Downloaded Raoultella planticola to genomes/Raoultella_planticola.fna.gz using wget.\n",
      "Decompressing genomes/Raoultella_planticola.fna.gz...\n",
      "Decompressed to genomes/Raoultella_planticola.fna\n"
     ]
    },
    {
     "name": "stderr",
     "output_type": "stream",
     "text": [
      "Overall Genome Download Progress:  76%|███████▌  | 149/196 [12:41<04:16,  5.46s/it]"
     ]
    },
    {
     "name": "stdout",
     "output_type": "stream",
     "text": [
      "\n",
      "Processing species: Rathayibacter tritici\n",
      "Searching for 'Rathayibacter tritici' with term: '\"Rathayibacter tritici\"[Organism] AND \"complete genome\"[Assembly Level]'\n",
      "Found assembly ID: 738411 for Rathayibacter tritici\n",
      "Attempting to download from: ftp://ftp.ncbi.nlm.nih.gov/genomes/all/GCF/001/641/005/GCF_001641005.1_ASM164100v1/GCF_001641005.1_ASM164100v1_genomic.fna.gz\n",
      "Using wget for FTP download: ftp://ftp.ncbi.nlm.nih.gov/genomes/all/GCF/001/641/005/GCF_001641005.1_ASM164100v1/GCF_001641005.1_ASM164100v1_genomic.fna.gz\n",
      "Downloaded Rathayibacter tritici to genomes/Rathayibacter_tritici.fna.gz using wget.\n",
      "Decompressing genomes/Rathayibacter_tritici.fna.gz...\n",
      "Decompressed to genomes/Rathayibacter_tritici.fna\n"
     ]
    },
    {
     "name": "stderr",
     "output_type": "stream",
     "text": [
      "Overall Genome Download Progress:  77%|███████▋  | 150/196 [12:46<04:00,  5.24s/it]"
     ]
    },
    {
     "name": "stdout",
     "output_type": "stream",
     "text": [
      "\n",
      "Processing species: Rhodobacter sphaeroides\n",
      "Searching for 'Rhodobacter sphaeroides' with term: '\"Rhodobacter sphaeroides\"[Organism] AND \"complete genome\"[Assembly Level]'\n",
      "Found assembly ID: 72854758 for Rhodobacter sphaeroides\n",
      "Attempting to download from: ftp://ftp.ncbi.nlm.nih.gov/genomes/all/GCF/049/434/525/GCF_049434525.1_MWCSPHH2ANNA/GCF_049434525.1_MWCSPHH2ANNA_genomic.fna.gz\n",
      "Using wget for FTP download: ftp://ftp.ncbi.nlm.nih.gov/genomes/all/GCF/049/434/525/GCF_049434525.1_MWCSPHH2ANNA/GCF_049434525.1_MWCSPHH2ANNA_genomic.fna.gz\n",
      "Downloaded Rhodobacter sphaeroides to genomes/Rhodobacter_sphaeroides.fna.gz using wget.\n",
      "Decompressing genomes/Rhodobacter_sphaeroides.fna.gz...\n",
      "Decompressed to genomes/Rhodobacter_sphaeroides.fna\n"
     ]
    },
    {
     "name": "stderr",
     "output_type": "stream",
     "text": [
      "Overall Genome Download Progress:  77%|███████▋  | 151/196 [12:51<03:50,  5.13s/it]"
     ]
    },
    {
     "name": "stdout",
     "output_type": "stream",
     "text": [
      "\n",
      "Processing species: Rhodococcus erythropolis\n",
      "Searching for 'Rhodococcus erythropolis' with term: '\"Rhodococcus erythropolis\"[Organism] AND \"complete genome\"[Assembly Level]'\n",
      "Found assembly ID: 67483938 for Rhodococcus erythropolis\n",
      "Attempting to download from: ftp://ftp.ncbi.nlm.nih.gov/genomes/all/GCF/046/271/885/GCF_046271885.1_ASM4627188v1/GCF_046271885.1_ASM4627188v1_genomic.fna.gz\n",
      "Using wget for FTP download: ftp://ftp.ncbi.nlm.nih.gov/genomes/all/GCF/046/271/885/GCF_046271885.1_ASM4627188v1/GCF_046271885.1_ASM4627188v1_genomic.fna.gz\n",
      "Downloaded Rhodococcus erythropolis to genomes/Rhodococcus_erythropolis.fna.gz using wget.\n",
      "Decompressing genomes/Rhodococcus_erythropolis.fna.gz...\n",
      "Decompressed to genomes/Rhodococcus_erythropolis.fna\n"
     ]
    },
    {
     "name": "stderr",
     "output_type": "stream",
     "text": [
      "Overall Genome Download Progress:  78%|███████▊  | 152/196 [12:56<03:43,  5.08s/it]"
     ]
    },
    {
     "name": "stdout",
     "output_type": "stream",
     "text": [
      "\n",
      "Processing species: Rhodococcus sp. B7740\n",
      "Searching for 'Rhodococcus sp. B7740' with term: '\"Rhodococcus sp. B7740\"[Organism] AND \"complete genome\"[Assembly Level]'\n",
      "Found assembly ID: 312301 for Rhodococcus sp. B7740\n",
      "Attempting to download from: ftp://ftp.ncbi.nlm.nih.gov/genomes/all/GCF/000/954/115/GCF_000954115.1_ASM95411v1/GCF_000954115.1_ASM95411v1_genomic.fna.gz\n",
      "Using wget for FTP download: ftp://ftp.ncbi.nlm.nih.gov/genomes/all/GCF/000/954/115/GCF_000954115.1_ASM95411v1/GCF_000954115.1_ASM95411v1_genomic.fna.gz\n",
      "Downloaded Rhodococcus sp. B7740 to genomes/Rhodococcus_sp._B7740.fna.gz using wget.\n",
      "Decompressing genomes/Rhodococcus_sp._B7740.fna.gz...\n",
      "Decompressed to genomes/Rhodococcus_sp._B7740.fna\n"
     ]
    },
    {
     "name": "stderr",
     "output_type": "stream",
     "text": [
      "Overall Genome Download Progress:  78%|███████▊  | 153/196 [13:01<03:35,  5.01s/it]"
     ]
    },
    {
     "name": "stdout",
     "output_type": "stream",
     "text": [
      "\n",
      "Processing species: Rhodococcus sp. PBTS 1\n",
      "Searching for 'Rhodococcus sp. PBTS 1' with term: '\"Rhodococcus sp. PBTS 1\"[Organism] AND \"complete genome\"[Assembly Level]'\n",
      "Found assembly ID: 725511 for Rhodococcus sp. PBTS 1\n",
      "Attempting to download from: ftp://ftp.ncbi.nlm.nih.gov/genomes/all/GCF/001/620/025/GCF_001620025.1_ASM162002v1/GCF_001620025.1_ASM162002v1_genomic.fna.gz\n",
      "Using wget for FTP download: ftp://ftp.ncbi.nlm.nih.gov/genomes/all/GCF/001/620/025/GCF_001620025.1_ASM162002v1/GCF_001620025.1_ASM162002v1_genomic.fna.gz\n",
      "Downloaded Rhodococcus sp. PBTS 1 to genomes/Rhodococcus_sp._PBTS_1.fna.gz using wget.\n",
      "Decompressing genomes/Rhodococcus_sp._PBTS_1.fna.gz...\n",
      "Decompressed to genomes/Rhodococcus_sp._PBTS_1.fna\n"
     ]
    },
    {
     "name": "stderr",
     "output_type": "stream",
     "text": [
      "Overall Genome Download Progress:  79%|███████▊  | 154/196 [13:05<03:28,  4.98s/it]"
     ]
    },
    {
     "name": "stdout",
     "output_type": "stream",
     "text": [
      "\n",
      "Processing species: Rhodococcus sp. PBTS 2\n",
      "Searching for 'Rhodococcus sp. PBTS 2' with term: '\"Rhodococcus sp. PBTS 2\"[Organism] AND \"complete genome\"[Assembly Level]'\n",
      "Found assembly ID: 73460688 for Rhodococcus sp. PBTS 2\n",
      "Attempting to download from: ftp://ftp.ncbi.nlm.nih.gov/genomes/all/GCF/049/913/325/GCF_049913325.1_ASM4991332v1/GCF_049913325.1_ASM4991332v1_genomic.fna.gz\n",
      "Using wget for FTP download: ftp://ftp.ncbi.nlm.nih.gov/genomes/all/GCF/049/913/325/GCF_049913325.1_ASM4991332v1/GCF_049913325.1_ASM4991332v1_genomic.fna.gz\n",
      "Downloaded Rhodococcus sp. PBTS 2 to genomes/Rhodococcus_sp._PBTS_2.fna.gz using wget.\n",
      "Decompressing genomes/Rhodococcus_sp._PBTS_2.fna.gz...\n",
      "Decompressed to genomes/Rhodococcus_sp._PBTS_2.fna\n"
     ]
    },
    {
     "name": "stderr",
     "output_type": "stream",
     "text": [
      "Overall Genome Download Progress:  79%|███████▉  | 155/196 [13:10<03:23,  4.97s/it]"
     ]
    },
    {
     "name": "stdout",
     "output_type": "stream",
     "text": [
      "\n",
      "Processing species: Roseateles depolymerans\n",
      "Searching for 'Roseateles depolymerans' with term: '\"Roseateles depolymerans\"[Organism] AND \"complete genome\"[Assembly Level]'\n",
      "Found assembly ID: 603401 for Roseateles depolymerans\n",
      "Attempting to download from: ftp://ftp.ncbi.nlm.nih.gov/genomes/all/GCF/001/483/865/GCF_001483865.1_ASM148386v1/GCF_001483865.1_ASM148386v1_genomic.fna.gz\n",
      "Using wget for FTP download: ftp://ftp.ncbi.nlm.nih.gov/genomes/all/GCF/001/483/865/GCF_001483865.1_ASM148386v1/GCF_001483865.1_ASM148386v1_genomic.fna.gz\n",
      "Downloaded Roseateles depolymerans to genomes/Roseateles_depolymerans.fna.gz using wget.\n",
      "Decompressing genomes/Roseateles_depolymerans.fna.gz...\n",
      "Decompressed to genomes/Roseateles_depolymerans.fna\n"
     ]
    },
    {
     "name": "stderr",
     "output_type": "stream",
     "text": [
      "Overall Genome Download Progress:  80%|███████▉  | 156/196 [13:15<03:18,  4.96s/it]"
     ]
    },
    {
     "name": "stdout",
     "output_type": "stream",
     "text": [
      "\n",
      "Processing species: Roseomonas gilardii\n",
      "Searching for 'Roseomonas gilardii' with term: '\"Roseomonas gilardii\"[Organism] AND \"complete genome\"[Assembly Level]'\n",
      "Found assembly ID: 12576261 for Roseomonas gilardii\n",
      "Attempting to download from: ftp://ftp.ncbi.nlm.nih.gov/genomes/all/GCF/023/078/375/GCF_023078375.1_ASM2307837v1/GCF_023078375.1_ASM2307837v1_genomic.fna.gz\n",
      "Using wget for FTP download: ftp://ftp.ncbi.nlm.nih.gov/genomes/all/GCF/023/078/375/GCF_023078375.1_ASM2307837v1/GCF_023078375.1_ASM2307837v1_genomic.fna.gz\n",
      "Downloaded Roseomonas gilardii to genomes/Roseomonas_gilardii.fna.gz using wget.\n",
      "Decompressing genomes/Roseomonas_gilardii.fna.gz...\n",
      "Decompressed to genomes/Roseomonas_gilardii.fna\n"
     ]
    },
    {
     "name": "stderr",
     "output_type": "stream",
     "text": [
      "Overall Genome Download Progress:  80%|████████  | 157/196 [13:20<03:13,  4.97s/it]"
     ]
    },
    {
     "name": "stdout",
     "output_type": "stream",
     "text": [
      "\n",
      "Processing species: Roseomonas sp. FDAARGOS_362\n",
      "Searching for 'Roseomonas sp. FDAARGOS_362' with term: '\"Roseomonas sp. FDAARGOS_362\"[Organism] AND \"complete genome\"[Assembly Level]'\n",
      "Found assembly ID: 1430861 for Roseomonas sp. FDAARGOS_362\n",
      "Attempting to download from: ftp://ftp.ncbi.nlm.nih.gov/genomes/all/GCF/002/754/815/GCF_002754815.1_ASM275481v1/GCF_002754815.1_ASM275481v1_genomic.fna.gz\n",
      "Using wget for FTP download: ftp://ftp.ncbi.nlm.nih.gov/genomes/all/GCF/002/754/815/GCF_002754815.1_ASM275481v1/GCF_002754815.1_ASM275481v1_genomic.fna.gz\n",
      "Downloaded Roseomonas sp. FDAARGOS_362 to genomes/Roseomonas_sp._FDAARGOS_362.fna.gz using wget.\n",
      "Decompressing genomes/Roseomonas_sp._FDAARGOS_362.fna.gz...\n",
      "Decompressed to genomes/Roseomonas_sp._FDAARGOS_362.fna\n"
     ]
    },
    {
     "name": "stderr",
     "output_type": "stream",
     "text": [
      "Overall Genome Download Progress:  81%|████████  | 158/196 [13:26<03:15,  5.14s/it]"
     ]
    },
    {
     "name": "stdout",
     "output_type": "stream",
     "text": [
      "\n",
      "Processing species: Rothia dentocariosa\n",
      "Searching for 'Rothia dentocariosa' with term: '\"Rothia dentocariosa\"[Organism] AND \"complete genome\"[Assembly Level]'\n",
      "Found assembly ID: 69561408 for Rothia dentocariosa\n",
      "Attempting to download from: ftp://ftp.ncbi.nlm.nih.gov/genomes/all/GCF/047/218/215/GCF_047218215.1_SOSUI018_1.0/GCF_047218215.1_SOSUI018_1.0_genomic.fna.gz\n",
      "Using wget for FTP download: ftp://ftp.ncbi.nlm.nih.gov/genomes/all/GCF/047/218/215/GCF_047218215.1_SOSUI018_1.0/GCF_047218215.1_SOSUI018_1.0_genomic.fna.gz\n",
      "Downloaded Rothia dentocariosa to genomes/Rothia_dentocariosa.fna.gz using wget.\n",
      "Decompressing genomes/Rothia_dentocariosa.fna.gz...\n",
      "Decompressed to genomes/Rothia_dentocariosa.fna\n"
     ]
    },
    {
     "name": "stderr",
     "output_type": "stream",
     "text": [
      "Overall Genome Download Progress:  81%|████████  | 159/196 [13:31<03:05,  5.01s/it]"
     ]
    },
    {
     "name": "stdout",
     "output_type": "stream",
     "text": [
      "\n",
      "Processing species: Rubrobacter xylanophilus\n",
      "Searching for 'Rubrobacter xylanophilus' with term: '\"Rubrobacter xylanophilus\"[Organism] AND \"complete genome\"[Assembly Level]'\n",
      "Found assembly ID: 3913991 for Rubrobacter xylanophilus\n",
      "Attempting to download from: ftp://ftp.ncbi.nlm.nih.gov/genomes/all/GCF/007/164/525/GCF_007164525.1_ASM716452v1/GCF_007164525.1_ASM716452v1_genomic.fna.gz\n",
      "Using wget for FTP download: ftp://ftp.ncbi.nlm.nih.gov/genomes/all/GCF/007/164/525/GCF_007164525.1_ASM716452v1/GCF_007164525.1_ASM716452v1_genomic.fna.gz\n",
      "Downloaded Rubrobacter xylanophilus to genomes/Rubrobacter_xylanophilus.fna.gz using wget.\n",
      "Decompressing genomes/Rubrobacter_xylanophilus.fna.gz...\n",
      "Decompressed to genomes/Rubrobacter_xylanophilus.fna\n"
     ]
    },
    {
     "name": "stderr",
     "output_type": "stream",
     "text": [
      "Overall Genome Download Progress:  82%|████████▏ | 160/196 [13:35<02:58,  4.95s/it]"
     ]
    },
    {
     "name": "stdout",
     "output_type": "stream",
     "text": [
      "\n",
      "Processing species: Saccharomyces cerevisiae\n",
      "Searching for 'Saccharomyces cerevisiae' with term: '\"Saccharomyces cerevisiae\"[Organism] AND \"complete genome\"[Assembly Level]'\n",
      "Found assembly ID: 25610341 for Saccharomyces cerevisiae\n",
      "No FTP path found for Saccharomyces cerevisiae with term '\"Saccharomyces cerevisiae\"[Organism] AND \"complete genome\"[Assembly Level]'. Trying next search term.\n",
      "Searching for 'Saccharomyces cerevisiae' with term: '\"Saccharomyces cerevisiae\"[Organism] AND \"reference genome\"[Refseq Category]'\n",
      "Found assembly ID: 285498 for Saccharomyces cerevisiae\n",
      "Attempting to download from: ftp://ftp.ncbi.nlm.nih.gov/genomes/all/GCF/000/146/045/GCF_000146045.2_R64/GCF_000146045.2_R64_genomic.fna.gz\n",
      "Using wget for FTP download: ftp://ftp.ncbi.nlm.nih.gov/genomes/all/GCF/000/146/045/GCF_000146045.2_R64/GCF_000146045.2_R64_genomic.fna.gz\n",
      "Downloaded Saccharomyces cerevisiae to genomes/Saccharomyces_cerevisiae.fna.gz using wget.\n",
      "Decompressing genomes/Saccharomyces_cerevisiae.fna.gz...\n",
      "Decompressed to genomes/Saccharomyces_cerevisiae.fna\n"
     ]
    },
    {
     "name": "stderr",
     "output_type": "stream",
     "text": [
      "Overall Genome Download Progress:  82%|████████▏ | 161/196 [13:43<03:17,  5.65s/it]"
     ]
    },
    {
     "name": "stdout",
     "output_type": "stream",
     "text": [
      "\n",
      "Processing species: Salmonella enterica\n",
      "Searching for 'Salmonella enterica' with term: '\"Salmonella enterica\"[Organism] AND \"complete genome\"[Assembly Level]'\n",
      "Found assembly ID: 75238808 for Salmonella enterica\n",
      "No FTP path found for Salmonella enterica with term '\"Salmonella enterica\"[Organism] AND \"complete genome\"[Assembly Level]'. Trying next search term.\n",
      "Searching for 'Salmonella enterica' with term: '\"Salmonella enterica\"[Organism] AND \"reference genome\"[Refseq Category]'\n",
      "Found assembly ID: 619341 for Salmonella enterica\n",
      "Attempting to download from: ftp://ftp.ncbi.nlm.nih.gov/genomes/all/GCF/000/006/945/GCF_000006945.2_ASM694v2/GCF_000006945.2_ASM694v2_genomic.fna.gz\n",
      "Using wget for FTP download: ftp://ftp.ncbi.nlm.nih.gov/genomes/all/GCF/000/006/945/GCF_000006945.2_ASM694v2/GCF_000006945.2_ASM694v2_genomic.fna.gz\n",
      "Downloaded Salmonella enterica to genomes/Salmonella_enterica.fna.gz using wget.\n",
      "Decompressing genomes/Salmonella_enterica.fna.gz...\n",
      "Decompressed to genomes/Salmonella_enterica.fna\n"
     ]
    },
    {
     "name": "stderr",
     "output_type": "stream",
     "text": [
      "Overall Genome Download Progress:  83%|████████▎ | 162/196 [13:50<03:24,  6.00s/it]"
     ]
    },
    {
     "name": "stdout",
     "output_type": "stream",
     "text": [
      "\n",
      "Processing species: Serinicoccus sp. JLT9\n",
      "Searching for 'Serinicoccus sp. JLT9' with term: '\"Serinicoccus sp. JLT9\"[Organism] AND \"complete genome\"[Assembly Level]'\n",
      "Found assembly ID: 769321 for Serinicoccus sp. JLT9\n",
      "Attempting to download from: ftp://ftp.ncbi.nlm.nih.gov/genomes/all/GCF/001/685/415/GCF_001685415.1_ASM168541v1/GCF_001685415.1_ASM168541v1_genomic.fna.gz\n",
      "Using wget for FTP download: ftp://ftp.ncbi.nlm.nih.gov/genomes/all/GCF/001/685/415/GCF_001685415.1_ASM168541v1/GCF_001685415.1_ASM168541v1_genomic.fna.gz\n",
      "Downloaded Serinicoccus sp. JLT9 to genomes/Serinicoccus_sp._JLT9.fna.gz using wget.\n",
      "Decompressing genomes/Serinicoccus_sp._JLT9.fna.gz...\n",
      "Decompressed to genomes/Serinicoccus_sp._JLT9.fna\n"
     ]
    },
    {
     "name": "stderr",
     "output_type": "stream",
     "text": [
      "Overall Genome Download Progress:  83%|████████▎ | 163/196 [13:54<03:06,  5.65s/it]"
     ]
    },
    {
     "name": "stdout",
     "output_type": "stream",
     "text": [
      "\n",
      "Processing species: Shewanella baltica\n",
      "Searching for 'Shewanella baltica' with term: '\"Shewanella baltica\"[Organism] AND \"complete genome\"[Assembly Level]'\n",
      "Found assembly ID: 59871388 for Shewanella baltica\n",
      "No FTP path found for Shewanella baltica with term '\"Shewanella baltica\"[Organism] AND \"complete genome\"[Assembly Level]'. Trying next search term.\n",
      "Searching for 'Shewanella baltica' with term: '\"Shewanella baltica\"[Organism] AND \"reference genome\"[Refseq Category]'\n",
      "Found assembly ID: 359658 for Shewanella baltica\n",
      "Attempting to download from: ftp://ftp.ncbi.nlm.nih.gov/genomes/all/GCF/000/178/875/GCF_000178875.2_ASM17887v2/GCF_000178875.2_ASM17887v2_genomic.fna.gz\n",
      "Using wget for FTP download: ftp://ftp.ncbi.nlm.nih.gov/genomes/all/GCF/000/178/875/GCF_000178875.2_ASM17887v2/GCF_000178875.2_ASM17887v2_genomic.fna.gz\n",
      "Downloaded Shewanella baltica to genomes/Shewanella_baltica.fna.gz using wget.\n",
      "Decompressing genomes/Shewanella_baltica.fna.gz...\n",
      "Decompressed to genomes/Shewanella_baltica.fna\n"
     ]
    },
    {
     "name": "stderr",
     "output_type": "stream",
     "text": [
      "Overall Genome Download Progress:  84%|████████▎ | 164/196 [14:01<03:11,  5.99s/it]"
     ]
    },
    {
     "name": "stdout",
     "output_type": "stream",
     "text": [
      "\n",
      "Processing species: Solibacillus silvestris\n",
      "Searching for 'Solibacillus silvestris' with term: '\"Solibacillus silvestris\"[Organism] AND \"complete genome\"[Assembly Level]'\n",
      "Found assembly ID: 659531 for Solibacillus silvestris\n",
      "Attempting to download from: ftp://ftp.ncbi.nlm.nih.gov/genomes/all/GCF/001/586/195/GCF_001586195.1_ASM158619v1/GCF_001586195.1_ASM158619v1_genomic.fna.gz\n",
      "Using wget for FTP download: ftp://ftp.ncbi.nlm.nih.gov/genomes/all/GCF/001/586/195/GCF_001586195.1_ASM158619v1/GCF_001586195.1_ASM158619v1_genomic.fna.gz\n",
      "Downloaded Solibacillus silvestris to genomes/Solibacillus_silvestris.fna.gz using wget.\n",
      "Decompressing genomes/Solibacillus_silvestris.fna.gz...\n",
      "Decompressed to genomes/Solibacillus_silvestris.fna\n"
     ]
    },
    {
     "name": "stderr",
     "output_type": "stream",
     "text": [
      "Overall Genome Download Progress:  84%|████████▍ | 165/196 [14:06<02:57,  5.72s/it]"
     ]
    },
    {
     "name": "stdout",
     "output_type": "stream",
     "text": [
      "\n",
      "Processing species: Sphingomonas melonis\n",
      "Searching for 'Sphingomonas melonis' with term: '\"Sphingomonas melonis\"[Organism] AND \"complete genome\"[Assembly Level]'\n",
      "Found assembly ID: 1303361 for Sphingomonas melonis\n",
      "Attempting to download from: ftp://ftp.ncbi.nlm.nih.gov/genomes/all/GCF/002/504/265/GCF_002504265.1_ASM250426v1/GCF_002504265.1_ASM250426v1_genomic.fna.gz\n",
      "Using wget for FTP download: ftp://ftp.ncbi.nlm.nih.gov/genomes/all/GCF/002/504/265/GCF_002504265.1_ASM250426v1/GCF_002504265.1_ASM250426v1_genomic.fna.gz\n",
      "Downloaded Sphingomonas melonis to genomes/Sphingomonas_melonis.fna.gz using wget.\n",
      "Decompressing genomes/Sphingomonas_melonis.fna.gz...\n",
      "Decompressed to genomes/Sphingomonas_melonis.fna\n"
     ]
    },
    {
     "name": "stderr",
     "output_type": "stream",
     "text": [
      "Overall Genome Download Progress:  85%|████████▍ | 166/196 [14:11<02:44,  5.48s/it]"
     ]
    },
    {
     "name": "stdout",
     "output_type": "stream",
     "text": [
      "\n",
      "Processing species: Sphingopyxis macrogoltabida\n",
      "Searching for 'Sphingopyxis macrogoltabida' with term: '\"Sphingopyxis macrogoltabida\"[Organism] AND \"complete genome\"[Assembly Level]'\n",
      "Found assembly ID: 716291 for Sphingopyxis macrogoltabida\n",
      "Attempting to download from: ftp://ftp.ncbi.nlm.nih.gov/genomes/all/GCF/001/610/995/GCF_001610995.1_ASM161099v1/GCF_001610995.1_ASM161099v1_genomic.fna.gz\n",
      "Using wget for FTP download: ftp://ftp.ncbi.nlm.nih.gov/genomes/all/GCF/001/610/995/GCF_001610995.1_ASM161099v1/GCF_001610995.1_ASM161099v1_genomic.fna.gz\n",
      "Downloaded Sphingopyxis macrogoltabida to genomes/Sphingopyxis_macrogoltabida.fna.gz using wget.\n",
      "Decompressing genomes/Sphingopyxis_macrogoltabida.fna.gz...\n",
      "Decompressed to genomes/Sphingopyxis_macrogoltabida.fna\n"
     ]
    },
    {
     "name": "stderr",
     "output_type": "stream",
     "text": [
      "Overall Genome Download Progress:  85%|████████▌ | 167/196 [14:16<02:33,  5.30s/it]"
     ]
    },
    {
     "name": "stdout",
     "output_type": "stream",
     "text": [
      "\n",
      "Processing species: Spirosoma sp. HA7\n",
      "Searching for 'Spirosoma sp. HA7' with term: '\"Spirosoma sp. HA7\"[Organism] AND \"complete genome\"[Assembly Level]'\n",
      "Found assembly ID: 1469651 for Spirosoma sp. HA7\n",
      "Attempting to download from: ftp://ftp.ncbi.nlm.nih.gov/genomes/all/GCF/002/831/565/GCF_002831565.1_ASM283156v1/GCF_002831565.1_ASM283156v1_genomic.fna.gz\n",
      "Using wget for FTP download: ftp://ftp.ncbi.nlm.nih.gov/genomes/all/GCF/002/831/565/GCF_002831565.1_ASM283156v1/GCF_002831565.1_ASM283156v1_genomic.fna.gz\n",
      "Downloaded Spirosoma sp. HA7 to genomes/Spirosoma_sp._HA7.fna.gz using wget.\n",
      "Decompressing genomes/Spirosoma_sp._HA7.fna.gz...\n",
      "Decompressed to genomes/Spirosoma_sp._HA7.fna\n"
     ]
    },
    {
     "name": "stderr",
     "output_type": "stream",
     "text": [
      "Overall Genome Download Progress:  86%|████████▌ | 168/196 [14:21<02:25,  5.18s/it]"
     ]
    },
    {
     "name": "stdout",
     "output_type": "stream",
     "text": [
      "\n",
      "Processing species: Staphylococcus aureus\n",
      "Searching for 'Staphylococcus aureus' with term: '\"Staphylococcus aureus\"[Organism] AND \"complete genome\"[Assembly Level]'\n",
      "Found assembly ID: 75170638 for Staphylococcus aureus\n",
      "Attempting to download from: ftp://ftp.ncbi.nlm.nih.gov/genomes/all/GCF/051/131/885/GCF_051131885.1_ASM5113188v1/GCF_051131885.1_ASM5113188v1_genomic.fna.gz\n",
      "Using wget for FTP download: ftp://ftp.ncbi.nlm.nih.gov/genomes/all/GCF/051/131/885/GCF_051131885.1_ASM5113188v1/GCF_051131885.1_ASM5113188v1_genomic.fna.gz\n",
      "Downloaded Staphylococcus aureus to genomes/Staphylococcus_aureus.fna.gz using wget.\n",
      "Decompressing genomes/Staphylococcus_aureus.fna.gz...\n",
      "Decompressed to genomes/Staphylococcus_aureus.fna\n"
     ]
    },
    {
     "name": "stderr",
     "output_type": "stream",
     "text": [
      "Overall Genome Download Progress:  86%|████████▌ | 169/196 [14:26<02:17,  5.08s/it]"
     ]
    },
    {
     "name": "stdout",
     "output_type": "stream",
     "text": [
      "\n",
      "Processing species: Staphylococcus capitis\n",
      "Searching for 'Staphylococcus capitis' with term: '\"Staphylococcus capitis\"[Organism] AND \"complete genome\"[Assembly Level]'\n",
      "Found assembly ID: 74870798 for Staphylococcus capitis\n",
      "Attempting to download from: ftp://ftp.ncbi.nlm.nih.gov/genomes/all/GCF/050/916/415/GCF_050916415.1_JFBB_Scap_D3/GCF_050916415.1_JFBB_Scap_D3_genomic.fna.gz\n",
      "Using wget for FTP download: ftp://ftp.ncbi.nlm.nih.gov/genomes/all/GCF/050/916/415/GCF_050916415.1_JFBB_Scap_D3/GCF_050916415.1_JFBB_Scap_D3_genomic.fna.gz\n",
      "Downloaded Staphylococcus capitis to genomes/Staphylococcus_capitis.fna.gz using wget.\n",
      "Decompressing genomes/Staphylococcus_capitis.fna.gz...\n",
      "Decompressed to genomes/Staphylococcus_capitis.fna\n"
     ]
    },
    {
     "name": "stderr",
     "output_type": "stream",
     "text": [
      "Overall Genome Download Progress:  87%|████████▋ | 170/196 [14:30<02:09,  4.97s/it]"
     ]
    },
    {
     "name": "stdout",
     "output_type": "stream",
     "text": [
      "\n",
      "Processing species: Staphylococcus epidermidis\n",
      "Searching for 'Staphylococcus epidermidis' with term: '\"Staphylococcus epidermidis\"[Organism] AND \"complete genome\"[Assembly Level]'\n",
      "Found assembly ID: 75018758 for Staphylococcus epidermidis\n",
      "Attempting to download from: ftp://ftp.ncbi.nlm.nih.gov/genomes/all/GCF/051/020/505/GCF_051020505.1_ASM5102050v1/GCF_051020505.1_ASM5102050v1_genomic.fna.gz\n",
      "Using wget for FTP download: ftp://ftp.ncbi.nlm.nih.gov/genomes/all/GCF/051/020/505/GCF_051020505.1_ASM5102050v1/GCF_051020505.1_ASM5102050v1_genomic.fna.gz\n",
      "Downloaded Staphylococcus epidermidis to genomes/Staphylococcus_epidermidis.fna.gz using wget.\n",
      "Decompressing genomes/Staphylococcus_epidermidis.fna.gz...\n",
      "Decompressed to genomes/Staphylococcus_epidermidis.fna\n"
     ]
    },
    {
     "name": "stderr",
     "output_type": "stream",
     "text": [
      "Overall Genome Download Progress:  87%|████████▋ | 171/196 [14:35<02:03,  4.93s/it]"
     ]
    },
    {
     "name": "stdout",
     "output_type": "stream",
     "text": [
      "\n",
      "Processing species: Staphylococcus haemolyticus\n",
      "Searching for 'Staphylococcus haemolyticus' with term: '\"Staphylococcus haemolyticus\"[Organism] AND \"complete genome\"[Assembly Level]'\n",
      "Found assembly ID: 72605698 for Staphylococcus haemolyticus\n",
      "Attempting to download from: ftp://ftp.ncbi.nlm.nih.gov/genomes/all/GCF/049/262/575/GCF_049262575.1_ASM4926257v1/GCF_049262575.1_ASM4926257v1_genomic.fna.gz\n",
      "Using wget for FTP download: ftp://ftp.ncbi.nlm.nih.gov/genomes/all/GCF/049/262/575/GCF_049262575.1_ASM4926257v1/GCF_049262575.1_ASM4926257v1_genomic.fna.gz\n",
      "Downloaded Staphylococcus haemolyticus to genomes/Staphylococcus_haemolyticus.fna.gz using wget.\n",
      "Decompressing genomes/Staphylococcus_haemolyticus.fna.gz...\n",
      "Decompressed to genomes/Staphylococcus_haemolyticus.fna\n"
     ]
    },
    {
     "name": "stderr",
     "output_type": "stream",
     "text": [
      "Overall Genome Download Progress:  88%|████████▊ | 172/196 [14:40<01:58,  4.96s/it]"
     ]
    },
    {
     "name": "stdout",
     "output_type": "stream",
     "text": [
      "\n",
      "Processing species: Staphylococcus hominis\n",
      "Searching for 'Staphylococcus hominis' with term: '\"Staphylococcus hominis\"[Organism] AND \"complete genome\"[Assembly Level]'\n",
      "Found assembly ID: 75192858 for Staphylococcus hominis\n",
      "Attempting to download from: ftp://ftp.ncbi.nlm.nih.gov/genomes/all/GCF/051/144/915/GCF_051144915.1_ASM5114491v1/GCF_051144915.1_ASM5114491v1_genomic.fna.gz\n",
      "Using wget for FTP download: ftp://ftp.ncbi.nlm.nih.gov/genomes/all/GCF/051/144/915/GCF_051144915.1_ASM5114491v1/GCF_051144915.1_ASM5114491v1_genomic.fna.gz\n",
      "Downloaded Staphylococcus hominis to genomes/Staphylococcus_hominis.fna.gz using wget.\n",
      "Decompressing genomes/Staphylococcus_hominis.fna.gz...\n",
      "Decompressed to genomes/Staphylococcus_hominis.fna\n"
     ]
    },
    {
     "name": "stderr",
     "output_type": "stream",
     "text": [
      "Overall Genome Download Progress:  88%|████████▊ | 173/196 [14:45<01:52,  4.88s/it]"
     ]
    },
    {
     "name": "stdout",
     "output_type": "stream",
     "text": [
      "\n",
      "Processing species: Staphylococcus saprophyticus\n",
      "Searching for 'Staphylococcus saprophyticus' with term: '\"Staphylococcus saprophyticus\"[Organism] AND \"complete genome\"[Assembly Level]'\n",
      "Found assembly ID: 74871318 for Staphylococcus saprophyticus\n",
      "Attempting to download from: ftp://ftp.ncbi.nlm.nih.gov/genomes/all/GCF/050/916/785/GCF_050916785.1_ASM5091678v1/GCF_050916785.1_ASM5091678v1_genomic.fna.gz\n",
      "Using wget for FTP download: ftp://ftp.ncbi.nlm.nih.gov/genomes/all/GCF/050/916/785/GCF_050916785.1_ASM5091678v1/GCF_050916785.1_ASM5091678v1_genomic.fna.gz\n",
      "Downloaded Staphylococcus saprophyticus to genomes/Staphylococcus_saprophyticus.fna.gz using wget.\n",
      "Decompressing genomes/Staphylococcus_saprophyticus.fna.gz...\n",
      "Decompressed to genomes/Staphylococcus_saprophyticus.fna\n"
     ]
    },
    {
     "name": "stderr",
     "output_type": "stream",
     "text": [
      "Overall Genome Download Progress:  89%|████████▉ | 174/196 [14:50<01:46,  4.86s/it]"
     ]
    },
    {
     "name": "stdout",
     "output_type": "stream",
     "text": [
      "\n",
      "Processing species: Stenotrophomonas acidaminiphila\n",
      "Searching for 'Stenotrophomonas acidaminiphila' with term: '\"Stenotrophomonas acidaminiphila\"[Organism] AND \"complete genome\"[Assembly Level]'\n",
      "Found assembly ID: 73932518 for Stenotrophomonas acidaminiphila\n",
      "Attempting to download from: ftp://ftp.ncbi.nlm.nih.gov/genomes/all/GCF/050/310/055/GCF_050310055.1_ASM5031005v1/GCF_050310055.1_ASM5031005v1_genomic.fna.gz\n",
      "Using wget for FTP download: ftp://ftp.ncbi.nlm.nih.gov/genomes/all/GCF/050/310/055/GCF_050310055.1_ASM5031005v1/GCF_050310055.1_ASM5031005v1_genomic.fna.gz\n",
      "Downloaded Stenotrophomonas acidaminiphila to genomes/Stenotrophomonas_acidaminiphila.fna.gz using wget.\n",
      "Decompressing genomes/Stenotrophomonas_acidaminiphila.fna.gz...\n",
      "Decompressed to genomes/Stenotrophomonas_acidaminiphila.fna\n"
     ]
    },
    {
     "name": "stderr",
     "output_type": "stream",
     "text": [
      "Overall Genome Download Progress:  89%|████████▉ | 175/196 [14:55<01:43,  4.91s/it]"
     ]
    },
    {
     "name": "stdout",
     "output_type": "stream",
     "text": [
      "\n",
      "Processing species: Stenotrophomonas maltophilia\n",
      "Searching for 'Stenotrophomonas maltophilia' with term: '\"Stenotrophomonas maltophilia\"[Organism] AND \"complete genome\"[Assembly Level]'\n",
      "Found assembly ID: 75157588 for Stenotrophomonas maltophilia\n",
      "Attempting to download from: ftp://ftp.ncbi.nlm.nih.gov/genomes/all/GCF/051/122/505/GCF_051122505.1_ASM5112250v1/GCF_051122505.1_ASM5112250v1_genomic.fna.gz\n",
      "Using wget for FTP download: ftp://ftp.ncbi.nlm.nih.gov/genomes/all/GCF/051/122/505/GCF_051122505.1_ASM5112250v1/GCF_051122505.1_ASM5112250v1_genomic.fna.gz\n",
      "Downloaded Stenotrophomonas maltophilia to genomes/Stenotrophomonas_maltophilia.fna.gz using wget.\n",
      "Decompressing genomes/Stenotrophomonas_maltophilia.fna.gz...\n",
      "Decompressed to genomes/Stenotrophomonas_maltophilia.fna\n"
     ]
    },
    {
     "name": "stderr",
     "output_type": "stream",
     "text": [
      "Overall Genome Download Progress:  90%|████████▉ | 176/196 [15:00<01:37,  4.88s/it]"
     ]
    },
    {
     "name": "stdout",
     "output_type": "stream",
     "text": [
      "\n",
      "Processing species: Stenotrophomonas rhizophila\n",
      "Searching for 'Stenotrophomonas rhizophila' with term: '\"Stenotrophomonas rhizophila\"[Organism] AND \"complete genome\"[Assembly Level]'\n",
      "Found assembly ID: 74872278 for Stenotrophomonas rhizophila\n",
      "Attempting to download from: ftp://ftp.ncbi.nlm.nih.gov/genomes/all/GCF/050/917/505/GCF_050917505.1_SR/GCF_050917505.1_SR_genomic.fna.gz\n",
      "Using wget for FTP download: ftp://ftp.ncbi.nlm.nih.gov/genomes/all/GCF/050/917/505/GCF_050917505.1_SR/GCF_050917505.1_SR_genomic.fna.gz\n",
      "Downloaded Stenotrophomonas rhizophila to genomes/Stenotrophomonas_rhizophila.fna.gz using wget.\n",
      "Decompressing genomes/Stenotrophomonas_rhizophila.fna.gz...\n",
      "Decompressed to genomes/Stenotrophomonas_rhizophila.fna\n"
     ]
    },
    {
     "name": "stderr",
     "output_type": "stream",
     "text": [
      "Overall Genome Download Progress:  90%|█████████ | 177/196 [15:06<01:39,  5.26s/it]"
     ]
    },
    {
     "name": "stdout",
     "output_type": "stream",
     "text": [
      "\n",
      "Processing species: Stenotrophomonas sp. LM091\n",
      "Searching for 'Stenotrophomonas sp. LM091' with term: '\"Stenotrophomonas sp. LM091\"[Organism] AND \"complete genome\"[Assembly Level]'\n",
      "Found assembly ID: 836051 for Stenotrophomonas sp. LM091\n",
      "Attempting to download from: ftp://ftp.ncbi.nlm.nih.gov/genomes/all/GCF/001/806/305/GCF_001806305.1_ASM180630v1/GCF_001806305.1_ASM180630v1_genomic.fna.gz\n",
      "Using wget for FTP download: ftp://ftp.ncbi.nlm.nih.gov/genomes/all/GCF/001/806/305/GCF_001806305.1_ASM180630v1/GCF_001806305.1_ASM180630v1_genomic.fna.gz\n",
      "Downloaded Stenotrophomonas sp. LM091 to genomes/Stenotrophomonas_sp._LM091.fna.gz using wget.\n",
      "Decompressing genomes/Stenotrophomonas_sp._LM091.fna.gz...\n",
      "Decompressed to genomes/Stenotrophomonas_sp._LM091.fna\n"
     ]
    },
    {
     "name": "stderr",
     "output_type": "stream",
     "text": [
      "Overall Genome Download Progress:  91%|█████████ | 178/196 [15:11<01:31,  5.09s/it]"
     ]
    },
    {
     "name": "stdout",
     "output_type": "stream",
     "text": [
      "\n",
      "Processing species: Streptococcus gordonii\n",
      "Searching for 'Streptococcus gordonii' with term: '\"Streptococcus gordonii\"[Organism] AND \"complete genome\"[Assembly Level]'\n",
      "Found assembly ID: 75062918 for Streptococcus gordonii\n",
      "Attempting to download from: ftp://ftp.ncbi.nlm.nih.gov/genomes/all/GCF/051/054/895/GCF_051054895.1_ASM5105489v1/GCF_051054895.1_ASM5105489v1_genomic.fna.gz\n",
      "Using wget for FTP download: ftp://ftp.ncbi.nlm.nih.gov/genomes/all/GCF/051/054/895/GCF_051054895.1_ASM5105489v1/GCF_051054895.1_ASM5105489v1_genomic.fna.gz\n",
      "Downloaded Streptococcus gordonii to genomes/Streptococcus_gordonii.fna.gz using wget.\n",
      "Decompressing genomes/Streptococcus_gordonii.fna.gz...\n",
      "Decompressed to genomes/Streptococcus_gordonii.fna\n"
     ]
    },
    {
     "name": "stderr",
     "output_type": "stream",
     "text": [
      "Overall Genome Download Progress:  91%|█████████▏| 179/196 [15:15<01:24,  4.97s/it]"
     ]
    },
    {
     "name": "stdout",
     "output_type": "stream",
     "text": [
      "\n",
      "Processing species: Streptococcus mitis\n",
      "Searching for 'Streptococcus mitis' with term: '\"Streptococcus mitis\"[Organism] AND \"complete genome\"[Assembly Level]'\n",
      "Found assembly ID: 74127818 for Streptococcus mitis\n",
      "Attempting to download from: ftp://ftp.ncbi.nlm.nih.gov/genomes/all/GCF/018/603/625/GCF_018603625.2_ASM1860362v2/GCF_018603625.2_ASM1860362v2_genomic.fna.gz\n",
      "Using wget for FTP download: ftp://ftp.ncbi.nlm.nih.gov/genomes/all/GCF/018/603/625/GCF_018603625.2_ASM1860362v2/GCF_018603625.2_ASM1860362v2_genomic.fna.gz\n",
      "Downloaded Streptococcus mitis to genomes/Streptococcus_mitis.fna.gz using wget.\n",
      "Decompressing genomes/Streptococcus_mitis.fna.gz...\n",
      "Decompressed to genomes/Streptococcus_mitis.fna\n"
     ]
    },
    {
     "name": "stderr",
     "output_type": "stream",
     "text": [
      "Overall Genome Download Progress:  92%|█████████▏| 180/196 [15:20<01:18,  4.88s/it]"
     ]
    },
    {
     "name": "stdout",
     "output_type": "stream",
     "text": [
      "\n",
      "Processing species: Streptococcus oralis\n",
      "Searching for 'Streptococcus oralis' with term: '\"Streptococcus oralis\"[Organism] AND \"complete genome\"[Assembly Level]'\n",
      "Found assembly ID: 75128418 for Streptococcus oralis\n",
      "Attempting to download from: ftp://ftp.ncbi.nlm.nih.gov/genomes/all/GCF/051/107/055/GCF_051107055.1_ASM5110705v1/GCF_051107055.1_ASM5110705v1_genomic.fna.gz\n",
      "Using wget for FTP download: ftp://ftp.ncbi.nlm.nih.gov/genomes/all/GCF/051/107/055/GCF_051107055.1_ASM5110705v1/GCF_051107055.1_ASM5110705v1_genomic.fna.gz\n",
      "Downloaded Streptococcus oralis to genomes/Streptococcus_oralis.fna.gz using wget.\n",
      "Decompressing genomes/Streptococcus_oralis.fna.gz...\n",
      "Decompressed to genomes/Streptococcus_oralis.fna\n"
     ]
    },
    {
     "name": "stderr",
     "output_type": "stream",
     "text": [
      "Overall Genome Download Progress:  92%|█████████▏| 181/196 [15:25<01:12,  4.84s/it]"
     ]
    },
    {
     "name": "stdout",
     "output_type": "stream",
     "text": [
      "\n",
      "Processing species: Streptococcus parasanguinis\n",
      "Searching for 'Streptococcus parasanguinis' with term: '\"Streptococcus parasanguinis\"[Organism] AND \"complete genome\"[Assembly Level]'\n",
      "Found assembly ID: 72382708 for Streptococcus parasanguinis\n",
      "Attempting to download from: ftp://ftp.ncbi.nlm.nih.gov/genomes/all/GCF/018/619/375/GCF_018619375.2_ASM1861937v2/GCF_018619375.2_ASM1861937v2_genomic.fna.gz\n",
      "Using wget for FTP download: ftp://ftp.ncbi.nlm.nih.gov/genomes/all/GCF/018/619/375/GCF_018619375.2_ASM1861937v2/GCF_018619375.2_ASM1861937v2_genomic.fna.gz\n",
      "Downloaded Streptococcus parasanguinis to genomes/Streptococcus_parasanguinis.fna.gz using wget.\n",
      "Decompressing genomes/Streptococcus_parasanguinis.fna.gz...\n",
      "Decompressed to genomes/Streptococcus_parasanguinis.fna\n"
     ]
    },
    {
     "name": "stderr",
     "output_type": "stream",
     "text": [
      "Overall Genome Download Progress:  93%|█████████▎| 182/196 [15:29<01:07,  4.82s/it]"
     ]
    },
    {
     "name": "stdout",
     "output_type": "stream",
     "text": [
      "\n",
      "Processing species: Streptococcus salivarius\n",
      "Searching for 'Streptococcus salivarius' with term: '\"Streptococcus salivarius\"[Organism] AND \"complete genome\"[Assembly Level]'\n",
      "Found assembly ID: 74129258 for Streptococcus salivarius\n",
      "Attempting to download from: ftp://ftp.ncbi.nlm.nih.gov/genomes/all/GCF/018/599/045/GCF_018599045.2_ASM1859904v2/GCF_018599045.2_ASM1859904v2_genomic.fna.gz\n",
      "Using wget for FTP download: ftp://ftp.ncbi.nlm.nih.gov/genomes/all/GCF/018/599/045/GCF_018599045.2_ASM1859904v2/GCF_018599045.2_ASM1859904v2_genomic.fna.gz\n",
      "Downloaded Streptococcus salivarius to genomes/Streptococcus_salivarius.fna.gz using wget.\n",
      "Decompressing genomes/Streptococcus_salivarius.fna.gz...\n",
      "Decompressed to genomes/Streptococcus_salivarius.fna\n"
     ]
    },
    {
     "name": "stderr",
     "output_type": "stream",
     "text": [
      "Overall Genome Download Progress:  93%|█████████▎| 183/196 [15:34<01:02,  4.81s/it]"
     ]
    },
    {
     "name": "stdout",
     "output_type": "stream",
     "text": [
      "\n",
      "Processing species: Streptococcus suis\n",
      "Searching for 'Streptococcus suis' with term: '\"Streptococcus suis\"[Organism] AND \"complete genome\"[Assembly Level]'\n",
      "Found assembly ID: 72489468 for Streptococcus suis\n",
      "Attempting to download from: ftp://ftp.ncbi.nlm.nih.gov/genomes/all/GCF/049/166/565/GCF_049166565.1_ASM4916656v1/GCF_049166565.1_ASM4916656v1_genomic.fna.gz\n",
      "Using wget for FTP download: ftp://ftp.ncbi.nlm.nih.gov/genomes/all/GCF/049/166/565/GCF_049166565.1_ASM4916656v1/GCF_049166565.1_ASM4916656v1_genomic.fna.gz\n",
      "Downloaded Streptococcus suis to genomes/Streptococcus_suis.fna.gz using wget.\n",
      "Decompressing genomes/Streptococcus_suis.fna.gz...\n",
      "Decompressed to genomes/Streptococcus_suis.fna\n"
     ]
    },
    {
     "name": "stderr",
     "output_type": "stream",
     "text": [
      "Overall Genome Download Progress:  94%|█████████▍| 184/196 [15:39<00:57,  4.79s/it]"
     ]
    },
    {
     "name": "stdout",
     "output_type": "stream",
     "text": [
      "\n",
      "Processing species: Streptococcus thermophilus\n",
      "Searching for 'Streptococcus thermophilus' with term: '\"Streptococcus thermophilus\"[Organism] AND \"complete genome\"[Assembly Level]'\n",
      "Found assembly ID: 73507928 for Streptococcus thermophilus\n",
      "No FTP path found for Streptococcus thermophilus with term '\"Streptococcus thermophilus\"[Organism] AND \"complete genome\"[Assembly Level]'. Trying next search term.\n",
      "Searching for 'Streptococcus thermophilus' with term: '\"Streptococcus thermophilus\"[Organism] AND \"reference genome\"[Refseq Category]'\n",
      "Found assembly ID: 7358851 for Streptococcus thermophilus\n",
      "Attempting to download from: ftp://ftp.ncbi.nlm.nih.gov/genomes/all/GCF/903/886/475/GCF_903886475.1_Streptococcus_thermophilus_CIRM_65/GCF_903886475.1_Streptococcus_thermophilus_CIRM_65_genomic.fna.gz\n",
      "Using wget for FTP download: ftp://ftp.ncbi.nlm.nih.gov/genomes/all/GCF/903/886/475/GCF_903886475.1_Streptococcus_thermophilus_CIRM_65/GCF_903886475.1_Streptococcus_thermophilus_CIRM_65_genomic.fna.gz\n",
      "Downloaded Streptococcus thermophilus to genomes/Streptococcus_thermophilus.fna.gz using wget.\n",
      "Decompressing genomes/Streptococcus_thermophilus.fna.gz...\n",
      "Decompressed to genomes/Streptococcus_thermophilus.fna\n"
     ]
    },
    {
     "name": "stderr",
     "output_type": "stream",
     "text": [
      "Overall Genome Download Progress:  94%|█████████▍| 185/196 [15:45<00:58,  5.31s/it]"
     ]
    },
    {
     "name": "stdout",
     "output_type": "stream",
     "text": [
      "\n",
      "Processing species: Tessaracoccus flavus\n",
      "Searching for 'Tessaracoccus flavus' with term: '\"Tessaracoccus flavus\"[Organism] AND \"complete genome\"[Assembly Level]'\n",
      "Found assembly ID: 1005081 for Tessaracoccus flavus\n",
      "Attempting to download from: ftp://ftp.ncbi.nlm.nih.gov/genomes/all/GCF/001/997/295/GCF_001997295.1_ASM199729v1/GCF_001997295.1_ASM199729v1_genomic.fna.gz\n",
      "Using wget for FTP download: ftp://ftp.ncbi.nlm.nih.gov/genomes/all/GCF/001/997/295/GCF_001997295.1_ASM199729v1/GCF_001997295.1_ASM199729v1_genomic.fna.gz\n",
      "Downloaded Tessaracoccus flavus to genomes/Tessaracoccus_flavus.fna.gz using wget.\n",
      "Decompressing genomes/Tessaracoccus_flavus.fna.gz...\n",
      "Decompressed to genomes/Tessaracoccus_flavus.fna\n"
     ]
    },
    {
     "name": "stderr",
     "output_type": "stream",
     "text": [
      "Overall Genome Download Progress:  95%|█████████▍| 186/196 [15:51<00:52,  5.25s/it]"
     ]
    },
    {
     "name": "stdout",
     "output_type": "stream",
     "text": [
      "\n",
      "Processing species: Tessaracoccus sp. T2.5-30\n",
      "Searching for 'Tessaracoccus sp. T2.5-30' with term: '\"Tessaracoccus sp. T2.5-30\"[Organism] AND \"complete genome\"[Assembly Level]'\n",
      "Found assembly ID: 1021021 for Tessaracoccus sp. T2.5-30\n",
      "Attempting to download from: ftp://ftp.ncbi.nlm.nih.gov/genomes/all/GCF/002/022/225/GCF_002022225.1_ASM202222v1/GCF_002022225.1_ASM202222v1_genomic.fna.gz\n",
      "Using wget for FTP download: ftp://ftp.ncbi.nlm.nih.gov/genomes/all/GCF/002/022/225/GCF_002022225.1_ASM202222v1/GCF_002022225.1_ASM202222v1_genomic.fna.gz\n",
      "Downloaded Tessaracoccus sp. T2.5-30 to genomes/Tessaracoccus_sp._T2.5-30.fna.gz using wget.\n",
      "Decompressing genomes/Tessaracoccus_sp._T2.5-30.fna.gz...\n",
      "Decompressed to genomes/Tessaracoccus_sp._T2.5-30.fna\n"
     ]
    },
    {
     "name": "stderr",
     "output_type": "stream",
     "text": [
      "Overall Genome Download Progress:  95%|█████████▌| 187/196 [15:55<00:46,  5.15s/it]"
     ]
    },
    {
     "name": "stdout",
     "output_type": "stream",
     "text": [
      "\n",
      "Processing species: Thielavia terrestris\n",
      "Searching for 'Thielavia terrestris' with term: '\"Thielavia terrestris\"[Organism] AND \"complete genome\"[Assembly Level]'\n",
      "Found assembly ID: 328178 for Thielavia terrestris\n",
      "Attempting to download from: ftp://ftp.ncbi.nlm.nih.gov/genomes/all/GCF/000/226/115/GCF_000226115.1_ASM22611v1/GCF_000226115.1_ASM22611v1_genomic.fna.gz\n",
      "Using wget for FTP download: ftp://ftp.ncbi.nlm.nih.gov/genomes/all/GCF/000/226/115/GCF_000226115.1_ASM22611v1/GCF_000226115.1_ASM22611v1_genomic.fna.gz\n",
      "Downloaded Thielavia terrestris to genomes/Thielavia_terrestris.fna.gz using wget.\n",
      "Decompressing genomes/Thielavia_terrestris.fna.gz...\n",
      "Decompressed to genomes/Thielavia_terrestris.fna\n"
     ]
    },
    {
     "name": "stderr",
     "output_type": "stream",
     "text": [
      "Overall Genome Download Progress:  96%|█████████▌| 188/196 [16:01<00:41,  5.24s/it]"
     ]
    },
    {
     "name": "stdout",
     "output_type": "stream",
     "text": [
      "\n",
      "Processing species: Truepera radiovictrix\n",
      "Searching for 'Truepera radiovictrix' with term: '\"Truepera radiovictrix\"[Organism] AND \"complete genome\"[Assembly Level]'\n",
      "Found assembly ID: 18395321 for Truepera radiovictrix\n",
      "Attempting to download from: ftp://ftp.ncbi.nlm.nih.gov/genomes/all/GCF/031/201/145/GCF_031201145.1_ASM3120114v1/GCF_031201145.1_ASM3120114v1_genomic.fna.gz\n",
      "Using wget for FTP download: ftp://ftp.ncbi.nlm.nih.gov/genomes/all/GCF/031/201/145/GCF_031201145.1_ASM3120114v1/GCF_031201145.1_ASM3120114v1_genomic.fna.gz\n",
      "Downloaded Truepera radiovictrix to genomes/Truepera_radiovictrix.fna.gz using wget.\n",
      "Decompressing genomes/Truepera_radiovictrix.fna.gz...\n",
      "Decompressed to genomes/Truepera_radiovictrix.fna\n"
     ]
    },
    {
     "name": "stderr",
     "output_type": "stream",
     "text": [
      "Overall Genome Download Progress:  96%|█████████▋| 189/196 [16:06<00:35,  5.11s/it]"
     ]
    },
    {
     "name": "stdout",
     "output_type": "stream",
     "text": [
      "\n",
      "Processing species: Tsukamurella sp. MH1\n",
      "Searching for 'Tsukamurella sp. MH1' with term: '\"Tsukamurella sp. MH1\"[Organism] AND \"complete genome\"[Assembly Level]'\n",
      "Found assembly ID: 60453788 for Tsukamurella sp. MH1\n",
      "Attempting to download from: ftp://ftp.ncbi.nlm.nih.gov/genomes/all/GCF/040/790/855/GCF_040790855.1_ASM4079085v1/GCF_040790855.1_ASM4079085v1_genomic.fna.gz\n",
      "Using wget for FTP download: ftp://ftp.ncbi.nlm.nih.gov/genomes/all/GCF/040/790/855/GCF_040790855.1_ASM4079085v1/GCF_040790855.1_ASM4079085v1_genomic.fna.gz\n",
      "Downloaded Tsukamurella sp. MH1 to genomes/Tsukamurella_sp._MH1.fna.gz using wget.\n",
      "Decompressing genomes/Tsukamurella_sp._MH1.fna.gz...\n",
      "Decompressed to genomes/Tsukamurella_sp._MH1.fna\n"
     ]
    },
    {
     "name": "stderr",
     "output_type": "stream",
     "text": [
      "Overall Genome Download Progress:  97%|█████████▋| 190/196 [16:11<00:30,  5.07s/it]"
     ]
    },
    {
     "name": "stdout",
     "output_type": "stream",
     "text": [
      "\n",
      "Processing species: Variovorax boronicumulans\n",
      "Searching for 'Variovorax boronicumulans' with term: '\"Variovorax boronicumulans\"[Organism] AND \"complete genome\"[Assembly Level]'\n",
      "Found assembly ID: 62915468 for Variovorax boronicumulans\n",
      "Attempting to download from: ftp://ftp.ncbi.nlm.nih.gov/genomes/all/GCF/042/698/915/GCF_042698915.1_Isolate11/GCF_042698915.1_Isolate11_genomic.fna.gz\n",
      "Using wget for FTP download: ftp://ftp.ncbi.nlm.nih.gov/genomes/all/GCF/042/698/915/GCF_042698915.1_Isolate11/GCF_042698915.1_Isolate11_genomic.fna.gz\n",
      "Downloaded Variovorax boronicumulans to genomes/Variovorax_boronicumulans.fna.gz using wget.\n",
      "Decompressing genomes/Variovorax_boronicumulans.fna.gz...\n",
      "Decompressed to genomes/Variovorax_boronicumulans.fna\n"
     ]
    },
    {
     "name": "stderr",
     "output_type": "stream",
     "text": [
      "Overall Genome Download Progress:  97%|█████████▋| 191/196 [16:16<00:25,  5.03s/it]"
     ]
    },
    {
     "name": "stdout",
     "output_type": "stream",
     "text": [
      "\n",
      "Processing species: Variovorax paradoxus\n",
      "Searching for 'Variovorax paradoxus' with term: '\"Variovorax paradoxus\"[Organism] AND \"complete genome\"[Assembly Level]'\n",
      "Found assembly ID: 74460628 for Variovorax paradoxus\n",
      "Attempting to download from: ftp://ftp.ncbi.nlm.nih.gov/genomes/all/GCF/050/627/025/GCF_050627025.1_35b25_bc2091/GCF_050627025.1_35b25_bc2091_genomic.fna.gz\n",
      "Using wget for FTP download: ftp://ftp.ncbi.nlm.nih.gov/genomes/all/GCF/050/627/025/GCF_050627025.1_35b25_bc2091/GCF_050627025.1_35b25_bc2091_genomic.fna.gz\n",
      "Downloaded Variovorax paradoxus to genomes/Variovorax_paradoxus.fna.gz using wget.\n",
      "Decompressing genomes/Variovorax_paradoxus.fna.gz...\n",
      "Decompressed to genomes/Variovorax_paradoxus.fna\n"
     ]
    },
    {
     "name": "stderr",
     "output_type": "stream",
     "text": [
      "Overall Genome Download Progress:  98%|█████████▊| 192/196 [16:20<00:19,  4.97s/it]"
     ]
    },
    {
     "name": "stdout",
     "output_type": "stream",
     "text": [
      "\n",
      "Processing species: Variovorax sp. PAMC 28711\n",
      "Searching for 'Variovorax sp. PAMC 28711' with term: '\"Variovorax sp. PAMC 28711\"[Organism] AND \"complete genome\"[Assembly Level]'\n",
      "Found assembly ID: 650381 for Variovorax sp. PAMC 28711\n",
      "Attempting to download from: ftp://ftp.ncbi.nlm.nih.gov/genomes/all/GCF/001/577/265/GCF_001577265.1_ASM157726v1/GCF_001577265.1_ASM157726v1_genomic.fna.gz\n",
      "Using wget for FTP download: ftp://ftp.ncbi.nlm.nih.gov/genomes/all/GCF/001/577/265/GCF_001577265.1_ASM157726v1/GCF_001577265.1_ASM157726v1_genomic.fna.gz\n",
      "Downloaded Variovorax sp. PAMC 28711 to genomes/Variovorax_sp._PAMC_28711.fna.gz using wget.\n",
      "Decompressing genomes/Variovorax_sp._PAMC_28711.fna.gz...\n",
      "Decompressed to genomes/Variovorax_sp._PAMC_28711.fna\n"
     ]
    },
    {
     "name": "stderr",
     "output_type": "stream",
     "text": [
      "Overall Genome Download Progress:  98%|█████████▊| 193/196 [16:26<00:15,  5.01s/it]"
     ]
    },
    {
     "name": "stdout",
     "output_type": "stream",
     "text": [
      "\n",
      "Processing species: Veillonella parvula\n",
      "Searching for 'Veillonella parvula' with term: '\"Veillonella parvula\"[Organism] AND \"complete genome\"[Assembly Level]'\n",
      "Found assembly ID: 63069998 for Veillonella parvula\n",
      "Attempting to download from: ftp://ftp.ncbi.nlm.nih.gov/genomes/all/GCF/042/850/485/GCF_042850485.1_ASM4285048v1/GCF_042850485.1_ASM4285048v1_genomic.fna.gz\n",
      "Using wget for FTP download: ftp://ftp.ncbi.nlm.nih.gov/genomes/all/GCF/042/850/485/GCF_042850485.1_ASM4285048v1/GCF_042850485.1_ASM4285048v1_genomic.fna.gz\n",
      "Downloaded Veillonella parvula to genomes/Veillonella_parvula.fna.gz using wget.\n",
      "Decompressing genomes/Veillonella_parvula.fna.gz...\n",
      "Decompressed to genomes/Veillonella_parvula.fna\n"
     ]
    },
    {
     "name": "stderr",
     "output_type": "stream",
     "text": [
      "Overall Genome Download Progress:  99%|█████████▉| 194/196 [16:30<00:09,  4.97s/it]"
     ]
    },
    {
     "name": "stdout",
     "output_type": "stream",
     "text": [
      "\n",
      "Processing species: Weissella cibaria\n",
      "Searching for 'Weissella cibaria' with term: '\"Weissella cibaria\"[Organism] AND \"complete genome\"[Assembly Level]'\n",
      "Found assembly ID: 74857108 for Weissella cibaria\n",
      "Attempting to download from: ftp://ftp.ncbi.nlm.nih.gov/genomes/all/GCF/050/908/175/GCF_050908175.1_Weissella_cibaria_strain_Xhu414/GCF_050908175.1_Weissella_cibaria_strain_Xhu414_genomic.fna.gz\n",
      "Using wget for FTP download: ftp://ftp.ncbi.nlm.nih.gov/genomes/all/GCF/050/908/175/GCF_050908175.1_Weissella_cibaria_strain_Xhu414/GCF_050908175.1_Weissella_cibaria_strain_Xhu414_genomic.fna.gz\n",
      "Downloaded Weissella cibaria to genomes/Weissella_cibaria.fna.gz using wget.\n",
      "Decompressing genomes/Weissella_cibaria.fna.gz...\n",
      "Decompressed to genomes/Weissella_cibaria.fna\n"
     ]
    },
    {
     "name": "stderr",
     "output_type": "stream",
     "text": [
      "Overall Genome Download Progress:  99%|█████████▉| 195/196 [16:35<00:04,  4.89s/it]"
     ]
    },
    {
     "name": "stdout",
     "output_type": "stream",
     "text": [
      "\n",
      "Processing species: Xanthomonas campestris\n",
      "Searching for 'Xanthomonas campestris' with term: '\"Xanthomonas campestris\"[Organism] AND \"complete genome\"[Assembly Level]'\n",
      "Found assembly ID: 71806048 for Xanthomonas campestris\n",
      "Attempting to download from: ftp://ftp.ncbi.nlm.nih.gov/genomes/all/GCF/048/595/625/GCF_048595625.1_ASM4859562v1/GCF_048595625.1_ASM4859562v1_genomic.fna.gz\n",
      "Using wget for FTP download: ftp://ftp.ncbi.nlm.nih.gov/genomes/all/GCF/048/595/625/GCF_048595625.1_ASM4859562v1/GCF_048595625.1_ASM4859562v1_genomic.fna.gz\n",
      "Downloaded Xanthomonas campestris to genomes/Xanthomonas_campestris.fna.gz using wget.\n",
      "Decompressing genomes/Xanthomonas_campestris.fna.gz...\n",
      "Decompressed to genomes/Xanthomonas_campestris.fna\n"
     ]
    },
    {
     "name": "stderr",
     "output_type": "stream",
     "text": [
      "Overall Genome Download Progress: 100%|██████████| 196/196 [16:40<00:00,  5.10s/it]\n"
     ]
    }
   ],
   "source": [
    "\n",
    "Entrez.email = \"1ms19bt011@gmail.com\" # Remember to set your actual email\n",
    "\n",
    "def download_genome(species, output_dir=\"genomes\"):\n",
    "    \"\"\"\n",
    "    Downloads the complete genome for a given species from NCBI RefSeq,\n",
    "    handling both FTP and HTTP URLs.\n",
    "\n",
    "    Args:\n",
    "        species (str): The scientific name of the species (e.g., \"Escherichia coli\").\n",
    "        output_dir (str): The directory where the genome file will be saved.\n",
    "\n",
    "    Returns:\n",
    "        bool: True if the genome was successfully downloaded and decompressed, False otherwise.\n",
    "    \"\"\"\n",
    "    os.makedirs(output_dir, exist_ok=True)\n",
    "\n",
    "    search_terms = [\n",
    "        f'\"{species}\"[Organism] AND \"complete genome\"[Assembly Level]',\n",
    "        f'\"{species}\"[Organism] AND \"reference genome\"[Refseq Category]',\n",
    "        f'\"{species}\"[Organism] AND latest[filter]',\n",
    "        f'\"{species}\"[Organism]' # Broadest term as a last resort\n",
    "    ]\n",
    "\n",
    "    for term_index, term in enumerate(search_terms):\n",
    "        print(f\"Searching for '{species}' with term: '{term}'\")\n",
    "        try:\n",
    "            # Search for latest RefSeq assembly\n",
    "            handle = Entrez.esearch(db=\"assembly\", term=term, retmax=1)\n",
    "            record = Entrez.read(handle)\n",
    "            handle.close() # Always close the handle\n",
    "\n",
    "            if record[\"IdList\"]:\n",
    "                assembly_id = record[\"IdList\"][0]\n",
    "                print(f\"Found assembly ID: {assembly_id} for {species}\")\n",
    "\n",
    "                # Fetch summary to get FTP path\n",
    "                summary_handle = Entrez.esummary(db=\"assembly\", id=assembly_id)\n",
    "                doc = Entrez.read(summary_handle)\n",
    "                summary_handle.close() # Always close the handle\n",
    "\n",
    "                ftp_path = doc[\"DocumentSummarySet\"][\"DocumentSummary\"][0][\"FtpPath_RefSeq\"]\n",
    "                if ftp_path:\n",
    "                    filename_stem = ftp_path.split(\"/\")[-1]\n",
    "                    fasta_url = f\"{ftp_path}/{filename_stem}_genomic.fna.gz\"\n",
    "                    output_gz_path = os.path.join(output_dir, f\"{species.replace(' ', '_')}.fna.gz\")\n",
    "                    output_fna_path = os.path.join(output_dir, f\"{species.replace(' ', '_')}.fna\")\n",
    "\n",
    "                    print(f\"Attempting to download from: {fasta_url}\")\n",
    "\n",
    "                    try:\n",
    "                        if fasta_url.startswith(\"ftp://\"):\n",
    "                            # Use wget for FTP paths\n",
    "                            print(f\"Using wget for FTP download: {fasta_url}\")\n",
    "                            # -q for quiet, -O for output file, --show-progress for progress bar\n",
    "                            # --no-verbose for cleaner output\n",
    "                            # Use subprocess.run for better control and error handling than os.system\n",
    "                            result = subprocess.run(\n",
    "                                [\"wget\", \"--no-verbose\", \"--show-progress\", \"-O\", output_gz_path, fasta_url],\n",
    "                                check=True, # Raise CalledProcessError if wget returns non-zero exit code\n",
    "                                capture_output=True, # Capture stdout/stderr for debugging if needed\n",
    "                                text=True # Decode stdout/stderr as text\n",
    "                            )\n",
    "                            # print(result.stdout) # Uncomment for detailed wget output\n",
    "                            # print(result.stderr) # Uncomment for detailed wget output\n",
    "                            print(f\"Downloaded {species} to {output_gz_path} using wget.\")\n",
    "                        else:\n",
    "                            # Use requests for HTTP/HTTPS paths\n",
    "                            print(f\"Using requests for HTTP/HTTPS download: {fasta_url}\")\n",
    "                            response = requests.get(fasta_url, stream=True)\n",
    "                            response.raise_for_status() # Raise an exception for HTTP errors\n",
    "\n",
    "                            total_size_in_bytes = int(response.headers.get('content-length', 0))\n",
    "                            block_size = 1024 # 1 Kibibyte\n",
    "                            progress_bar = tqdm(total=total_size_in_bytes, unit='iB', unit_scale=True, desc=f\"Downloading {species}\")\n",
    "\n",
    "                            with open(output_gz_path, 'wb') as f:\n",
    "                                for chunk in response.iter_content(chunk_size=block_size):\n",
    "                                    progress_bar.update(len(chunk))\n",
    "                                    f.write(chunk)\n",
    "                            progress_bar.close()\n",
    "\n",
    "                            if total_size_in_bytes != 0 and progress_bar.n != total_size_in_bytes:\n",
    "                                print(\"ERROR, something went wrong during download!\")\n",
    "                                return False\n",
    "                            print(f\"Downloaded {species} to {output_gz_path} using requests.\")\n",
    "\n",
    "                        # Decompress the file, regardless of how it was downloaded\n",
    "                        print(f\"Decompressing {output_gz_path}...\")\n",
    "                        with gzip.open(output_gz_path, 'rb') as f_in:\n",
    "                            with open(output_fna_path, 'wb') as f_out:\n",
    "                                f_out.write(f_in.read())\n",
    "                        os.remove(output_gz_path) # Remove the compressed file\n",
    "                        print(f\"Decompressed to {output_fna_path}\")\n",
    "                        return True\n",
    "                    except subprocess.CalledProcessError as sub_e:\n",
    "                        print(f\"wget failed for {species} from {fasta_url}: {sub_e}\")\n",
    "                        print(f\"wget stdout: {sub_e.stdout}\")\n",
    "                        print(f\"wget stderr: {sub_e.stderr}\")\n",
    "                        continue # Try next search term\n",
    "                    except requests.exceptions.RequestException as req_e:\n",
    "                        print(f\"Download failed for {species} from {fasta_url}: {req_e}\")\n",
    "                        continue # Try next search term\n",
    "                    except Exception as download_e:\n",
    "                        print(f\"An unexpected error occurred during download/decompression for {species}: {download_e}\")\n",
    "                        continue # Try next search term\n",
    "                else:\n",
    "                    print(f\"No FTP path found for {species} with term '{term}'. Trying next search term.\")\n",
    "            else:\n",
    "                print(f\"No assembly found for {species} with term '{term}'. Trying next search term.\")\n",
    "            time.sleep(1) # Small delay between Entrez calls to be polite\n",
    "        except Exception as e:\n",
    "            print(f\"Error during Entrez search for {species} with term '{term}': {e}\")\n",
    "            time.sleep(2) # Longer delay if Entrez call itself fails\n",
    "    print(f\"Failed to download genome for {species} after trying all search terms.\")\n",
    "    return False\n",
    "\n",
    "\n",
    "output_directory = \"genomes\"\n",
    "os.makedirs(output_directory, exist_ok=True)\n",
    "\n",
    "# Process each species in the list\n",
    "print(\"\\nStarting genome download process...\")\n",
    "for species in tqdm(filtered_species_list[:], desc=\"Overall Genome Download Progress\"):\n",
    "    print(f\"\\nProcessing species: {species}\")\n",
    "    success = download_genome(species, output_directory)\n",
    "    if not success:\n",
    "        print(f\"Could not download genome for {species}. Please check the species name or try again later.\")\n",
    "    time.sleep(2) # Respect NCBI rate limits between species"
   ]
  },
  {
   "cell_type": "markdown",
   "metadata": {},
   "source": [
    "## Clutering using K-means"
   ]
  },
  {
   "cell_type": "code",
   "execution_count": null,
   "metadata": {},
   "outputs": [
    {
     "data": {
      "image/png": "[encoded data removed]",
      "text/plain": [
       "<Figure size 640x480 with 1 Axes>"
      ]
     },
     "metadata": {},
     "output_type": "display_data"
    }
   ],
   "source": [
    "# Elbow method to determine ideal cluster size -> Note I am getting the cut iff to be 15.\n",
    "# Calculate inertia for k=1 to 50\n",
    "inertias = []\n",
    "for k in range(1, 50):\n",
    "    kmeans = KMeans(n_clusters=k, random_state=42)\n",
    "    kmeans.fit(np.array(microbe_data))\n",
    "    inertias.append(kmeans.inertia_)\n",
    "\n",
    "# Plot Elbow Curve\n",
    "plt.plot(range(1, 50), inertias, marker='o')\n",
    "plt.xlabel('Number of clusters (k)')\n",
    "plt.ylabel('Inertia')\n",
    "plt.title('Elbow Method')\n",
    "plt.show()"
   ]
  },
  {
   "cell_type": "code",
   "execution_count": 48,
   "metadata": {},
   "outputs": [
    {
     "data": {
      "text/html": [
       "<div>\n",
       "<style scoped>\n",
       "    .dataframe tbody tr th:only-of-type {\n",
       "        vertical-align: middle;\n",
       "    }\n",
       "\n",
       "    .dataframe tbody tr th {\n",
       "        vertical-align: top;\n",
       "    }\n",
       "\n",
       "    .dataframe thead th {\n",
       "        text-align: right;\n",
       "    }\n",
       "</style>\n",
       "<table border=\"1\" class=\"dataframe\">\n",
       "  <thead>\n",
       "    <tr style=\"text-align: right;\">\n",
       "      <th></th>\n",
       "      <th>Acidovorax ebreus</th>\n",
       "      <th>Acidovorax sp. JS42</th>\n",
       "      <th>Acidovorax sp. KKS102</th>\n",
       "      <th>Acinetobacter baumannii</th>\n",
       "      <th>Acinetobacter haemolyticus</th>\n",
       "      <th>Acinetobacter johnsonii</th>\n",
       "      <th>Acinetobacter junii</th>\n",
       "      <th>Acinetobacter pittii</th>\n",
       "      <th>Acinetobacter schindleri</th>\n",
       "      <th>Acinetobacter sp. LoGeW2-3</th>\n",
       "      <th>...</th>\n",
       "      <th>5</th>\n",
       "      <th>6</th>\n",
       "      <th>7</th>\n",
       "      <th>8</th>\n",
       "      <th>9</th>\n",
       "      <th>10</th>\n",
       "      <th>11</th>\n",
       "      <th>12</th>\n",
       "      <th>13</th>\n",
       "      <th>14</th>\n",
       "    </tr>\n",
       "  </thead>\n",
       "  <tbody>\n",
       "    <tr>\n",
       "      <th>0</th>\n",
       "      <td>0.00000</td>\n",
       "      <td>0.00000</td>\n",
       "      <td>0.00023</td>\n",
       "      <td>0.00015</td>\n",
       "      <td>0.00000</td>\n",
       "      <td>0.00006</td>\n",
       "      <td>0.00001</td>\n",
       "      <td>0.00007</td>\n",
       "      <td>0.00010</td>\n",
       "      <td>0.00005</td>\n",
       "      <td>...</td>\n",
       "      <td>0.520114</td>\n",
       "      <td>0.507450</td>\n",
       "      <td>0.550363</td>\n",
       "      <td>0.357396</td>\n",
       "      <td>0.438075</td>\n",
       "      <td>0.576814</td>\n",
       "      <td>0.709713</td>\n",
       "      <td>0.397014</td>\n",
       "      <td>0.546556</td>\n",
       "      <td>0.458343</td>\n",
       "    </tr>\n",
       "    <tr>\n",
       "      <th>1</th>\n",
       "      <td>0.00000</td>\n",
       "      <td>0.00001</td>\n",
       "      <td>0.00003</td>\n",
       "      <td>0.00028</td>\n",
       "      <td>0.00016</td>\n",
       "      <td>0.00142</td>\n",
       "      <td>0.00017</td>\n",
       "      <td>0.00013</td>\n",
       "      <td>0.00262</td>\n",
       "      <td>0.00140</td>\n",
       "      <td>...</td>\n",
       "      <td>0.634177</td>\n",
       "      <td>0.626626</td>\n",
       "      <td>0.660981</td>\n",
       "      <td>0.510492</td>\n",
       "      <td>0.572373</td>\n",
       "      <td>0.682677</td>\n",
       "      <td>0.799624</td>\n",
       "      <td>0.540779</td>\n",
       "      <td>0.659134</td>\n",
       "      <td>0.586014</td>\n",
       "    </tr>\n",
       "    <tr>\n",
       "      <th>2</th>\n",
       "      <td>0.00003</td>\n",
       "      <td>0.00000</td>\n",
       "      <td>0.00011</td>\n",
       "      <td>0.00181</td>\n",
       "      <td>0.00060</td>\n",
       "      <td>0.00274</td>\n",
       "      <td>0.00030</td>\n",
       "      <td>0.00110</td>\n",
       "      <td>0.00191</td>\n",
       "      <td>0.00132</td>\n",
       "      <td>...</td>\n",
       "      <td>0.440937</td>\n",
       "      <td>0.429635</td>\n",
       "      <td>0.468738</td>\n",
       "      <td>0.232203</td>\n",
       "      <td>0.344387</td>\n",
       "      <td>0.509370</td>\n",
       "      <td>0.656040</td>\n",
       "      <td>0.289831</td>\n",
       "      <td>0.474946</td>\n",
       "      <td>0.308459</td>\n",
       "    </tr>\n",
       "    <tr>\n",
       "      <th>3</th>\n",
       "      <td>0.00000</td>\n",
       "      <td>0.00000</td>\n",
       "      <td>0.00000</td>\n",
       "      <td>0.00002</td>\n",
       "      <td>0.00001</td>\n",
       "      <td>0.00003</td>\n",
       "      <td>0.00000</td>\n",
       "      <td>0.00000</td>\n",
       "      <td>0.00003</td>\n",
       "      <td>0.00001</td>\n",
       "      <td>...</td>\n",
       "      <td>0.574740</td>\n",
       "      <td>0.567942</td>\n",
       "      <td>0.608591</td>\n",
       "      <td>0.438463</td>\n",
       "      <td>0.508287</td>\n",
       "      <td>0.628488</td>\n",
       "      <td>0.755084</td>\n",
       "      <td>0.472688</td>\n",
       "      <td>0.604349</td>\n",
       "      <td>0.175754</td>\n",
       "    </tr>\n",
       "    <tr>\n",
       "      <th>4</th>\n",
       "      <td>0.00000</td>\n",
       "      <td>0.00000</td>\n",
       "      <td>0.00000</td>\n",
       "      <td>0.00003</td>\n",
       "      <td>0.00000</td>\n",
       "      <td>0.00000</td>\n",
       "      <td>0.00000</td>\n",
       "      <td>0.00002</td>\n",
       "      <td>0.00009</td>\n",
       "      <td>0.00001</td>\n",
       "      <td>...</td>\n",
       "      <td>0.592451</td>\n",
       "      <td>0.583026</td>\n",
       "      <td>0.620675</td>\n",
       "      <td>0.458743</td>\n",
       "      <td>0.524744</td>\n",
       "      <td>0.647001</td>\n",
       "      <td>0.766150</td>\n",
       "      <td>0.490668</td>\n",
       "      <td>0.618294</td>\n",
       "      <td>0.233432</td>\n",
       "    </tr>\n",
       "    <tr>\n",
       "      <th>...</th>\n",
       "      <td>...</td>\n",
       "      <td>...</td>\n",
       "      <td>...</td>\n",
       "      <td>...</td>\n",
       "      <td>...</td>\n",
       "      <td>...</td>\n",
       "      <td>...</td>\n",
       "      <td>...</td>\n",
       "      <td>...</td>\n",
       "      <td>...</td>\n",
       "      <td>...</td>\n",
       "      <td>...</td>\n",
       "      <td>...</td>\n",
       "      <td>...</td>\n",
       "      <td>...</td>\n",
       "      <td>...</td>\n",
       "      <td>...</td>\n",
       "      <td>...</td>\n",
       "      <td>...</td>\n",
       "      <td>...</td>\n",
       "      <td>...</td>\n",
       "    </tr>\n",
       "    <tr>\n",
       "      <th>4065</th>\n",
       "      <td>0.00044</td>\n",
       "      <td>0.00052</td>\n",
       "      <td>0.00019</td>\n",
       "      <td>0.00072</td>\n",
       "      <td>0.00015</td>\n",
       "      <td>0.01410</td>\n",
       "      <td>0.00036</td>\n",
       "      <td>0.00046</td>\n",
       "      <td>0.00052</td>\n",
       "      <td>0.00024</td>\n",
       "      <td>...</td>\n",
       "      <td>0.335675</td>\n",
       "      <td>0.498565</td>\n",
       "      <td>0.557817</td>\n",
       "      <td>0.343037</td>\n",
       "      <td>0.393140</td>\n",
       "      <td>0.592058</td>\n",
       "      <td>0.365881</td>\n",
       "      <td>0.243661</td>\n",
       "      <td>0.524719</td>\n",
       "      <td>0.498838</td>\n",
       "    </tr>\n",
       "    <tr>\n",
       "      <th>4066</th>\n",
       "      <td>0.00000</td>\n",
       "      <td>0.00000</td>\n",
       "      <td>0.00022</td>\n",
       "      <td>0.00014</td>\n",
       "      <td>0.00000</td>\n",
       "      <td>0.00019</td>\n",
       "      <td>0.00000</td>\n",
       "      <td>0.00000</td>\n",
       "      <td>0.00000</td>\n",
       "      <td>0.00000</td>\n",
       "      <td>...</td>\n",
       "      <td>0.442085</td>\n",
       "      <td>0.431791</td>\n",
       "      <td>0.489393</td>\n",
       "      <td>0.250152</td>\n",
       "      <td>0.349200</td>\n",
       "      <td>0.524742</td>\n",
       "      <td>0.648107</td>\n",
       "      <td>0.293467</td>\n",
       "      <td>0.479045</td>\n",
       "      <td>0.417771</td>\n",
       "    </tr>\n",
       "    <tr>\n",
       "      <th>4067</th>\n",
       "      <td>0.00003</td>\n",
       "      <td>0.00002</td>\n",
       "      <td>0.00002</td>\n",
       "      <td>0.00018</td>\n",
       "      <td>0.00009</td>\n",
       "      <td>0.00055</td>\n",
       "      <td>0.00006</td>\n",
       "      <td>0.00019</td>\n",
       "      <td>0.00009</td>\n",
       "      <td>0.00001</td>\n",
       "      <td>...</td>\n",
       "      <td>0.344581</td>\n",
       "      <td>0.362908</td>\n",
       "      <td>0.427041</td>\n",
       "      <td>0.068405</td>\n",
       "      <td>0.244216</td>\n",
       "      <td>0.467966</td>\n",
       "      <td>0.546102</td>\n",
       "      <td>0.112826</td>\n",
       "      <td>0.411646</td>\n",
       "      <td>0.343418</td>\n",
       "    </tr>\n",
       "    <tr>\n",
       "      <th>4068</th>\n",
       "      <td>0.00026</td>\n",
       "      <td>0.00038</td>\n",
       "      <td>0.00051</td>\n",
       "      <td>0.00009</td>\n",
       "      <td>0.00000</td>\n",
       "      <td>0.00025</td>\n",
       "      <td>0.00004</td>\n",
       "      <td>0.00010</td>\n",
       "      <td>0.00006</td>\n",
       "      <td>0.00000</td>\n",
       "      <td>...</td>\n",
       "      <td>0.350982</td>\n",
       "      <td>0.378644</td>\n",
       "      <td>0.439209</td>\n",
       "      <td>0.127634</td>\n",
       "      <td>0.271976</td>\n",
       "      <td>0.478112</td>\n",
       "      <td>0.607567</td>\n",
       "      <td>0.195769</td>\n",
       "      <td>0.424856</td>\n",
       "      <td>0.357253</td>\n",
       "    </tr>\n",
       "    <tr>\n",
       "      <th>4069</th>\n",
       "      <td>0.00044</td>\n",
       "      <td>0.00080</td>\n",
       "      <td>0.00053</td>\n",
       "      <td>0.01328</td>\n",
       "      <td>0.00040</td>\n",
       "      <td>0.00609</td>\n",
       "      <td>0.00104</td>\n",
       "      <td>0.00134</td>\n",
       "      <td>0.00056</td>\n",
       "      <td>0.00007</td>\n",
       "      <td>...</td>\n",
       "      <td>0.295813</td>\n",
       "      <td>0.400151</td>\n",
       "      <td>0.458369</td>\n",
       "      <td>0.173778</td>\n",
       "      <td>0.290370</td>\n",
       "      <td>0.497050</td>\n",
       "      <td>0.559769</td>\n",
       "      <td>0.186751</td>\n",
       "      <td>0.439941</td>\n",
       "      <td>0.379153</td>\n",
       "    </tr>\n",
       "  </tbody>\n",
       "</table>\n",
       "<p>4070 rows × 215 columns</p>\n",
       "</div>"
      ],
      "text/plain": [
       "      Acidovorax ebreus  Acidovorax sp. JS42  Acidovorax sp. KKS102  \\\n",
       "0               0.00000              0.00000                0.00023   \n",
       "1               0.00000              0.00001                0.00003   \n",
       "2               0.00003              0.00000                0.00011   \n",
       "3               0.00000              0.00000                0.00000   \n",
       "4               0.00000              0.00000                0.00000   \n",
       "...                 ...                  ...                    ...   \n",
       "4065            0.00044              0.00052                0.00019   \n",
       "4066            0.00000              0.00000                0.00022   \n",
       "4067            0.00003              0.00002                0.00002   \n",
       "4068            0.00026              0.00038                0.00051   \n",
       "4069            0.00044              0.00080                0.00053   \n",
       "\n",
       "      Acinetobacter baumannii  Acinetobacter haemolyticus  \\\n",
       "0                     0.00015                     0.00000   \n",
       "1                     0.00028                     0.00016   \n",
       "2                     0.00181                     0.00060   \n",
       "3                     0.00002                     0.00001   \n",
       "4                     0.00003                     0.00000   \n",
       "...                       ...                         ...   \n",
       "4065                  0.00072                     0.00015   \n",
       "4066                  0.00014                     0.00000   \n",
       "4067                  0.00018                     0.00009   \n",
       "4068                  0.00009                     0.00000   \n",
       "4069                  0.01328                     0.00040   \n",
       "\n",
       "      Acinetobacter johnsonii  Acinetobacter junii  Acinetobacter pittii  \\\n",
       "0                     0.00006              0.00001               0.00007   \n",
       "1                     0.00142              0.00017               0.00013   \n",
       "2                     0.00274              0.00030               0.00110   \n",
       "3                     0.00003              0.00000               0.00000   \n",
       "4                     0.00000              0.00000               0.00002   \n",
       "...                       ...                  ...                   ...   \n",
       "4065                  0.01410              0.00036               0.00046   \n",
       "4066                  0.00019              0.00000               0.00000   \n",
       "4067                  0.00055              0.00006               0.00019   \n",
       "4068                  0.00025              0.00004               0.00010   \n",
       "4069                  0.00609              0.00104               0.00134   \n",
       "\n",
       "      Acinetobacter schindleri  Acinetobacter sp. LoGeW2-3  ...         5  \\\n",
       "0                      0.00010                     0.00005  ...  0.520114   \n",
       "1                      0.00262                     0.00140  ...  0.634177   \n",
       "2                      0.00191                     0.00132  ...  0.440937   \n",
       "3                      0.00003                     0.00001  ...  0.574740   \n",
       "4                      0.00009                     0.00001  ...  0.592451   \n",
       "...                        ...                         ...  ...       ...   \n",
       "4065                   0.00052                     0.00024  ...  0.335675   \n",
       "4066                   0.00000                     0.00000  ...  0.442085   \n",
       "4067                   0.00009                     0.00001  ...  0.344581   \n",
       "4068                   0.00006                     0.00000  ...  0.350982   \n",
       "4069                   0.00056                     0.00007  ...  0.295813   \n",
       "\n",
       "             6         7         8         9        10        11        12  \\\n",
       "0     0.507450  0.550363  0.357396  0.438075  0.576814  0.709713  0.397014   \n",
       "1     0.626626  0.660981  0.510492  0.572373  0.682677  0.799624  0.540779   \n",
       "2     0.429635  0.468738  0.232203  0.344387  0.509370  0.656040  0.289831   \n",
       "3     0.567942  0.608591  0.438463  0.508287  0.628488  0.755084  0.472688   \n",
       "4     0.583026  0.620675  0.458743  0.524744  0.647001  0.766150  0.490668   \n",
       "...        ...       ...       ...       ...       ...       ...       ...   \n",
       "4065  0.498565  0.557817  0.343037  0.393140  0.592058  0.365881  0.243661   \n",
       "4066  0.431791  0.489393  0.250152  0.349200  0.524742  0.648107  0.293467   \n",
       "4067  0.362908  0.427041  0.068405  0.244216  0.467966  0.546102  0.112826   \n",
       "4068  0.378644  0.439209  0.127634  0.271976  0.478112  0.607567  0.195769   \n",
       "4069  0.400151  0.458369  0.173778  0.290370  0.497050  0.559769  0.186751   \n",
       "\n",
       "            13        14  \n",
       "0     0.546556  0.458343  \n",
       "1     0.659134  0.586014  \n",
       "2     0.474946  0.308459  \n",
       "3     0.604349  0.175754  \n",
       "4     0.618294  0.233432  \n",
       "...        ...       ...  \n",
       "4065  0.524719  0.498838  \n",
       "4066  0.479045  0.417771  \n",
       "4067  0.411646  0.343418  \n",
       "4068  0.424856  0.357253  \n",
       "4069  0.439941  0.379153  \n",
       "\n",
       "[4070 rows x 215 columns]"
      ]
     },
     "execution_count": 48,
     "metadata": {},
     "output_type": "execute_result"
    }
   ],
   "source": [
    "kmeans = KMeans(n_clusters=15, random_state=42, n_init=\"auto\").fit(np.array(microbe_data))\n",
    "kmeans.cluster_centers_\n",
    "\n",
    "\n",
    "centorid_distances = cdist(np.array(microbe_data),kmeans.cluster_centers_,\"euclidean\")\n",
    "closet_indices = np.argmin(centorid_distances,axis=0)\n",
    "\n",
    "augment_data = pd.concat([microbe_data,pd.DataFrame(centorid_distances)],axis=1)\n",
    "augment_data"
   ]
  }
 ],
 "metadata": {
  "kernelspec": {
   "display_name": "binp37_env",
   "language": "python",
   "name": "python3"
  },
  "language_info": {
   "codemirror_mode": {
    "name": "ipython",
    "version": 3
   },
   "file_extension": ".py",
   "mimetype": "text/x-python",
   "name": "python",
   "nbconvert_exporter": "python",
   "pygments_lexer": "ipython3",
   "version": "3.13.5"
  }
 },
 "nbformat": 4,
 "nbformat_minor": 2
}
